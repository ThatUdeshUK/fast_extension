{
 "cells": [
  {
   "cell_type": "code",
   "execution_count": 2,
   "metadata": {},
   "outputs": [],
   "source": [
    "import numpy as np\n",
    "import pandas as pd\n",
    "import seaborn as sns"
   ]
  },
  {
   "cell_type": "code",
   "execution_count": 3,
   "metadata": {},
   "outputs": [
    {
     "data": {
      "text/html": [
       "<div>\n",
       "<style scoped>\n",
       "    .dataframe tbody tr th:only-of-type {\n",
       "        vertical-align: middle;\n",
       "    }\n",
       "\n",
       "    .dataframe tbody tr th {\n",
       "        vertical-align: top;\n",
       "    }\n",
       "\n",
       "    .dataframe thead th {\n",
       "        text-align: right;\n",
       "    }\n",
       "</style>\n",
       "<table border=\"1\" class=\"dataframe\">\n",
       "  <thead>\n",
       "    <tr style=\"text-align: right;\">\n",
       "      <th></th>\n",
       "      <th>index</th>\n",
       "      <th>time</th>\n",
       "      <th>name</th>\n",
       "    </tr>\n",
       "  </thead>\n",
       "  <tbody>\n",
       "    <tr>\n",
       "      <th>0</th>\n",
       "      <td>0</td>\n",
       "      <td>1069457</td>\n",
       "      <td>w/o Partial Desent</td>\n",
       "    </tr>\n",
       "    <tr>\n",
       "      <th>1</th>\n",
       "      <td>1</td>\n",
       "      <td>3558049</td>\n",
       "      <td>w/o Partial Desent</td>\n",
       "    </tr>\n",
       "    <tr>\n",
       "      <th>2</th>\n",
       "      <td>2</td>\n",
       "      <td>3574524</td>\n",
       "      <td>w/o Partial Desent</td>\n",
       "    </tr>\n",
       "    <tr>\n",
       "      <th>3</th>\n",
       "      <td>3</td>\n",
       "      <td>3589325</td>\n",
       "      <td>w/o Partial Desent</td>\n",
       "    </tr>\n",
       "    <tr>\n",
       "      <th>4</th>\n",
       "      <td>4</td>\n",
       "      <td>3726367</td>\n",
       "      <td>w/o Partial Desent</td>\n",
       "    </tr>\n",
       "    <tr>\n",
       "      <th>...</th>\n",
       "      <td>...</td>\n",
       "      <td>...</td>\n",
       "      <td>...</td>\n",
       "    </tr>\n",
       "    <tr>\n",
       "      <th>94</th>\n",
       "      <td>94</td>\n",
       "      <td>8865635</td>\n",
       "      <td>w/ Partial Desent</td>\n",
       "    </tr>\n",
       "    <tr>\n",
       "      <th>95</th>\n",
       "      <td>95</td>\n",
       "      <td>8907220</td>\n",
       "      <td>w/ Partial Desent</td>\n",
       "    </tr>\n",
       "    <tr>\n",
       "      <th>96</th>\n",
       "      <td>96</td>\n",
       "      <td>8916409</td>\n",
       "      <td>w/ Partial Desent</td>\n",
       "    </tr>\n",
       "    <tr>\n",
       "      <th>97</th>\n",
       "      <td>97</td>\n",
       "      <td>8923862</td>\n",
       "      <td>w/ Partial Desent</td>\n",
       "    </tr>\n",
       "    <tr>\n",
       "      <th>98</th>\n",
       "      <td>98</td>\n",
       "      <td>8959343</td>\n",
       "      <td>w/ Partial Desent</td>\n",
       "    </tr>\n",
       "  </tbody>\n",
       "</table>\n",
       "<p>198 rows × 3 columns</p>\n",
       "</div>"
      ],
      "text/plain": [
       "    index     time                name\n",
       "0       0  1069457  w/o Partial Desent\n",
       "1       1  3558049  w/o Partial Desent\n",
       "2       2  3574524  w/o Partial Desent\n",
       "3       3  3589325  w/o Partial Desent\n",
       "4       4  3726367  w/o Partial Desent\n",
       "..    ...      ...                 ...\n",
       "94     94  8865635   w/ Partial Desent\n",
       "95     95  8907220   w/ Partial Desent\n",
       "96     96  8916409   w/ Partial Desent\n",
       "97     97  8923862   w/ Partial Desent\n",
       "98     98  8959343   w/ Partial Desent\n",
       "\n",
       "[198 rows x 3 columns]"
      ]
     },
     "execution_count": 3,
     "metadata": {},
     "output_type": "execute_result"
    }
   ],
   "source": [
    "places_res = pd.read_csv(\"../results/output_places_US_knn_lowest_timeline.csv\", names=[\"time\"]).reset_index()\n",
    "places_res['name'] = \"w/o Partial Desent\"\n",
    "places_knn_res = pd.read_csv(\"../results/output_places_US_knn_seacnn_timeline.csv\", names=[\"time\"]).reset_index()\n",
    "places_knn_res['name'] = \"w/ Partial Desent\"\n",
    "\n",
    "res = pd.concat([\n",
    "    places_res,\n",
    "    places_knn_res,\n",
    "])\n",
    "\n",
    "res"
   ]
  },
  {
   "cell_type": "code",
   "execution_count": 4,
   "metadata": {},
   "outputs": [
    {
     "data": {
      "text/plain": [
       "<AxesSubplot:xlabel='Timestamp', ylabel='Query Matching Time (nano sec)'>"
      ]
     },
     "execution_count": 4,
     "metadata": {},
     "output_type": "execute_result"
    },
    {
     "data": {
      "image/png": "[encoded data removed]",
      "text/plain": [
       "<Figure size 640x480 with 1 Axes>"
      ]
     },
     "metadata": {},
     "output_type": "display_data"
    }
   ],
   "source": [
    "search_res = res.loc[:, ['name', 'time', 'index']]\n",
    "search_res = search_res.rename(columns={\"index\": \"Timestamp\", \"time\": \"Query Matching Time (nano sec)\"})\n",
    "\n",
    "sns.lineplot(x=\"Timestamp\", y='Query Matching Time (nano sec)', style='name', data=search_res, errorbar=None, markers=True)"
   ]
  },
  {
   "cell_type": "code",
   "execution_count": null,
   "metadata": {},
   "outputs": [],
   "source": []
  }
 ],
 "metadata": {
  "kernelspec": {
   "display_name": "base",
   "language": "python",
   "name": "python3"
  },
  "language_info": {
   "codemirror_mode": {
    "name": "ipython",
    "version": 3
   },
   "file_extension": ".py",
   "mimetype": "text/x-python",
   "name": "python",
   "nbconvert_exporter": "python",
   "pygments_lexer": "ipython3",
   "version": "3.9.5"
  }
 },
 "nbformat": 4,
 "nbformat_minor": 2
}
