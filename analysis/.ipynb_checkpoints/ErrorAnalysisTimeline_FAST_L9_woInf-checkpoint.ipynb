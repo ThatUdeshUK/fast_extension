{
 "cells": [
  {
   "cell_type": "code",
   "execution_count": 1,
   "metadata": {
    "ExecuteTime": {
     "end_time": "2024-02-10T04:42:05.476463Z",
     "start_time": "2024-02-10T04:42:05.467982Z"
    }
   },
   "outputs": [],
   "source": [
    "import pandas as pd\n",
    "import numpy as np\n",
    "import seaborn as sns\n",
    "import matplotlib.pyplot as plt\n",
    "import matplotlib\n",
    "\n",
    "import warnings\n",
    "warnings.filterwarnings(\"ignore\", \"is_categorical_dtype\")\n",
    "warnings.filterwarnings(\"ignore\", \"use_inf_as_na\")\n",
    "\n",
    "font = {'size'   : 12}\n",
    "\n",
    "matplotlib.rc('font', **font)"
   ]
  },
  {
   "cell_type": "code",
   "execution_count": 2,
   "metadata": {
    "ExecuteTime": {
     "end_time": "2024-02-10T04:42:05.521527Z",
     "start_time": "2024-02-10T04:42:05.478642Z"
    },
    "collapsed": false,
    "jupyter": {
     "outputs_hidden": false
    }
   },
   "outputs": [
    {
     "data": {
      "text/html": [
       "<div>\n",
       "<style scoped>\n",
       "    .dataframe tbody tr th:only-of-type {\n",
       "        vertical-align: middle;\n",
       "    }\n",
       "\n",
       "    .dataframe tbody tr th {\n",
       "        vertical-align: top;\n",
       "    }\n",
       "\n",
       "    .dataframe thead th {\n",
       "        text-align: right;\n",
       "    }\n",
       "</style>\n",
       "<table border=\"1\" class=\"dataframe\">\n",
       "  <thead>\n",
       "    <tr style=\"text-align: right;\">\n",
       "      <th></th>\n",
       "      <th>index</th>\n",
       "      <th>name</th>\n",
       "      <th>ar</th>\n",
       "      <th>des_count</th>\n",
       "      <th>stage</th>\n",
       "      <th>time</th>\n",
       "    </tr>\n",
       "  </thead>\n",
       "  <tbody>\n",
       "    <tr>\n",
       "      <th>0</th>\n",
       "      <td>0</td>\n",
       "      <td>fast</td>\n",
       "      <td>2.646341</td>\n",
       "      <td>0</td>\n",
       "      <td>obj_search</td>\n",
       "      <td>0.884810</td>\n",
       "    </tr>\n",
       "    <tr>\n",
       "      <th>1</th>\n",
       "      <td>1</td>\n",
       "      <td>fast</td>\n",
       "      <td>17.806978</td>\n",
       "      <td>0</td>\n",
       "      <td>obj_search</td>\n",
       "      <td>5.323943</td>\n",
       "    </tr>\n",
       "    <tr>\n",
       "      <th>2</th>\n",
       "      <td>2</td>\n",
       "      <td>fast</td>\n",
       "      <td>113.705647</td>\n",
       "      <td>0</td>\n",
       "      <td>obj_search</td>\n",
       "      <td>0.144228</td>\n",
       "    </tr>\n",
       "    <tr>\n",
       "      <th>3</th>\n",
       "      <td>3</td>\n",
       "      <td>fast</td>\n",
       "      <td>9.208080</td>\n",
       "      <td>0</td>\n",
       "      <td>obj_search</td>\n",
       "      <td>0.068340</td>\n",
       "    </tr>\n",
       "    <tr>\n",
       "      <th>4</th>\n",
       "      <td>4</td>\n",
       "      <td>fast</td>\n",
       "      <td>1.264358</td>\n",
       "      <td>0</td>\n",
       "      <td>obj_search</td>\n",
       "      <td>0.195029</td>\n",
       "    </tr>\n",
       "    <tr>\n",
       "      <th>...</th>\n",
       "      <td>...</td>\n",
       "      <td>...</td>\n",
       "      <td>...</td>\n",
       "      <td>...</td>\n",
       "      <td>...</td>\n",
       "      <td>...</td>\n",
       "    </tr>\n",
       "    <tr>\n",
       "      <th>4422023</th>\n",
       "      <td>2499995</td>\n",
       "      <td>fast</td>\n",
       "      <td>0.243780</td>\n",
       "      <td>0</td>\n",
       "      <td>insert</td>\n",
       "      <td>0.001640</td>\n",
       "    </tr>\n",
       "    <tr>\n",
       "      <th>4422024</th>\n",
       "      <td>2499996</td>\n",
       "      <td>fast</td>\n",
       "      <td>3.895217</td>\n",
       "      <td>0</td>\n",
       "      <td>insert</td>\n",
       "      <td>0.001176</td>\n",
       "    </tr>\n",
       "    <tr>\n",
       "      <th>4422025</th>\n",
       "      <td>2499997</td>\n",
       "      <td>fast</td>\n",
       "      <td>8.129695</td>\n",
       "      <td>0</td>\n",
       "      <td>insert</td>\n",
       "      <td>0.003093</td>\n",
       "    </tr>\n",
       "    <tr>\n",
       "      <th>4422026</th>\n",
       "      <td>2499998</td>\n",
       "      <td>fast</td>\n",
       "      <td>70.579975</td>\n",
       "      <td>0</td>\n",
       "      <td>insert</td>\n",
       "      <td>0.002131</td>\n",
       "    </tr>\n",
       "    <tr>\n",
       "      <th>4422027</th>\n",
       "      <td>2499999</td>\n",
       "      <td>fast</td>\n",
       "      <td>1.070561</td>\n",
       "      <td>0</td>\n",
       "      <td>insert</td>\n",
       "      <td>0.001397</td>\n",
       "    </tr>\n",
       "  </tbody>\n",
       "</table>\n",
       "<p>4422028 rows × 6 columns</p>\n",
       "</div>"
      ],
      "text/plain": [
       "           index  name          ar  des_count       stage      time\n",
       "0              0  fast    2.646341          0  obj_search  0.884810\n",
       "1              1  fast   17.806978          0  obj_search  5.323943\n",
       "2              2  fast  113.705647          0  obj_search  0.144228\n",
       "3              3  fast    9.208080          0  obj_search  0.068340\n",
       "4              4  fast    1.264358          0  obj_search  0.195029\n",
       "...          ...   ...         ...        ...         ...       ...\n",
       "4422023  2499995  fast    0.243780          0      insert  0.001640\n",
       "4422024  2499996  fast    3.895217          0      insert  0.001176\n",
       "4422025  2499997  fast    8.129695          0      insert  0.003093\n",
       "4422026  2499998  fast   70.579975          0      insert  0.002131\n",
       "4422027  2499999  fast    1.070561          0      insert  0.001397\n",
       "\n",
       "[4422028 rows x 6 columns]"
      ]
     },
     "execution_count": 2,
     "metadata": {},
     "output_type": "execute_result"
    }
   ],
   "source": [
    "create_time = pd.read_csv(\"../results_03_15/FAST_KNN_NO_ObjIndex_L9_woInf_search_sub_timeline_2500000_100000.csv\", names=['obj_search', 'insert', 'ar', 'des_count']).reset_index()\n",
    "create_time['name'] = 'fast'\n",
    "create_time['obj_search'] = create_time['obj_search'] / 1000000\n",
    "create_time['insert'] = create_time['insert'] / 1000000\n",
    "create_time = create_time.melt(id_vars=['index', 'name', 'ar', 'des_count'], var_name='stage', value_name='time')\n",
    "\n",
    "create_time"
   ]
  },
  {
   "cell_type": "markdown",
   "metadata": {},
   "source": [
    "## Creation time"
   ]
  },
  {
   "cell_type": "code",
   "execution_count": null,
   "metadata": {},
   "outputs": [],
   "source": [
    "plt.figure(figsize=(16,3))\n",
    "sns.histplot(x='time', bins=500, hue='stage', multiple='layer', data=create_time)\n",
    "plt.xlabel('time (milis)')\n",
    "plt.ylim(0, 10)"
   ]
  },
  {
   "cell_type": "markdown",
   "metadata": {},
   "source": [
    "**Miserable queries**\n",
    "\n",
    "Queries that takes too much time (>100 milis). "
   ]
  },
  {
   "cell_type": "code",
   "execution_count": null,
   "metadata": {},
   "outputs": [],
   "source": [
    "miserable_queries = create_time[create_time['time'] > 5].sort_values('time', ascending=False)\n",
    "miserable_queries"
   ]
  },
  {
   "cell_type": "code",
   "execution_count": null,
   "metadata": {},
   "outputs": [],
   "source": [
    "# step = 500000\n",
    "# for i in range(0, 2500000, step):\n",
    "# plt.figure(figsize=(16,3))\n",
    "# sns.lineplot(x='index', y='time', hue='stage', style='stage', data=create_time)\n",
    "# plt.xlabel('timestamp')\n",
    "# plt.ylabel('time (milis)')"
   ]
  },
  {
   "cell_type": "markdown",
   "metadata": {},
   "source": [
    "Relative time (FAST vs CkQST)"
   ]
  },
  {
   "cell_type": "code",
   "execution_count": null,
   "metadata": {},
   "outputs": [],
   "source": [
    "# relative_create = create_time[create_time['stage'] == 'insert']['time'].reset_index() - create_time[create_time['stage'] == 'obj_search']['time'].reset_index()\n",
    "# relative_create\n",
    "# plt.figure(figsize=(16,8))\n",
    "# sns.lineplot(data=relative_create)\n",
    "# plt.xlabel('timestamp')\n",
    "# plt.ylabel('time (milis)')"
   ]
  },
  {
   "cell_type": "markdown",
   "metadata": {
    "ExecuteTime": {
     "end_time": "2024-02-10T04:42:06.554282Z",
     "start_time": "2024-02-10T04:42:06.538652Z"
    },
    "collapsed": false,
    "jupyter": {
     "outputs_hidden": false
    }
   },
   "source": [
    "## Load Queries"
   ]
  },
  {
   "cell_type": "code",
   "execution_count": null,
   "metadata": {},
   "outputs": [],
   "source": [
    "queries_df = pd.read_json('../../data/exported/places_o200000_q2500000_scaled.json', lines=True);\n",
    "queries_df = queries_df.iloc[200000:, :].reset_index(drop=True).drop(columns=['id']).reset_index()\n",
    "\n",
    "queries_df.tail()"
   ]
  },
  {
   "cell_type": "markdown",
   "metadata": {},
   "source": [
    "### Properties of miserable queries"
   ]
  },
  {
   "cell_type": "code",
   "execution_count": null,
   "metadata": {},
   "outputs": [],
   "source": [
    "queries_df.shape"
   ]
  },
  {
   "cell_type": "code",
   "execution_count": null,
   "metadata": {},
   "outputs": [],
   "source": [
    "details = queries_df.join(miserable_queries.set_index('index'), on='index').dropna().sort_values('time', ascending=False)\n",
    "# details = details[details['name'] == 'fast']\n",
    "inf_val = details['ar'].max()\n",
    "details['ar'] = details['ar'].apply(lambda x: np.inf if x >= inf_val else x)\n",
    "all = details.drop(columns=['x', 'y']).rename(columns={'time': 'insertion time (milis)'})"
   ]
  },
  {
   "cell_type": "code",
   "execution_count": null,
   "metadata": {},
   "outputs": [],
   "source": [
    "obj_search = all[all['stage'] == 'obj_search']\n",
    "insert = all[all['stage'] == 'insert']\n",
    "\n",
    "# insert#.join(ckqsts, rsuffix='_')\n",
    "insert.head(25)\n",
    "# all.head(25)"
   ]
  },
  {
   "cell_type": "code",
   "execution_count": null,
   "metadata": {},
   "outputs": [],
   "source": [
    "obj_search.head(25)"
   ]
  },
  {
   "cell_type": "markdown",
   "metadata": {},
   "source": [
    "### Extract Inf"
   ]
  },
  {
   "cell_type": "code",
   "execution_count": null,
   "metadata": {},
   "outputs": [],
   "source": [
    "inf_queries = obj_search[obj_search['ar'] == np.inf]\n",
    "inf_queries.shape"
   ]
  },
  {
   "cell_type": "code",
   "execution_count": null,
   "metadata": {},
   "outputs": [],
   "source": [
    "# inf_queries['index'].to_csv('../../data/exported/places_o200000_q2500000_scaled.inf.csv')"
   ]
  },
  {
   "cell_type": "markdown",
   "metadata": {},
   "source": [
    "##### "
   ]
  }
 ],
 "metadata": {
  "kernelspec": {
   "display_name": "Python 3 (ipykernel)",
   "language": "python",
   "name": "python3"
  },
  "language_info": {
   "codemirror_mode": {
    "name": "ipython",
    "version": 3
   },
   "file_extension": ".py",
   "mimetype": "text/x-python",
   "name": "python",
   "nbconvert_exporter": "python",
   "pygments_lexer": "ipython3",
   "version": "3.11.5"
  }
 },
 "nbformat": 4,
 "nbformat_minor": 4
}
