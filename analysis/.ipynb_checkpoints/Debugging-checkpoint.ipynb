{
 "cells": [
  {
   "cell_type": "code",
   "execution_count": 1,
   "id": "46b156e2-93ed-4a8e-8d37-a27da23f104d",
   "metadata": {},
   "outputs": [],
   "source": [
    "import pandas as pd\n",
    "import numpy as np\n",
    "import math\n",
    "import matplotlib.pyplot as plt\n",
    "import seaborn as sns"
   ]
  },
  {
   "cell_type": "code",
   "execution_count": 3,
   "id": "04bbfa2c-57a5-4fde-93ec-1a8f9d983dff",
   "metadata": {},
   "outputs": [
    {
     "ename": "FileNotFoundError",
     "evalue": "[Errno 2] No such file or directory: '../results_03_15/run_l9.txt'",
     "output_type": "error",
     "traceback": [
      "\u001b[0;31m---------------------------------------------------------------------------\u001b[0m",
      "\u001b[0;31mFileNotFoundError\u001b[0m                         Traceback (most recent call last)",
      "Cell \u001b[0;32mIn[3], line 3\u001b[0m\n\u001b[1;32m      1\u001b[0m runs \u001b[38;5;241m=\u001b[39m [\u001b[38;5;124m\"\u001b[39m\u001b[38;5;124mrun_l9\u001b[39m\u001b[38;5;124m\"\u001b[39m, \u001b[38;5;124m\"\u001b[39m\u001b[38;5;124mrun_l6\u001b[39m\u001b[38;5;124m\"\u001b[39m, \u001b[38;5;124m\"\u001b[39m\u001b[38;5;124mrun_l3\u001b[39m\u001b[38;5;124m\"\u001b[39m, \u001b[38;5;124m\"\u001b[39m\u001b[38;5;124mrun_l9_2p5k\u001b[39m\u001b[38;5;124m\"\u001b[39m, \u001b[38;5;124m\"\u001b[39m\u001b[38;5;124mrun_l9_2p5k\u001b[39m\u001b[38;5;124m\"\u001b[39m]\n\u001b[0;32m----> 3\u001b[0m \u001b[38;5;28;01mwith\u001b[39;00m \u001b[38;5;28mopen\u001b[39m(\u001b[38;5;124mf\u001b[39m\u001b[38;5;124m\"\u001b[39m\u001b[38;5;124m../results_03_15/\u001b[39m\u001b[38;5;132;01m{\u001b[39;00mruns[\u001b[38;5;241m0\u001b[39m]\u001b[38;5;132;01m}\u001b[39;00m\u001b[38;5;124m.txt\u001b[39m\u001b[38;5;124m\"\u001b[39m, \u001b[38;5;124m'\u001b[39m\u001b[38;5;124mr\u001b[39m\u001b[38;5;124m'\u001b[39m) \u001b[38;5;28;01mas\u001b[39;00m f:\n\u001b[1;32m      4\u001b[0m     run \u001b[38;5;241m=\u001b[39m f\u001b[38;5;241m.\u001b[39mread()\n",
      "File \u001b[0;32m~/Library/miniconda3/envs/fast/lib/python3.11/site-packages/IPython/core/interactiveshell.py:286\u001b[0m, in \u001b[0;36m_modified_open\u001b[0;34m(file, *args, **kwargs)\u001b[0m\n\u001b[1;32m    279\u001b[0m \u001b[38;5;28;01mif\u001b[39;00m file \u001b[38;5;129;01min\u001b[39;00m {\u001b[38;5;241m0\u001b[39m, \u001b[38;5;241m1\u001b[39m, \u001b[38;5;241m2\u001b[39m}:\n\u001b[1;32m    280\u001b[0m     \u001b[38;5;28;01mraise\u001b[39;00m \u001b[38;5;167;01mValueError\u001b[39;00m(\n\u001b[1;32m    281\u001b[0m         \u001b[38;5;124mf\u001b[39m\u001b[38;5;124m\"\u001b[39m\u001b[38;5;124mIPython won\u001b[39m\u001b[38;5;124m'\u001b[39m\u001b[38;5;124mt let you open fd=\u001b[39m\u001b[38;5;132;01m{\u001b[39;00mfile\u001b[38;5;132;01m}\u001b[39;00m\u001b[38;5;124m by default \u001b[39m\u001b[38;5;124m\"\u001b[39m\n\u001b[1;32m    282\u001b[0m         \u001b[38;5;124m\"\u001b[39m\u001b[38;5;124mas it is likely to crash IPython. If you know what you are doing, \u001b[39m\u001b[38;5;124m\"\u001b[39m\n\u001b[1;32m    283\u001b[0m         \u001b[38;5;124m\"\u001b[39m\u001b[38;5;124myou can use builtins\u001b[39m\u001b[38;5;124m'\u001b[39m\u001b[38;5;124m open.\u001b[39m\u001b[38;5;124m\"\u001b[39m\n\u001b[1;32m    284\u001b[0m     )\n\u001b[0;32m--> 286\u001b[0m \u001b[38;5;28;01mreturn\u001b[39;00m io_open(file, \u001b[38;5;241m*\u001b[39margs, \u001b[38;5;241m*\u001b[39m\u001b[38;5;241m*\u001b[39mkwargs)\n",
      "\u001b[0;31mFileNotFoundError\u001b[0m: [Errno 2] No such file or directory: '../results_03_15/run_l9.txt'"
     ]
    }
   ],
   "source": [
    "runs = [\"L9\", \"L6\", \"L3\", \"L9_2p5k\", \"L9_2p5k\"]\n",
    "\n",
    "with open(f\"../results_03_15/places_{runs[0]}.txt\", 'r') as f:\n",
    "    run = f.read()"
   ]
  },
  {
   "cell_type": "code",
   "execution_count": null,
   "id": "b6312f75-3f6f-461c-9697-9e765ff5376f",
   "metadata": {},
   "outputs": [],
   "source": [
    "cols = ['level', 'level_step', 'row', 'col', 'count']\n",
    "res = pd.DataFrame([i.split(\"=\")[0].split(\",\") + [int(i.split(\"=\")[1])] for i in run.split(\", \")], columns=cols)"
   ]
  },
  {
   "cell_type": "code",
   "execution_count": null,
   "id": "fe4248f5-25bf-4231-9a83-27d559a56240",
   "metadata": {},
   "outputs": [],
   "source": [
    "res"
   ]
  },
  {
   "cell_type": "code",
   "execution_count": null,
   "id": "88e6434f-c644-4db9-b710-a22cfb21be2c",
   "metadata": {},
   "outputs": [],
   "source": [
    "max_level = int(res['level'].max())\n",
    "\n",
    "fig, axs = plt.subplots(ncols=3, nrows=int(max_level/3), figsize=(12, 10),\n",
    "                        layout=\"constrained\")\n",
    "# add an artist, in this case a nice label in the middle...\n",
    "level = max_level\n",
    "for row in range(int(max_level/3)):\n",
    "    for col in range(3):\n",
    "        mat_size = int(math.pow(2, int(res['level'].max())) / math.pow(2, level))\n",
    "        mat = np.zeros((mat_size, mat_size))\n",
    "    \n",
    "        data = res[res['level'] == str(level)]\n",
    "        for r in data.loc[:, ['row', 'col', 'count']].values:\n",
    "            mat[int(r[0])][int(r[1])] = r[2]\n",
    "    \n",
    "        # plt.figure()\n",
    "        sns.heatmap(mat, vmin=res['count'].min(), vmax=res['count'].max() / 100, ax=axs[row, col])\n",
    "        axs[row, col].set_title(f\"Level {level}\")\n",
    "        level -= 1;\n",
    "        # axs[row, col].annotate(f'axs[{row}, {col}]', (0.5, 0.5),\n",
    "        #                        transform=axs[row, col].transAxes,\n",
    "        #                        ha='center', va='center', fontsize=18,\n",
    "        #                        color='darkgrey')\n",
    "# fig.suptitle('plt.subplots()')"
   ]
  },
  {
   "cell_type": "code",
   "execution_count": null,
   "id": "4880e6c2-a1fc-4370-b2ff-418d732b78c1",
   "metadata": {},
   "outputs": [],
   "source": [
    "# for level in range(int(res['level'].max()), int(res['level'].min()), -1):\n",
    "#     mat_size = int(math.pow(2, int(res['level'].max())) / math.pow(2, level))\n",
    "#     mat = np.zeros((mat_size, mat_size))\n",
    "\n",
    "#     data = res[res['level'] == str(level)]\n",
    "#     for row in data.loc[:, ['row', 'col', 'count']].values:\n",
    "#         mat[int(row[0])][int(row[1])] = row[2]\n",
    "\n",
    "#     # plt.figure()\n",
    "#     sns.heatmap(mat, vmin=res['count'].min(), vmax=res['count'].max() / 100)\n",
    "#     plt.title(f\"Level {level}\")\n",
    "#     plt.show()\n",
    "#     # plt.figure()\n",
    "#     # plt.imshow(mat, vmin=res_l9['count'].min(), vmax=res_l9['count'].max())\n",
    "#     # plt.show()\n",
    "#     # print(mat)\n",
    "#     # print()\n",
    "#     # print([''])"
   ]
  },
  {
   "cell_type": "code",
   "execution_count": null,
   "id": "18d0c8cc-a411-4a79-b472-058ea5932050",
   "metadata": {},
   "outputs": [],
   "source": []
  }
 ],
 "metadata": {
  "kernelspec": {
   "display_name": "Python 3 (ipykernel)",
   "language": "python",
   "name": "python3"
  },
  "language_info": {
   "codemirror_mode": {
    "name": "ipython",
    "version": 3
   },
   "file_extension": ".py",
   "mimetype": "text/x-python",
   "name": "python",
   "nbconvert_exporter": "python",
   "pygments_lexer": "ipython3",
   "version": "3.11.5"
  }
 },
 "nbformat": 4,
 "nbformat_minor": 5
}
