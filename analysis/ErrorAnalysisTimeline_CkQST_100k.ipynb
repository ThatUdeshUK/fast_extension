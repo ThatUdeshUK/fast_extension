{
 "cells": [
  {
   "cell_type": "code",
   "execution_count": 1,
   "metadata": {
    "ExecuteTime": {
     "end_time": "2024-02-10T04:42:05.476463Z",
     "start_time": "2024-02-10T04:42:05.467982Z"
    }
   },
   "outputs": [],
   "source": [
    "import pandas as pd\n",
    "import numpy as np\n",
    "import seaborn as sns\n",
    "import matplotlib.pyplot as plt\n",
    "import matplotlib\n",
    "\n",
    "import warnings\n",
    "warnings.filterwarnings(\"ignore\", \"is_categorical_dtype\")\n",
    "warnings.filterwarnings(\"ignore\", \"use_inf_as_na\")\n",
    "\n",
    "font = {'size'   : 12}\n",
    "\n",
    "matplotlib.rc('font', **font)"
   ]
  },
  {
   "cell_type": "code",
   "execution_count": 2,
   "metadata": {
    "ExecuteTime": {
     "end_time": "2024-02-10T04:42:05.521527Z",
     "start_time": "2024-02-10T04:42:05.478642Z"
    },
    "collapsed": false,
    "jupyter": {
     "outputs_hidden": false
    }
   },
   "outputs": [
    {
     "data": {
      "text/html": [
       "<div>\n",
       "<style scoped>\n",
       "    .dataframe tbody tr th:only-of-type {\n",
       "        vertical-align: middle;\n",
       "    }\n",
       "\n",
       "    .dataframe tbody tr th {\n",
       "        vertical-align: top;\n",
       "    }\n",
       "\n",
       "    .dataframe thead th {\n",
       "        text-align: right;\n",
       "    }\n",
       "</style>\n",
       "<table border=\"1\" class=\"dataframe\">\n",
       "  <thead>\n",
       "    <tr style=\"text-align: right;\">\n",
       "      <th></th>\n",
       "      <th>index</th>\n",
       "      <th>name</th>\n",
       "      <th>ar</th>\n",
       "      <th>des_count</th>\n",
       "      <th>level</th>\n",
       "      <th>stage</th>\n",
       "      <th>time</th>\n",
       "    </tr>\n",
       "  </thead>\n",
       "  <tbody>\n",
       "    <tr>\n",
       "      <th>0</th>\n",
       "      <td>0</td>\n",
       "      <td>fast</td>\n",
       "      <td>3868222</td>\n",
       "      <td>2.095607e+01</td>\n",
       "      <td>NaN</td>\n",
       "      <td>obj_search</td>\n",
       "      <td>0.000000</td>\n",
       "    </tr>\n",
       "    <tr>\n",
       "      <th>1</th>\n",
       "      <td>1</td>\n",
       "      <td>fast</td>\n",
       "      <td>22025</td>\n",
       "      <td>1.797693e+308</td>\n",
       "      <td>NaN</td>\n",
       "      <td>obj_search</td>\n",
       "      <td>0.000001</td>\n",
       "    </tr>\n",
       "    <tr>\n",
       "      <th>2</th>\n",
       "      <td>2</td>\n",
       "      <td>fast</td>\n",
       "      <td>23458</td>\n",
       "      <td>3.016183e-01</td>\n",
       "      <td>NaN</td>\n",
       "      <td>obj_search</td>\n",
       "      <td>0.000002</td>\n",
       "    </tr>\n",
       "    <tr>\n",
       "      <th>3</th>\n",
       "      <td>3</td>\n",
       "      <td>fast</td>\n",
       "      <td>17108</td>\n",
       "      <td>3.928520e-01</td>\n",
       "      <td>NaN</td>\n",
       "      <td>obj_search</td>\n",
       "      <td>0.000003</td>\n",
       "    </tr>\n",
       "    <tr>\n",
       "      <th>4</th>\n",
       "      <td>4</td>\n",
       "      <td>fast</td>\n",
       "      <td>6722</td>\n",
       "      <td>1.797693e+308</td>\n",
       "      <td>NaN</td>\n",
       "      <td>obj_search</td>\n",
       "      <td>0.000004</td>\n",
       "    </tr>\n",
       "    <tr>\n",
       "      <th>...</th>\n",
       "      <td>...</td>\n",
       "      <td>...</td>\n",
       "      <td>...</td>\n",
       "      <td>...</td>\n",
       "      <td>...</td>\n",
       "      <td>...</td>\n",
       "      <td>...</td>\n",
       "    </tr>\n",
       "    <tr>\n",
       "      <th>199995</th>\n",
       "      <td>99995</td>\n",
       "      <td>fast</td>\n",
       "      <td>3765</td>\n",
       "      <td>1.181172e+01</td>\n",
       "      <td>NaN</td>\n",
       "      <td>insert</td>\n",
       "      <td>0.022338</td>\n",
       "    </tr>\n",
       "    <tr>\n",
       "      <th>199996</th>\n",
       "      <td>99996</td>\n",
       "      <td>fast</td>\n",
       "      <td>1453</td>\n",
       "      <td>1.346793e+00</td>\n",
       "      <td>NaN</td>\n",
       "      <td>insert</td>\n",
       "      <td>0.180248</td>\n",
       "    </tr>\n",
       "    <tr>\n",
       "      <th>199997</th>\n",
       "      <td>99997</td>\n",
       "      <td>fast</td>\n",
       "      <td>1606</td>\n",
       "      <td>1.017120e+00</td>\n",
       "      <td>NaN</td>\n",
       "      <td>insert</td>\n",
       "      <td>0.206481</td>\n",
       "    </tr>\n",
       "    <tr>\n",
       "      <th>199998</th>\n",
       "      <td>99998</td>\n",
       "      <td>fast</td>\n",
       "      <td>3664</td>\n",
       "      <td>3.827053e-01</td>\n",
       "      <td>NaN</td>\n",
       "      <td>insert</td>\n",
       "      <td>0.845826</td>\n",
       "    </tr>\n",
       "    <tr>\n",
       "      <th>199999</th>\n",
       "      <td>99999</td>\n",
       "      <td>fast</td>\n",
       "      <td>1705</td>\n",
       "      <td>1.006051e+00</td>\n",
       "      <td>NaN</td>\n",
       "      <td>insert</td>\n",
       "      <td>0.057948</td>\n",
       "    </tr>\n",
       "  </tbody>\n",
       "</table>\n",
       "<p>200000 rows × 7 columns</p>\n",
       "</div>"
      ],
      "text/plain": [
       "        index  name       ar      des_count  level       stage      time\n",
       "0           0  fast  3868222   2.095607e+01    NaN  obj_search  0.000000\n",
       "1           1  fast    22025  1.797693e+308    NaN  obj_search  0.000001\n",
       "2           2  fast    23458   3.016183e-01    NaN  obj_search  0.000002\n",
       "3           3  fast    17108   3.928520e-01    NaN  obj_search  0.000003\n",
       "4           4  fast     6722  1.797693e+308    NaN  obj_search  0.000004\n",
       "...       ...   ...      ...            ...    ...         ...       ...\n",
       "199995  99995  fast     3765   1.181172e+01    NaN      insert  0.022338\n",
       "199996  99996  fast     1453   1.346793e+00    NaN      insert  0.180248\n",
       "199997  99997  fast     1606   1.017120e+00    NaN      insert  0.206481\n",
       "199998  99998  fast     3664   3.827053e-01    NaN      insert  0.845826\n",
       "199999  99999  fast     1705   1.006051e+00    NaN      insert  0.057948\n",
       "\n",
       "[200000 rows x 7 columns]"
      ]
     },
     "execution_count": 2,
     "metadata": {},
     "output_type": "execute_result"
    }
   ],
   "source": [
    "create_time = pd.read_csv(\"../results_03_15/FAST_KNN_NO_ObjIndex_L9_search_sub_timeline_100000_100000.csv\", names=['obj_search', 'insert', 'ar', 'des_count', 'level']).reset_index()\n",
    "create_time['name'] = 'fast'\n",
    "create_time['obj_search'] = create_time['obj_search'] / 1000000\n",
    "create_time['insert'] = create_time['insert'] / 1000000\n",
    "create_time = create_time.melt(id_vars=['index', 'name', 'ar', 'des_count', 'level'], var_name='stage', value_name='time')\n",
    "\n",
    "create_time"
   ]
  },
  {
   "cell_type": "markdown",
   "metadata": {},
   "source": [
    "## Creation time"
   ]
  },
  {
   "cell_type": "code",
   "execution_count": 3,
   "metadata": {},
   "outputs": [
    {
     "data": {
      "text/plain": [
       "(0.0, 10.0)"
      ]
     },
     "execution_count": 3,
     "metadata": {},
     "output_type": "execute_result"
    },
    {
     "data": {
      "image/png": "[encoded data removed]",
      "text/plain": [
       "<Figure size 1600x300 with 1 Axes>"
      ]
     },
     "metadata": {},
     "output_type": "display_data"
    }
   ],
   "source": [
    "plt.figure(figsize=(16,3))\n",
    "sns.histplot(x='time', bins=500, hue='stage', multiple='layer', data=create_time)\n",
    "plt.xlabel('time (milis)')\n",
    "plt.ylim(0, 10)"
   ]
  },
  {
   "cell_type": "markdown",
   "metadata": {},
   "source": [
    "**Miserable queries**\n",
    "\n",
    "Queries that takes too much time (>100 milis). "
   ]
  },
  {
   "cell_type": "code",
   "execution_count": 4,
   "metadata": {},
   "outputs": [
    {
     "data": {
      "text/html": [
       "<div>\n",
       "<style scoped>\n",
       "    .dataframe tbody tr th:only-of-type {\n",
       "        vertical-align: middle;\n",
       "    }\n",
       "\n",
       "    .dataframe tbody tr th {\n",
       "        vertical-align: top;\n",
       "    }\n",
       "\n",
       "    .dataframe thead th {\n",
       "        text-align: right;\n",
       "    }\n",
       "</style>\n",
       "<table border=\"1\" class=\"dataframe\">\n",
       "  <thead>\n",
       "    <tr style=\"text-align: right;\">\n",
       "      <th></th>\n",
       "      <th>index</th>\n",
       "      <th>name</th>\n",
       "      <th>ar</th>\n",
       "      <th>des_count</th>\n",
       "      <th>level</th>\n",
       "      <th>stage</th>\n",
       "      <th>time</th>\n",
       "    </tr>\n",
       "  </thead>\n",
       "  <tbody>\n",
       "    <tr>\n",
       "      <th>107844</th>\n",
       "      <td>7844</td>\n",
       "      <td>fast</td>\n",
       "      <td>14013</td>\n",
       "      <td>1.797693e+308</td>\n",
       "      <td>NaN</td>\n",
       "      <td>insert</td>\n",
       "      <td>26.651615</td>\n",
       "    </tr>\n",
       "    <tr>\n",
       "      <th>103493</th>\n",
       "      <td>3493</td>\n",
       "      <td>fast</td>\n",
       "      <td>30052</td>\n",
       "      <td>1.398108e+02</td>\n",
       "      <td>NaN</td>\n",
       "      <td>insert</td>\n",
       "      <td>25.896353</td>\n",
       "    </tr>\n",
       "    <tr>\n",
       "      <th>135600</th>\n",
       "      <td>35600</td>\n",
       "      <td>fast</td>\n",
       "      <td>10242</td>\n",
       "      <td>1.797693e+308</td>\n",
       "      <td>NaN</td>\n",
       "      <td>insert</td>\n",
       "      <td>22.542585</td>\n",
       "    </tr>\n",
       "    <tr>\n",
       "      <th>142857</th>\n",
       "      <td>42857</td>\n",
       "      <td>fast</td>\n",
       "      <td>14505</td>\n",
       "      <td>1.797693e+308</td>\n",
       "      <td>NaN</td>\n",
       "      <td>insert</td>\n",
       "      <td>16.376047</td>\n",
       "    </tr>\n",
       "    <tr>\n",
       "      <th>101358</th>\n",
       "      <td>1358</td>\n",
       "      <td>fast</td>\n",
       "      <td>22477</td>\n",
       "      <td>1.797693e+308</td>\n",
       "      <td>NaN</td>\n",
       "      <td>insert</td>\n",
       "      <td>15.609281</td>\n",
       "    </tr>\n",
       "    <tr>\n",
       "      <th>...</th>\n",
       "      <td>...</td>\n",
       "      <td>...</td>\n",
       "      <td>...</td>\n",
       "      <td>...</td>\n",
       "      <td>...</td>\n",
       "      <td>...</td>\n",
       "      <td>...</td>\n",
       "    </tr>\n",
       "    <tr>\n",
       "      <th>159506</th>\n",
       "      <td>59506</td>\n",
       "      <td>fast</td>\n",
       "      <td>2985</td>\n",
       "      <td>1.165382e+02</td>\n",
       "      <td>NaN</td>\n",
       "      <td>insert</td>\n",
       "      <td>5.008343</td>\n",
       "    </tr>\n",
       "    <tr>\n",
       "      <th>146456</th>\n",
       "      <td>46456</td>\n",
       "      <td>fast</td>\n",
       "      <td>9207</td>\n",
       "      <td>4.817721e+01</td>\n",
       "      <td>NaN</td>\n",
       "      <td>insert</td>\n",
       "      <td>5.006239</td>\n",
       "    </tr>\n",
       "    <tr>\n",
       "      <th>126776</th>\n",
       "      <td>26776</td>\n",
       "      <td>fast</td>\n",
       "      <td>5018</td>\n",
       "      <td>1.797693e+308</td>\n",
       "      <td>NaN</td>\n",
       "      <td>insert</td>\n",
       "      <td>5.005764</td>\n",
       "    </tr>\n",
       "    <tr>\n",
       "      <th>101901</th>\n",
       "      <td>1901</td>\n",
       "      <td>fast</td>\n",
       "      <td>15497</td>\n",
       "      <td>1.317258e+02</td>\n",
       "      <td>NaN</td>\n",
       "      <td>insert</td>\n",
       "      <td>5.000795</td>\n",
       "    </tr>\n",
       "    <tr>\n",
       "      <th>129725</th>\n",
       "      <td>29725</td>\n",
       "      <td>fast</td>\n",
       "      <td>3622</td>\n",
       "      <td>1.797693e+308</td>\n",
       "      <td>NaN</td>\n",
       "      <td>insert</td>\n",
       "      <td>5.000284</td>\n",
       "    </tr>\n",
       "  </tbody>\n",
       "</table>\n",
       "<p>878 rows × 7 columns</p>\n",
       "</div>"
      ],
      "text/plain": [
       "        index  name     ar      des_count  level   stage       time\n",
       "107844   7844  fast  14013  1.797693e+308    NaN  insert  26.651615\n",
       "103493   3493  fast  30052   1.398108e+02    NaN  insert  25.896353\n",
       "135600  35600  fast  10242  1.797693e+308    NaN  insert  22.542585\n",
       "142857  42857  fast  14505  1.797693e+308    NaN  insert  16.376047\n",
       "101358   1358  fast  22477  1.797693e+308    NaN  insert  15.609281\n",
       "...       ...   ...    ...            ...    ...     ...        ...\n",
       "159506  59506  fast   2985   1.165382e+02    NaN  insert   5.008343\n",
       "146456  46456  fast   9207   4.817721e+01    NaN  insert   5.006239\n",
       "126776  26776  fast   5018  1.797693e+308    NaN  insert   5.005764\n",
       "101901   1901  fast  15497   1.317258e+02    NaN  insert   5.000795\n",
       "129725  29725  fast   3622  1.797693e+308    NaN  insert   5.000284\n",
       "\n",
       "[878 rows x 7 columns]"
      ]
     },
     "execution_count": 4,
     "metadata": {},
     "output_type": "execute_result"
    }
   ],
   "source": [
    "miserable_queries = create_time[create_time['time'] > 5].sort_values('time', ascending=False)\n",
    "miserable_queries"
   ]
  },
  {
   "cell_type": "code",
   "execution_count": 5,
   "metadata": {},
   "outputs": [
    {
     "data": {
      "text/plain": [
       "(0.0, 25.0)"
      ]
     },
     "execution_count": 5,
     "metadata": {},
     "output_type": "execute_result"
    },
    {
     "data": {
      "image/png": "[encoded data removed]",
      "text/plain": [
       "<Figure size 1600x300 with 1 Axes>"
      ]
     },
     "metadata": {},
     "output_type": "display_data"
    }
   ],
   "source": [
    "# step = 500000\n",
    "# for i in range(0, 2500000, step):\n",
    "plt.figure(figsize=(16,3))\n",
    "sns.lineplot(x='index', y='time', hue='stage', style='stage', data=create_time)\n",
    "plt.xlabel('timestamp')\n",
    "plt.ylabel('time (milis)')\n",
    "plt.ylim(0, 25)"
   ]
  },
  {
   "cell_type": "markdown",
   "metadata": {},
   "source": [
    "Relative time (FAST vs CkQST)"
   ]
  },
  {
   "cell_type": "code",
   "execution_count": 6,
   "metadata": {},
   "outputs": [],
   "source": [
    "# relative_create = create_time[create_time['stage'] == 'insert']['time'].reset_index() - create_time[create_time['stage'] == 'obj_search']['time'].reset_index()\n",
    "# relative_create\n",
    "# plt.figure(figsize=(16,8))\n",
    "# sns.lineplot(data=relative_create)\n",
    "# plt.xlabel('timestamp')\n",
    "# plt.ylabel('time (milis)')"
   ]
  },
  {
   "cell_type": "markdown",
   "metadata": {
    "ExecuteTime": {
     "end_time": "2024-02-10T04:42:06.554282Z",
     "start_time": "2024-02-10T04:42:06.538652Z"
    },
    "collapsed": false,
    "jupyter": {
     "outputs_hidden": false
    }
   },
   "source": [
    "## Load Queries"
   ]
  },
  {
   "cell_type": "code",
   "execution_count": 7,
   "metadata": {},
   "outputs": [
    {
     "data": {
      "text/html": [
       "<div>\n",
       "<style scoped>\n",
       "    .dataframe tbody tr th:only-of-type {\n",
       "        vertical-align: middle;\n",
       "    }\n",
       "\n",
       "    .dataframe tbody tr th {\n",
       "        vertical-align: top;\n",
       "    }\n",
       "\n",
       "    .dataframe thead th {\n",
       "        text-align: right;\n",
       "    }\n",
       "</style>\n",
       "<table border=\"1\" class=\"dataframe\">\n",
       "  <thead>\n",
       "    <tr style=\"text-align: right;\">\n",
       "      <th></th>\n",
       "      <th>index</th>\n",
       "      <th>x</th>\n",
       "      <th>y</th>\n",
       "      <th>keywords</th>\n",
       "      <th>scaled</th>\n",
       "    </tr>\n",
       "  </thead>\n",
       "  <tbody>\n",
       "    <tr>\n",
       "      <th>2499995</th>\n",
       "      <td>2499995</td>\n",
       "      <td>409.894898</td>\n",
       "      <td>103.097463</td>\n",
       "      <td>[telephone, cellular]</td>\n",
       "      <td>True</td>\n",
       "    </tr>\n",
       "    <tr>\n",
       "      <th>2499996</th>\n",
       "      <td>2499996</td>\n",
       "      <td>402.284307</td>\n",
       "      <td>107.998284</td>\n",
       "      <td>[contractor]</td>\n",
       "      <td>True</td>\n",
       "    </tr>\n",
       "    <tr>\n",
       "      <th>2499997</th>\n",
       "      <td>2499997</td>\n",
       "      <td>406.953882</td>\n",
       "      <td>110.040834</td>\n",
       "      <td>[church]</td>\n",
       "      <td>True</td>\n",
       "    </tr>\n",
       "    <tr>\n",
       "      <th>2499998</th>\n",
       "      <td>2499998</td>\n",
       "      <td>412.621720</td>\n",
       "      <td>107.253521</td>\n",
       "      <td>[lounge, drinking, eating, cocktail]</td>\n",
       "      <td>True</td>\n",
       "    </tr>\n",
       "    <tr>\n",
       "      <th>2499999</th>\n",
       "      <td>2499999</td>\n",
       "      <td>412.835319</td>\n",
       "      <td>107.262331</td>\n",
       "      <td>[coping, plastering, tiling, pool, swimming]</td>\n",
       "      <td>True</td>\n",
       "    </tr>\n",
       "  </tbody>\n",
       "</table>\n",
       "</div>"
      ],
      "text/plain": [
       "           index           x           y  \\\n",
       "2499995  2499995  409.894898  103.097463   \n",
       "2499996  2499996  402.284307  107.998284   \n",
       "2499997  2499997  406.953882  110.040834   \n",
       "2499998  2499998  412.621720  107.253521   \n",
       "2499999  2499999  412.835319  107.262331   \n",
       "\n",
       "                                             keywords  scaled  \n",
       "2499995                         [telephone, cellular]    True  \n",
       "2499996                                  [contractor]    True  \n",
       "2499997                                      [church]    True  \n",
       "2499998          [lounge, drinking, eating, cocktail]    True  \n",
       "2499999  [coping, plastering, tiling, pool, swimming]    True  "
      ]
     },
     "execution_count": 7,
     "metadata": {},
     "output_type": "execute_result"
    }
   ],
   "source": [
    "queries_df = pd.read_json('../../data/exported/places_o200000_q2500000_scaled.json', lines=True);\n",
    "queries_df = queries_df.iloc[200000:, :].reset_index(drop=True).drop(columns=['id']).reset_index()\n",
    "\n",
    "queries_df.tail()"
   ]
  },
  {
   "cell_type": "markdown",
   "metadata": {},
   "source": [
    "### Properties of miserable queries"
   ]
  },
  {
   "cell_type": "code",
   "execution_count": 8,
   "metadata": {},
   "outputs": [
    {
     "data": {
      "text/plain": [
       "(2500000, 5)"
      ]
     },
     "execution_count": 8,
     "metadata": {},
     "output_type": "execute_result"
    }
   ],
   "source": [
    "queries_df.shape"
   ]
  },
  {
   "cell_type": "code",
   "execution_count": 9,
   "metadata": {},
   "outputs": [],
   "source": [
    "details = queries_df.join(miserable_queries.set_index('index'), on='index').dropna().sort_values('time', ascending=False)\n",
    "# details = details[details['name'] == 'fast']\n",
    "inf_val = details['ar'].max()\n",
    "details['ar'] = details['ar'].apply(lambda x: np.inf if x >= inf_val else x)\n",
    "all = details.drop(columns=['x', 'y']).rename(columns={'time': 'insertion time (milis)'})"
   ]
  },
  {
   "cell_type": "code",
   "execution_count": 10,
   "metadata": {},
   "outputs": [
    {
     "data": {
      "text/html": [
       "<div>\n",
       "<style scoped>\n",
       "    .dataframe tbody tr th:only-of-type {\n",
       "        vertical-align: middle;\n",
       "    }\n",
       "\n",
       "    .dataframe tbody tr th {\n",
       "        vertical-align: top;\n",
       "    }\n",
       "\n",
       "    .dataframe thead th {\n",
       "        text-align: right;\n",
       "    }\n",
       "</style>\n",
       "<table border=\"1\" class=\"dataframe\">\n",
       "  <thead>\n",
       "    <tr style=\"text-align: right;\">\n",
       "      <th></th>\n",
       "      <th>index</th>\n",
       "      <th>keywords</th>\n",
       "      <th>scaled</th>\n",
       "      <th>name</th>\n",
       "      <th>ar</th>\n",
       "      <th>des_count</th>\n",
       "      <th>level</th>\n",
       "      <th>stage</th>\n",
       "      <th>insertion time (milis)</th>\n",
       "    </tr>\n",
       "  </thead>\n",
       "  <tbody>\n",
       "  </tbody>\n",
       "</table>\n",
       "</div>"
      ],
      "text/plain": [
       "Empty DataFrame\n",
       "Columns: [index, keywords, scaled, name, ar, des_count, level, stage, insertion time (milis)]\n",
       "Index: []"
      ]
     },
     "execution_count": 10,
     "metadata": {},
     "output_type": "execute_result"
    }
   ],
   "source": [
    "obj_search = all[all['stage'] == 'obj_search']\n",
    "insert = all[all['stage'] == 'insert']\n",
    "\n",
    "# insert#.join(ckqsts, rsuffix='_')\n",
    "insert.head(25)\n",
    "# all.head(25)"
   ]
  },
  {
   "cell_type": "code",
   "execution_count": 11,
   "metadata": {},
   "outputs": [
    {
     "data": {
      "text/html": [
       "<div>\n",
       "<style scoped>\n",
       "    .dataframe tbody tr th:only-of-type {\n",
       "        vertical-align: middle;\n",
       "    }\n",
       "\n",
       "    .dataframe tbody tr th {\n",
       "        vertical-align: top;\n",
       "    }\n",
       "\n",
       "    .dataframe thead th {\n",
       "        text-align: right;\n",
       "    }\n",
       "</style>\n",
       "<table border=\"1\" class=\"dataframe\">\n",
       "  <thead>\n",
       "    <tr style=\"text-align: right;\">\n",
       "      <th></th>\n",
       "      <th>index</th>\n",
       "      <th>keywords</th>\n",
       "      <th>scaled</th>\n",
       "      <th>name</th>\n",
       "      <th>ar</th>\n",
       "      <th>des_count</th>\n",
       "      <th>level</th>\n",
       "      <th>stage</th>\n",
       "      <th>insertion time (milis)</th>\n",
       "    </tr>\n",
       "  </thead>\n",
       "  <tbody>\n",
       "  </tbody>\n",
       "</table>\n",
       "</div>"
      ],
      "text/plain": [
       "Empty DataFrame\n",
       "Columns: [index, keywords, scaled, name, ar, des_count, level, stage, insertion time (milis)]\n",
       "Index: []"
      ]
     },
     "execution_count": 11,
     "metadata": {},
     "output_type": "execute_result"
    }
   ],
   "source": [
    "obj_search.head(25)"
   ]
  },
  {
   "cell_type": "markdown",
   "metadata": {},
   "source": [
    "## Query size vs Insertion time"
   ]
  },
  {
   "cell_type": "code",
   "execution_count": 12,
   "metadata": {},
   "outputs": [],
   "source": [
    "stats = create_time.copy()\n",
    "stats = queries_df.join(stats.set_index('index'), on='index').dropna()"
   ]
  },
  {
   "cell_type": "code",
   "execution_count": 13,
   "metadata": {},
   "outputs": [],
   "source": [
    "stats['n_keywords'] = stats['keywords'].apply(lambda x: min(len(x), 5))"
   ]
  },
  {
   "cell_type": "markdown",
   "metadata": {},
   "source": [
    "### Query index insert"
   ]
  },
  {
   "cell_type": "code",
   "execution_count": 14,
   "metadata": {},
   "outputs": [
    {
     "data": {
      "text/plain": [
       "<Axes: >"
      ]
     },
     "execution_count": 14,
     "metadata": {},
     "output_type": "execute_result"
    },
    {
     "data": {
      "image/png": "[encoded data removed]",
      "text/plain": [
       "<Figure size 640x480 with 1 Axes>"
      ]
     },
     "metadata": {},
     "output_type": "display_data"
    }
   ],
   "source": [
    "insert_only = pd.DataFrame(stats[stats['stage'] == 'insert'])\n",
    "insert_only['ar'] = insert_only['ar'].apply(lambda x: 512 if x > 512 else x)\n",
    "\n",
    "sns.scatterplot(y='time', x='ar', data=insert_only.loc[:, ['ar', 'time']])"
   ]
  },
  {
   "cell_type": "code",
   "execution_count": 15,
   "metadata": {},
   "outputs": [
    {
     "data": {
      "text/plain": [
       "<Axes: >"
      ]
     },
     "execution_count": 15,
     "metadata": {},
     "output_type": "execute_result"
    },
    {
     "data": {
      "image/png": "[encoded data removed]",
      "text/plain": [
       "<Figure size 640x480 with 1 Axes>"
      ]
     },
     "metadata": {},
     "output_type": "display_data"
    }
   ],
   "source": [
    "sns.scatterplot(y='time', x='n_keywords', data=insert_only.loc[:, ['n_keywords', 'time']])"
   ]
  },
  {
   "cell_type": "code",
   "execution_count": 16,
   "metadata": {},
   "outputs": [
    {
     "data": {
      "text/plain": [
       "<Axes: >"
      ]
     },
     "execution_count": 16,
     "metadata": {},
     "output_type": "execute_result"
    },
    {
     "data": {
      "image/png": "[encoded data removed]",
      "text/plain": [
       "<Figure size 640x480 with 1 Axes>"
      ]
     },
     "metadata": {},
     "output_type": "display_data"
    }
   ],
   "source": [
    "sns.scatterplot(y='time', x='des_count', data=insert_only.loc[:, ['des_count', 'time']])"
   ]
  },
  {
   "cell_type": "code",
   "execution_count": 17,
   "metadata": {},
   "outputs": [
    {
     "data": {
      "text/plain": [
       "<Axes: >"
      ]
     },
     "execution_count": 17,
     "metadata": {},
     "output_type": "execute_result"
    },
    {
     "data": {
      "image/png": "[encoded data removed]",
      "text/plain": [
       "<Figure size 640x480 with 1 Axes>"
      ]
     },
     "metadata": {},
     "output_type": "display_data"
    }
   ],
   "source": [
    "sns.scatterplot(y='time', x='level', data=insert_only.loc[:, ['level', 'time']])"
   ]
  },
  {
   "cell_type": "code",
   "execution_count": 18,
   "metadata": {},
   "outputs": [],
   "source": [
    "out = insert_only.loc[:, ['level', 'time']]"
   ]
  },
  {
   "cell_type": "code",
   "execution_count": 19,
   "metadata": {},
   "outputs": [
    {
     "data": {
      "text/plain": [
       "<Axes: >"
      ]
     },
     "execution_count": 19,
     "metadata": {},
     "output_type": "execute_result"
    },
    {
     "data": {
      "image/png": "[encoded data removed]",
      "text/plain": [
       "<Figure size 640x480 with 1 Axes>"
      ]
     },
     "metadata": {},
     "output_type": "display_data"
    }
   ],
   "source": [
    "sns.histplot(out['level'])"
   ]
  },
  {
   "cell_type": "code",
   "execution_count": 20,
   "metadata": {},
   "outputs": [
    {
     "data": {
      "text/plain": [
       "(0.0, 15000.0)"
      ]
     },
     "execution_count": 20,
     "metadata": {},
     "output_type": "execute_result"
    },
    {
     "data": {
      "image/png": "[encoded data removed]",
      "text/plain": [
       "<Figure size 640x480 with 1 Axes>"
      ]
     },
     "metadata": {},
     "output_type": "display_data"
    }
   ],
   "source": [
    "sns.histplot(out['level'])\n",
    "plt.ylim(0, 15000)"
   ]
  },
  {
   "cell_type": "code",
   "execution_count": 21,
   "metadata": {},
   "outputs": [
    {
     "ename": "ValueError",
     "evalue": "min() arg is an empty sequence",
     "output_type": "error",
     "traceback": [
      "\u001b[0;31m---------------------------------------------------------------------------\u001b[0m",
      "\u001b[0;31mValueError\u001b[0m                                Traceback (most recent call last)",
      "Cell \u001b[0;32mIn[21], line 2\u001b[0m\n\u001b[1;32m      1\u001b[0m hist_out \u001b[38;5;241m=\u001b[39m out\u001b[38;5;241m.\u001b[39mgroupby(\u001b[38;5;124m'\u001b[39m\u001b[38;5;124mlevel\u001b[39m\u001b[38;5;124m'\u001b[39m)\u001b[38;5;241m.\u001b[39mmean()\u001b[38;5;241m.\u001b[39mreset_index()\n\u001b[0;32m----> 2\u001b[0m sns\u001b[38;5;241m.\u001b[39mbarplot(x\u001b[38;5;241m=\u001b[39m\u001b[38;5;124m'\u001b[39m\u001b[38;5;124mlevel\u001b[39m\u001b[38;5;124m'\u001b[39m, y\u001b[38;5;241m=\u001b[39m\u001b[38;5;124m'\u001b[39m\u001b[38;5;124mtime\u001b[39m\u001b[38;5;124m'\u001b[39m, data\u001b[38;5;241m=\u001b[39mhist_out)\n\u001b[1;32m      3\u001b[0m plt\u001b[38;5;241m.\u001b[39mylabel(\u001b[38;5;124m'\u001b[39m\u001b[38;5;124mavg. insert time (query index - fast)\u001b[39m\u001b[38;5;124m'\u001b[39m)\n",
      "File \u001b[0;32m~/Library/miniconda3/envs/fast/lib/python3.11/site-packages/seaborn/categorical.py:2755\u001b[0m, in \u001b[0;36mbarplot\u001b[0;34m(data, x, y, hue, order, hue_order, estimator, errorbar, n_boot, units, seed, orient, color, palette, saturation, width, errcolor, errwidth, capsize, dodge, ci, ax, **kwargs)\u001b[0m\n\u001b[1;32m   2752\u001b[0m \u001b[38;5;28;01mif\u001b[39;00m estimator \u001b[38;5;129;01mis\u001b[39;00m \u001b[38;5;28mlen\u001b[39m:\n\u001b[1;32m   2753\u001b[0m     estimator \u001b[38;5;241m=\u001b[39m \u001b[38;5;124m\"\u001b[39m\u001b[38;5;124msize\u001b[39m\u001b[38;5;124m\"\u001b[39m\n\u001b[0;32m-> 2755\u001b[0m plotter \u001b[38;5;241m=\u001b[39m _BarPlotter(x, y, hue, data, order, hue_order,\n\u001b[1;32m   2756\u001b[0m                       estimator, errorbar, n_boot, units, seed,\n\u001b[1;32m   2757\u001b[0m                       orient, color, palette, saturation,\n\u001b[1;32m   2758\u001b[0m                       width, errcolor, errwidth, capsize, dodge)\n\u001b[1;32m   2760\u001b[0m \u001b[38;5;28;01mif\u001b[39;00m ax \u001b[38;5;129;01mis\u001b[39;00m \u001b[38;5;28;01mNone\u001b[39;00m:\n\u001b[1;32m   2761\u001b[0m     ax \u001b[38;5;241m=\u001b[39m plt\u001b[38;5;241m.\u001b[39mgca()\n",
      "File \u001b[0;32m~/Library/miniconda3/envs/fast/lib/python3.11/site-packages/seaborn/categorical.py:1532\u001b[0m, in \u001b[0;36m_BarPlotter.__init__\u001b[0;34m(self, x, y, hue, data, order, hue_order, estimator, errorbar, n_boot, units, seed, orient, color, palette, saturation, width, errcolor, errwidth, capsize, dodge)\u001b[0m\n\u001b[1;32m   1529\u001b[0m \u001b[38;5;250m\u001b[39m\u001b[38;5;124;03m\"\"\"Initialize the plotter.\"\"\"\u001b[39;00m\n\u001b[1;32m   1530\u001b[0m \u001b[38;5;28mself\u001b[39m\u001b[38;5;241m.\u001b[39mestablish_variables(x, y, hue, data, orient,\n\u001b[1;32m   1531\u001b[0m                          order, hue_order, units)\n\u001b[0;32m-> 1532\u001b[0m \u001b[38;5;28mself\u001b[39m\u001b[38;5;241m.\u001b[39mestablish_colors(color, palette, saturation)\n\u001b[1;32m   1533\u001b[0m \u001b[38;5;28mself\u001b[39m\u001b[38;5;241m.\u001b[39mestimate_statistic(estimator, errorbar, n_boot, seed)\n\u001b[1;32m   1535\u001b[0m \u001b[38;5;28mself\u001b[39m\u001b[38;5;241m.\u001b[39mdodge \u001b[38;5;241m=\u001b[39m dodge\n",
      "File \u001b[0;32m~/Library/miniconda3/envs/fast/lib/python3.11/site-packages/seaborn/categorical.py:707\u001b[0m, in \u001b[0;36m_CategoricalPlotter.establish_colors\u001b[0;34m(self, color, palette, saturation)\u001b[0m\n\u001b[1;32m    705\u001b[0m \u001b[38;5;66;03m# Determine the gray color to use for the lines framing the plot\u001b[39;00m\n\u001b[1;32m    706\u001b[0m light_vals \u001b[38;5;241m=\u001b[39m [rgb_to_hls(\u001b[38;5;241m*\u001b[39mc)[\u001b[38;5;241m1\u001b[39m] \u001b[38;5;28;01mfor\u001b[39;00m c \u001b[38;5;129;01min\u001b[39;00m rgb_colors]\n\u001b[0;32m--> 707\u001b[0m lum \u001b[38;5;241m=\u001b[39m \u001b[38;5;28mmin\u001b[39m(light_vals) \u001b[38;5;241m*\u001b[39m \u001b[38;5;241m.6\u001b[39m\n\u001b[1;32m    708\u001b[0m gray \u001b[38;5;241m=\u001b[39m mpl\u001b[38;5;241m.\u001b[39mcolors\u001b[38;5;241m.\u001b[39mrgb2hex((lum, lum, lum))\n\u001b[1;32m    710\u001b[0m \u001b[38;5;66;03m# Assign object attributes\u001b[39;00m\n",
      "\u001b[0;31mValueError\u001b[0m: min() arg is an empty sequence"
     ]
    }
   ],
   "source": [
    "hist_out = out.groupby('level').mean().reset_index()\n",
    "sns.barplot(x='level', y='time', data=hist_out)\n",
    "plt.ylabel('avg. insert time (query index - fast)')"
   ]
  },
  {
   "cell_type": "markdown",
   "metadata": {},
   "source": [
    "### Obj index search"
   ]
  },
  {
   "cell_type": "code",
   "execution_count": null,
   "metadata": {},
   "outputs": [],
   "source": [
    "search_only = pd.DataFrame(stats[stats['stage'] == 'obj_search'])\n",
    "search_only['ar'] = search_only['ar'].apply(lambda x: 512 if x > 512 else x)\n",
    "\n",
    "sns.scatterplot(y='time', x='ar', data=search_only.loc[:, ['ar', 'time']])"
   ]
  },
  {
   "cell_type": "code",
   "execution_count": null,
   "metadata": {},
   "outputs": [],
   "source": [
    "sns.scatterplot(y='time', x='n_keywords', data=search_only.loc[:, ['n_keywords', 'time']])"
   ]
  },
  {
   "cell_type": "code",
   "execution_count": null,
   "metadata": {},
   "outputs": [],
   "source": [
    "sns.scatterplot(y='time', x='des_count', data=search_only.loc[:, ['des_count', 'time']])"
   ]
  },
  {
   "cell_type": "code",
   "execution_count": null,
   "metadata": {},
   "outputs": [],
   "source": [
    "sns.scatterplot(y='time', x='level', data=search_only.loc[:, ['level', 'time']])"
   ]
  },
  {
   "cell_type": "code",
   "execution_count": null,
   "metadata": {},
   "outputs": [],
   "source": []
  }
 ],
 "metadata": {
  "kernelspec": {
   "display_name": "Python 3 (ipykernel)",
   "language": "python",
   "name": "python3"
  },
  "language_info": {
   "codemirror_mode": {
    "name": "ipython",
    "version": 3
   },
   "file_extension": ".py",
   "mimetype": "text/x-python",
   "name": "python",
   "nbconvert_exporter": "python",
   "pygments_lexer": "ipython3",
   "version": "3.11.5"
  }
 },
 "nbformat": 4,
 "nbformat_minor": 4
}
