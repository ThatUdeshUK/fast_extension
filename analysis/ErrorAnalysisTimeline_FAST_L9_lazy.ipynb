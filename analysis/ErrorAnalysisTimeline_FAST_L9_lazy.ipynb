{
 "cells": [
  {
   "cell_type": "code",
   "execution_count": 1,
   "metadata": {
    "ExecuteTime": {
     "end_time": "2024-02-10T04:42:05.476463Z",
     "start_time": "2024-02-10T04:42:05.467982Z"
    }
   },
   "outputs": [],
   "source": [
    "import pandas as pd\n",
    "import numpy as np\n",
    "import seaborn as sns\n",
    "import matplotlib.pyplot as plt\n",
    "import matplotlib\n",
    "\n",
    "import warnings\n",
    "warnings.filterwarnings(\"ignore\", \"is_categorical_dtype\")\n",
    "warnings.filterwarnings(\"ignore\", \"use_inf_as_na\")\n",
    "\n",
    "font = {'size'   : 12}\n",
    "\n",
    "matplotlib.rc('font', **font)"
   ]
  },
  {
   "cell_type": "code",
   "execution_count": 2,
   "metadata": {
    "ExecuteTime": {
     "end_time": "2024-02-10T04:42:05.521527Z",
     "start_time": "2024-02-10T04:42:05.478642Z"
    },
    "collapsed": false,
    "jupyter": {
     "outputs_hidden": false
    }
   },
   "outputs": [
    {
     "data": {
      "text/html": [
       "<div>\n",
       "<style scoped>\n",
       "    .dataframe tbody tr th:only-of-type {\n",
       "        vertical-align: middle;\n",
       "    }\n",
       "\n",
       "    .dataframe tbody tr th {\n",
       "        vertical-align: top;\n",
       "    }\n",
       "\n",
       "    .dataframe thead th {\n",
       "        text-align: right;\n",
       "    }\n",
       "</style>\n",
       "<table border=\"1\" class=\"dataframe\">\n",
       "  <thead>\n",
       "    <tr style=\"text-align: right;\">\n",
       "      <th></th>\n",
       "      <th>index</th>\n",
       "      <th>name</th>\n",
       "      <th>ar</th>\n",
       "      <th>des_count</th>\n",
       "      <th>level</th>\n",
       "      <th>stage</th>\n",
       "      <th>time</th>\n",
       "    </tr>\n",
       "  </thead>\n",
       "  <tbody>\n",
       "    <tr>\n",
       "      <th>0</th>\n",
       "      <td>0</td>\n",
       "      <td>fast</td>\n",
       "      <td>1.797693e+308</td>\n",
       "      <td>0</td>\n",
       "      <td>9</td>\n",
       "      <td>obj_search</td>\n",
       "      <td>0.000000</td>\n",
       "    </tr>\n",
       "    <tr>\n",
       "      <th>1</th>\n",
       "      <td>1</td>\n",
       "      <td>fast</td>\n",
       "      <td>1.797693e+308</td>\n",
       "      <td>0</td>\n",
       "      <td>9</td>\n",
       "      <td>obj_search</td>\n",
       "      <td>0.000000</td>\n",
       "    </tr>\n",
       "    <tr>\n",
       "      <th>2</th>\n",
       "      <td>2</td>\n",
       "      <td>fast</td>\n",
       "      <td>1.797693e+308</td>\n",
       "      <td>0</td>\n",
       "      <td>9</td>\n",
       "      <td>obj_search</td>\n",
       "      <td>0.000000</td>\n",
       "    </tr>\n",
       "    <tr>\n",
       "      <th>3</th>\n",
       "      <td>3</td>\n",
       "      <td>fast</td>\n",
       "      <td>1.797693e+308</td>\n",
       "      <td>0</td>\n",
       "      <td>9</td>\n",
       "      <td>obj_search</td>\n",
       "      <td>0.000000</td>\n",
       "    </tr>\n",
       "    <tr>\n",
       "      <th>4</th>\n",
       "      <td>4</td>\n",
       "      <td>fast</td>\n",
       "      <td>1.797693e+308</td>\n",
       "      <td>0</td>\n",
       "      <td>9</td>\n",
       "      <td>obj_search</td>\n",
       "      <td>0.000000</td>\n",
       "    </tr>\n",
       "    <tr>\n",
       "      <th>...</th>\n",
       "      <td>...</td>\n",
       "      <td>...</td>\n",
       "      <td>...</td>\n",
       "      <td>...</td>\n",
       "      <td>...</td>\n",
       "      <td>...</td>\n",
       "      <td>...</td>\n",
       "    </tr>\n",
       "    <tr>\n",
       "      <th>12199995</th>\n",
       "      <td>2499995</td>\n",
       "      <td>fast</td>\n",
       "      <td>1.797693e+308</td>\n",
       "      <td>0</td>\n",
       "      <td>9</td>\n",
       "      <td>insert</td>\n",
       "      <td>0.001322</td>\n",
       "    </tr>\n",
       "    <tr>\n",
       "      <th>12199996</th>\n",
       "      <td>2499996</td>\n",
       "      <td>fast</td>\n",
       "      <td>1.797693e+308</td>\n",
       "      <td>0</td>\n",
       "      <td>9</td>\n",
       "      <td>insert</td>\n",
       "      <td>0.001134</td>\n",
       "    </tr>\n",
       "    <tr>\n",
       "      <th>12199997</th>\n",
       "      <td>2499997</td>\n",
       "      <td>fast</td>\n",
       "      <td>1.797693e+308</td>\n",
       "      <td>0</td>\n",
       "      <td>9</td>\n",
       "      <td>insert</td>\n",
       "      <td>0.004097</td>\n",
       "    </tr>\n",
       "    <tr>\n",
       "      <th>12199998</th>\n",
       "      <td>2499998</td>\n",
       "      <td>fast</td>\n",
       "      <td>1.797693e+308</td>\n",
       "      <td>0</td>\n",
       "      <td>9</td>\n",
       "      <td>insert</td>\n",
       "      <td>0.002391</td>\n",
       "    </tr>\n",
       "    <tr>\n",
       "      <th>12199999</th>\n",
       "      <td>2499999</td>\n",
       "      <td>fast</td>\n",
       "      <td>1.797693e+308</td>\n",
       "      <td>0</td>\n",
       "      <td>9</td>\n",
       "      <td>insert</td>\n",
       "      <td>0.001619</td>\n",
       "    </tr>\n",
       "  </tbody>\n",
       "</table>\n",
       "<p>12200000 rows × 7 columns</p>\n",
       "</div>"
      ],
      "text/plain": [
       "            index  name             ar  des_count  level       stage      time\n",
       "0               0  fast  1.797693e+308          0      9  obj_search  0.000000\n",
       "1               1  fast  1.797693e+308          0      9  obj_search  0.000000\n",
       "2               2  fast  1.797693e+308          0      9  obj_search  0.000000\n",
       "3               3  fast  1.797693e+308          0      9  obj_search  0.000000\n",
       "4               4  fast  1.797693e+308          0      9  obj_search  0.000000\n",
       "...           ...   ...            ...        ...    ...         ...       ...\n",
       "12199995  2499995  fast  1.797693e+308          0      9      insert  0.001322\n",
       "12199996  2499996  fast  1.797693e+308          0      9      insert  0.001134\n",
       "12199997  2499997  fast  1.797693e+308          0      9      insert  0.004097\n",
       "12199998  2499998  fast  1.797693e+308          0      9      insert  0.002391\n",
       "12199999  2499999  fast  1.797693e+308          0      9      insert  0.001619\n",
       "\n",
       "[12200000 rows x 7 columns]"
      ]
     },
     "execution_count": 2,
     "metadata": {},
     "output_type": "execute_result"
    }
   ],
   "source": [
    "create_time = pd.read_csv(\"../results_remote/FAST_KNN_NO_ObjIndex_L9_lazy_search_sub_timeline_2500000_100000.csv\", names=['obj_search', 'insert', 'ar', 'des_count', 'level']).reset_index()\n",
    "create_time['name'] = 'fast'\n",
    "create_time['obj_search'] = create_time['obj_search'] / 1000000\n",
    "create_time['insert'] = create_time['insert'] / 1000000\n",
    "create_time = create_time.melt(id_vars=['index', 'name', 'ar', 'des_count', 'level'], var_name='stage', value_name='time')\n",
    "\n",
    "create_time"
   ]
  },
  {
   "cell_type": "markdown",
   "metadata": {},
   "source": [
    "## Creation time"
   ]
  },
  {
   "cell_type": "code",
   "execution_count": 3,
   "metadata": {},
   "outputs": [
    {
     "data": {
      "text/plain": [
       "(0.0, 10.0)"
      ]
     },
     "execution_count": 3,
     "metadata": {},
     "output_type": "execute_result"
    },
    {
     "data": {
      "image/png": "[encoded data removed]",
      "text/plain": [
       "<Figure size 1600x300 with 1 Axes>"
      ]
     },
     "metadata": {},
     "output_type": "display_data"
    }
   ],
   "source": [
    "plt.figure(figsize=(16,3))\n",
    "sns.histplot(x='time', bins=500, hue='stage', multiple='layer', data=create_time)\n",
    "plt.xlabel('time (milis)')\n",
    "plt.ylim(0, 10)"
   ]
  },
  {
   "cell_type": "markdown",
   "metadata": {},
   "source": [
    "**Miserable queries**\n",
    "\n",
    "Queries that takes too much time (>100 milis). "
   ]
  },
  {
   "cell_type": "code",
   "execution_count": 4,
   "metadata": {},
   "outputs": [
    {
     "data": {
      "text/html": [
       "<div>\n",
       "<style scoped>\n",
       "    .dataframe tbody tr th:only-of-type {\n",
       "        vertical-align: middle;\n",
       "    }\n",
       "\n",
       "    .dataframe tbody tr th {\n",
       "        vertical-align: top;\n",
       "    }\n",
       "\n",
       "    .dataframe thead th {\n",
       "        text-align: right;\n",
       "    }\n",
       "</style>\n",
       "<table border=\"1\" class=\"dataframe\">\n",
       "  <thead>\n",
       "    <tr style=\"text-align: right;\">\n",
       "      <th></th>\n",
       "      <th>index</th>\n",
       "      <th>name</th>\n",
       "      <th>ar</th>\n",
       "      <th>des_count</th>\n",
       "      <th>level</th>\n",
       "      <th>stage</th>\n",
       "      <th>time</th>\n",
       "    </tr>\n",
       "  </thead>\n",
       "  <tbody>\n",
       "    <tr>\n",
       "      <th>9590209</th>\n",
       "      <td>1890209</td>\n",
       "      <td>fast</td>\n",
       "      <td>1.797693e+308</td>\n",
       "      <td>0</td>\n",
       "      <td>9</td>\n",
       "      <td>insert</td>\n",
       "      <td>1725.356371</td>\n",
       "    </tr>\n",
       "    <tr>\n",
       "      <th>11639777</th>\n",
       "      <td>1939777</td>\n",
       "      <td>fast</td>\n",
       "      <td>1.069274e+02</td>\n",
       "      <td>1</td>\n",
       "      <td>8</td>\n",
       "      <td>insert</td>\n",
       "      <td>1455.977822</td>\n",
       "    </tr>\n",
       "    <tr>\n",
       "      <th>9223410</th>\n",
       "      <td>1523410</td>\n",
       "      <td>fast</td>\n",
       "      <td>1.908000e+02</td>\n",
       "      <td>1</td>\n",
       "      <td>8</td>\n",
       "      <td>insert</td>\n",
       "      <td>1374.976940</td>\n",
       "    </tr>\n",
       "    <tr>\n",
       "      <th>12118585</th>\n",
       "      <td>2418585</td>\n",
       "      <td>fast</td>\n",
       "      <td>1.209685e+02</td>\n",
       "      <td>1</td>\n",
       "      <td>8</td>\n",
       "      <td>insert</td>\n",
       "      <td>1371.853500</td>\n",
       "    </tr>\n",
       "    <tr>\n",
       "      <th>11295447</th>\n",
       "      <td>1595447</td>\n",
       "      <td>fast</td>\n",
       "      <td>9.226330e+01</td>\n",
       "      <td>1</td>\n",
       "      <td>8</td>\n",
       "      <td>insert</td>\n",
       "      <td>1335.989332</td>\n",
       "    </tr>\n",
       "    <tr>\n",
       "      <th>...</th>\n",
       "      <td>...</td>\n",
       "      <td>...</td>\n",
       "      <td>...</td>\n",
       "      <td>...</td>\n",
       "      <td>...</td>\n",
       "      <td>...</td>\n",
       "      <td>...</td>\n",
       "    </tr>\n",
       "    <tr>\n",
       "      <th>6377730</th>\n",
       "      <td>177730</td>\n",
       "      <td>fast</td>\n",
       "      <td>3.103181e-01</td>\n",
       "      <td>1</td>\n",
       "      <td>8</td>\n",
       "      <td>insert</td>\n",
       "      <td>5.001232</td>\n",
       "    </tr>\n",
       "    <tr>\n",
       "      <th>9949112</th>\n",
       "      <td>249112</td>\n",
       "      <td>fast</td>\n",
       "      <td>9.023200e+00</td>\n",
       "      <td>0</td>\n",
       "      <td>9</td>\n",
       "      <td>insert</td>\n",
       "      <td>5.000947</td>\n",
       "    </tr>\n",
       "    <tr>\n",
       "      <th>10776734</th>\n",
       "      <td>1076734</td>\n",
       "      <td>fast</td>\n",
       "      <td>3.823739e+00</td>\n",
       "      <td>1</td>\n",
       "      <td>8</td>\n",
       "      <td>insert</td>\n",
       "      <td>5.000710</td>\n",
       "    </tr>\n",
       "    <tr>\n",
       "      <th>10477913</th>\n",
       "      <td>777913</td>\n",
       "      <td>fast</td>\n",
       "      <td>4.275239e+01</td>\n",
       "      <td>1</td>\n",
       "      <td>8</td>\n",
       "      <td>insert</td>\n",
       "      <td>5.000591</td>\n",
       "    </tr>\n",
       "    <tr>\n",
       "      <th>8317749</th>\n",
       "      <td>617749</td>\n",
       "      <td>fast</td>\n",
       "      <td>7.525924e+00</td>\n",
       "      <td>1</td>\n",
       "      <td>8</td>\n",
       "      <td>insert</td>\n",
       "      <td>5.000121</td>\n",
       "    </tr>\n",
       "  </tbody>\n",
       "</table>\n",
       "<p>69846 rows × 7 columns</p>\n",
       "</div>"
      ],
      "text/plain": [
       "            index  name             ar  des_count  level   stage         time\n",
       "9590209   1890209  fast  1.797693e+308          0      9  insert  1725.356371\n",
       "11639777  1939777  fast   1.069274e+02          1      8  insert  1455.977822\n",
       "9223410   1523410  fast   1.908000e+02          1      8  insert  1374.976940\n",
       "12118585  2418585  fast   1.209685e+02          1      8  insert  1371.853500\n",
       "11295447  1595447  fast   9.226330e+01          1      8  insert  1335.989332\n",
       "...           ...   ...            ...        ...    ...     ...          ...\n",
       "6377730    177730  fast   3.103181e-01          1      8  insert     5.001232\n",
       "9949112    249112  fast   9.023200e+00          0      9  insert     5.000947\n",
       "10776734  1076734  fast   3.823739e+00          1      8  insert     5.000710\n",
       "10477913   777913  fast   4.275239e+01          1      8  insert     5.000591\n",
       "8317749    617749  fast   7.525924e+00          1      8  insert     5.000121\n",
       "\n",
       "[69846 rows x 7 columns]"
      ]
     },
     "execution_count": 4,
     "metadata": {},
     "output_type": "execute_result"
    }
   ],
   "source": [
    "miserable_queries = create_time[create_time['time'] > 5].sort_values('time', ascending=False)\n",
    "miserable_queries"
   ]
  },
  {
   "cell_type": "code",
   "execution_count": null,
   "metadata": {},
   "outputs": [],
   "source": [
    "# step = 500000\n",
    "# for i in range(0, 2500000, step):\n",
    "plt.figure(figsize=(16,3))\n",
    "sns.lineplot(x='index', y='time', hue='stage', style='stage', data=create_time)\n",
    "plt.xlabel('timestamp')\n",
    "plt.ylabel('time (milis)')\n",
    "plt.ylim(0, 150)"
   ]
  },
  {
   "cell_type": "markdown",
   "metadata": {},
   "source": [
    "Relative time (FAST vs CkQST)"
   ]
  },
  {
   "cell_type": "code",
   "execution_count": null,
   "metadata": {},
   "outputs": [],
   "source": [
    "# relative_create = create_time[create_time['stage'] == 'insert']['time'].reset_index() - create_time[create_time['stage'] == 'obj_search']['time'].reset_index()\n",
    "# relative_create\n",
    "# plt.figure(figsize=(16,8))\n",
    "# sns.lineplot(data=relative_create)\n",
    "# plt.xlabel('timestamp')\n",
    "# plt.ylabel('time (milis)')"
   ]
  },
  {
   "cell_type": "markdown",
   "metadata": {
    "ExecuteTime": {
     "end_time": "2024-02-10T04:42:06.554282Z",
     "start_time": "2024-02-10T04:42:06.538652Z"
    },
    "collapsed": false,
    "jupyter": {
     "outputs_hidden": false
    }
   },
   "source": [
    "## Load Queries"
   ]
  },
  {
   "cell_type": "code",
   "execution_count": null,
   "metadata": {},
   "outputs": [],
   "source": [
    "queries_df = pd.read_json('../../data/exported/places_o200000_q2500000_scaled.json', lines=True);\n",
    "queries_df = queries_df.iloc[200000:, :].reset_index(drop=True).drop(columns=['id']).reset_index()\n",
    "\n",
    "queries_df.tail()"
   ]
  },
  {
   "cell_type": "markdown",
   "metadata": {},
   "source": [
    "### Properties of miserable queries"
   ]
  },
  {
   "cell_type": "code",
   "execution_count": null,
   "metadata": {},
   "outputs": [],
   "source": [
    "queries_df.shape"
   ]
  },
  {
   "cell_type": "code",
   "execution_count": null,
   "metadata": {},
   "outputs": [],
   "source": [
    "details = queries_df.join(miserable_queries.set_index('index'), on='index').dropna().sort_values('time', ascending=False)\n",
    "# details = details[details['name'] == 'fast']\n",
    "inf_val = details['ar'].max()\n",
    "details['ar'] = details['ar'].apply(lambda x: np.inf if x >= inf_val else x)\n",
    "all = details.drop(columns=['x', 'y']).rename(columns={'time': 'insertion time (milis)'})"
   ]
  },
  {
   "cell_type": "code",
   "execution_count": null,
   "metadata": {},
   "outputs": [],
   "source": [
    "obj_search = all[all['stage'] == 'obj_search']\n",
    "insert = all[all['stage'] == 'insert']\n",
    "\n",
    "# insert#.join(ckqsts, rsuffix='_')\n",
    "insert.head(25)\n",
    "# all.head(25)"
   ]
  },
  {
   "cell_type": "code",
   "execution_count": null,
   "metadata": {},
   "outputs": [],
   "source": [
    "obj_search.head(25)"
   ]
  },
  {
   "cell_type": "markdown",
   "metadata": {},
   "source": [
    "## Query size vs Insertion time"
   ]
  },
  {
   "cell_type": "code",
   "execution_count": null,
   "metadata": {},
   "outputs": [],
   "source": [
    "stats = create_time.copy()\n",
    "stats = queries_df.join(stats.set_index('index'), on='index').dropna()"
   ]
  },
  {
   "cell_type": "code",
   "execution_count": null,
   "metadata": {},
   "outputs": [],
   "source": [
    "stats['n_keywords'] = stats['keywords'].apply(lambda x: min(len(x), 5))"
   ]
  },
  {
   "cell_type": "markdown",
   "metadata": {},
   "source": [
    "### Query index insert"
   ]
  },
  {
   "cell_type": "code",
   "execution_count": null,
   "metadata": {},
   "outputs": [],
   "source": [
    "insert_only = pd.DataFrame(stats[stats['stage'] == 'insert'])\n",
    "insert_only['ar'] = insert_only['ar'].apply(lambda x: 512 if x > 512 else x)\n",
    "\n",
    "sns.scatterplot(y='time', x='ar', data=insert_only.loc[:, ['ar', 'time']])"
   ]
  },
  {
   "cell_type": "code",
   "execution_count": null,
   "metadata": {},
   "outputs": [],
   "source": [
    "sns.scatterplot(y='time', x='n_keywords', data=insert_only.loc[:, ['n_keywords', 'time']])"
   ]
  },
  {
   "cell_type": "code",
   "execution_count": null,
   "metadata": {},
   "outputs": [],
   "source": [
    "sns.scatterplot(y='time', x='des_count', data=insert_only.loc[:, ['des_count', 'time']])"
   ]
  },
  {
   "cell_type": "code",
   "execution_count": null,
   "metadata": {},
   "outputs": [],
   "source": [
    "sns.scatterplot(y='time', x='level', data=insert_only.loc[:, ['level', 'time']])"
   ]
  },
  {
   "cell_type": "code",
   "execution_count": null,
   "metadata": {},
   "outputs": [],
   "source": [
    "out = insert_only.loc[:, ['level', 'time']]"
   ]
  },
  {
   "cell_type": "code",
   "execution_count": null,
   "metadata": {},
   "outputs": [],
   "source": [
    "sns.histplot(out['level'])"
   ]
  },
  {
   "cell_type": "code",
   "execution_count": null,
   "metadata": {},
   "outputs": [],
   "source": [
    "sns.histplot(out['level'])\n",
    "plt.ylim(0, 15000)"
   ]
  },
  {
   "cell_type": "code",
   "execution_count": null,
   "metadata": {},
   "outputs": [],
   "source": [
    "hist_out = out.groupby('level').mean().reset_index()\n",
    "sns.barplot(x='level', y='time', data=hist_out)\n",
    "plt.ylabel('avg. insert time (query index - fast)')"
   ]
  },
  {
   "cell_type": "markdown",
   "metadata": {},
   "source": [
    "### Obj index search"
   ]
  },
  {
   "cell_type": "code",
   "execution_count": null,
   "metadata": {},
   "outputs": [],
   "source": [
    "search_only = pd.DataFrame(stats[stats['stage'] == 'obj_search'])\n",
    "search_only['ar'] = search_only['ar'].apply(lambda x: 512 if x > 512 else x)\n",
    "\n",
    "sns.scatterplot(y='time', x='ar', data=search_only.loc[:, ['ar', 'time']])"
   ]
  },
  {
   "cell_type": "code",
   "execution_count": null,
   "metadata": {},
   "outputs": [],
   "source": [
    "sns.scatterplot(y='time', x='n_keywords', data=search_only.loc[:, ['n_keywords', 'time']])"
   ]
  },
  {
   "cell_type": "code",
   "execution_count": null,
   "metadata": {},
   "outputs": [],
   "source": [
    "sns.scatterplot(y='time', x='des_count', data=search_only.loc[:, ['des_count', 'time']])"
   ]
  },
  {
   "cell_type": "code",
   "execution_count": null,
   "metadata": {},
   "outputs": [],
   "source": [
    "sns.scatterplot(y='time', x='level', data=search_only.loc[:, ['level', 'time']])"
   ]
  },
  {
   "cell_type": "code",
   "execution_count": null,
   "metadata": {},
   "outputs": [],
   "source": []
  }
 ],
 "metadata": {
  "kernelspec": {
   "display_name": "Python 3 (ipykernel)",
   "language": "python",
   "name": "python3"
  },
  "language_info": {
   "codemirror_mode": {
    "name": "ipython",
    "version": 3
   },
   "file_extension": ".py",
   "mimetype": "text/x-python",
   "name": "python",
   "nbconvert_exporter": "python",
   "pygments_lexer": "ipython3",
   "version": "3.11.5"
  }
 },
 "nbformat": 4,
 "nbformat_minor": 4
}
