{
 "cells": [
  {
   "cell_type": "code",
   "execution_count": 1,
   "id": "24e009a5-bf99-4e98-bc92-b35152079e48",
   "metadata": {},
   "outputs": [],
   "source": [
    "import numpy as np\n",
    "import pandas as pd\n",
    "import seaborn as sns\n",
    "import matplotlib.pyplot as plt"
   ]
  },
  {
   "cell_type": "code",
   "execution_count": 2,
   "id": "2483ba7d-13ef-45fc-924b-b3c3ba2fc719",
   "metadata": {},
   "outputs": [
    {
     "data": {
      "text/html": [
       "<div>\n",
       "<style scoped>\n",
       "    .dataframe tbody tr th:only-of-type {\n",
       "        vertical-align: middle;\n",
       "    }\n",
       "\n",
       "    .dataframe tbody tr th {\n",
       "        vertical-align: top;\n",
       "    }\n",
       "\n",
       "    .dataframe thead th {\n",
       "        text-align: right;\n",
       "    }\n",
       "</style>\n",
       "<table border=\"1\" class=\"dataframe\">\n",
       "  <thead>\n",
       "    <tr style=\"text-align: right;\">\n",
       "      <th></th>\n",
       "      <th>index</th>\n",
       "      <th>x</th>\n",
       "      <th>y</th>\n",
       "      <th>keywords</th>\n",
       "      <th>scaled</th>\n",
       "    </tr>\n",
       "  </thead>\n",
       "  <tbody>\n",
       "    <tr>\n",
       "      <th>2499995</th>\n",
       "      <td>2499995</td>\n",
       "      <td>409.894898</td>\n",
       "      <td>103.097463</td>\n",
       "      <td>[telephone, cellular]</td>\n",
       "      <td>True</td>\n",
       "    </tr>\n",
       "    <tr>\n",
       "      <th>2499996</th>\n",
       "      <td>2499996</td>\n",
       "      <td>402.284307</td>\n",
       "      <td>107.998284</td>\n",
       "      <td>[contractor]</td>\n",
       "      <td>True</td>\n",
       "    </tr>\n",
       "    <tr>\n",
       "      <th>2499997</th>\n",
       "      <td>2499997</td>\n",
       "      <td>406.953882</td>\n",
       "      <td>110.040834</td>\n",
       "      <td>[church]</td>\n",
       "      <td>True</td>\n",
       "    </tr>\n",
       "    <tr>\n",
       "      <th>2499998</th>\n",
       "      <td>2499998</td>\n",
       "      <td>412.621720</td>\n",
       "      <td>107.253521</td>\n",
       "      <td>[lounge, drinking, eating, cocktail]</td>\n",
       "      <td>True</td>\n",
       "    </tr>\n",
       "    <tr>\n",
       "      <th>2499999</th>\n",
       "      <td>2499999</td>\n",
       "      <td>412.835319</td>\n",
       "      <td>107.262331</td>\n",
       "      <td>[coping, plastering, tiling, pool, swimming]</td>\n",
       "      <td>True</td>\n",
       "    </tr>\n",
       "  </tbody>\n",
       "</table>\n",
       "</div>"
      ],
      "text/plain": [
       "           index           x           y  \\\n",
       "2499995  2499995  409.894898  103.097463   \n",
       "2499996  2499996  402.284307  107.998284   \n",
       "2499997  2499997  406.953882  110.040834   \n",
       "2499998  2499998  412.621720  107.253521   \n",
       "2499999  2499999  412.835319  107.262331   \n",
       "\n",
       "                                             keywords  scaled  \n",
       "2499995                         [telephone, cellular]    True  \n",
       "2499996                                  [contractor]    True  \n",
       "2499997                                      [church]    True  \n",
       "2499998          [lounge, drinking, eating, cocktail]    True  \n",
       "2499999  [coping, plastering, tiling, pool, swimming]    True  "
      ]
     },
     "execution_count": 2,
     "metadata": {},
     "output_type": "execute_result"
    }
   ],
   "source": [
    "queries_df = pd.read_json('../../data/exported/places_o200000_q2500000_scaled.json', lines=True);\n",
    "queries_df = queries_df.iloc[200000:, :].reset_index(drop=True).drop(columns=['id']).reset_index()\n",
    "\n",
    "queries_df.tail()"
   ]
  },
  {
   "cell_type": "code",
   "execution_count": 3,
   "id": "5185eaa8-f077-4a37-80a7-d884a45704f6",
   "metadata": {},
   "outputs": [
    {
     "data": {
      "text/plain": [
       "array([list(['physician', 'surgeon']), list(['roofing', 'consultant']),\n",
       "       list(['appliance']), ..., list(['church']),\n",
       "       list(['lounge', 'drinking', 'eating', 'cocktail']),\n",
       "       list(['coping', 'plastering', 'tiling', 'pool', 'swimming'])],\n",
       "      dtype=object)"
      ]
     },
     "execution_count": 3,
     "metadata": {},
     "output_type": "execute_result"
    }
   ],
   "source": [
    "queries_df.keywords.values"
   ]
  },
  {
   "cell_type": "code",
   "execution_count": 4,
   "id": "e0401a21-d3d7-47b1-a104-35903bdb9277",
   "metadata": {},
   "outputs": [
    {
     "data": {
      "text/html": [
       "<div>\n",
       "<style scoped>\n",
       "    .dataframe tbody tr th:only-of-type {\n",
       "        vertical-align: middle;\n",
       "    }\n",
       "\n",
       "    .dataframe tbody tr th {\n",
       "        vertical-align: top;\n",
       "    }\n",
       "\n",
       "    .dataframe thead th {\n",
       "        text-align: right;\n",
       "    }\n",
       "</style>\n",
       "<table border=\"1\" class=\"dataframe\">\n",
       "  <thead>\n",
       "    <tr style=\"text-align: right;\">\n",
       "      <th></th>\n",
       "      <th>i</th>\n",
       "      <th>index</th>\n",
       "      <th>count</th>\n",
       "    </tr>\n",
       "  </thead>\n",
       "  <tbody>\n",
       "    <tr>\n",
       "      <th>0</th>\n",
       "      <td>0</td>\n",
       "      <td>contractor</td>\n",
       "      <td>220521</td>\n",
       "    </tr>\n",
       "    <tr>\n",
       "      <th>1</th>\n",
       "      <td>1</td>\n",
       "      <td>mfg</td>\n",
       "      <td>68901</td>\n",
       "    </tr>\n",
       "    <tr>\n",
       "      <th>2</th>\n",
       "      <td>2</td>\n",
       "      <td>general</td>\n",
       "      <td>66912</td>\n",
       "    </tr>\n",
       "    <tr>\n",
       "      <th>3</th>\n",
       "      <td>3</td>\n",
       "      <td>equipment</td>\n",
       "      <td>63266</td>\n",
       "    </tr>\n",
       "    <tr>\n",
       "      <th>4</th>\n",
       "      <td>4</td>\n",
       "      <td>automobile</td>\n",
       "      <td>62983</td>\n",
       "    </tr>\n",
       "    <tr>\n",
       "      <th>...</th>\n",
       "      <td>...</td>\n",
       "      <td>...</td>\n",
       "      <td>...</td>\n",
       "    </tr>\n",
       "    <tr>\n",
       "      <th>8999</th>\n",
       "      <td>8999</td>\n",
       "      <td>theory</td>\n",
       "      <td>1</td>\n",
       "    </tr>\n",
       "    <tr>\n",
       "      <th>9000</th>\n",
       "      <td>9000</td>\n",
       "      <td>leveraged</td>\n",
       "      <td>1</td>\n",
       "    </tr>\n",
       "    <tr>\n",
       "      <th>9001</th>\n",
       "      <td>9001</td>\n",
       "      <td>indigo</td>\n",
       "      <td>1</td>\n",
       "    </tr>\n",
       "    <tr>\n",
       "      <th>9002</th>\n",
       "      <td>9002</td>\n",
       "      <td>challenge</td>\n",
       "      <td>1</td>\n",
       "    </tr>\n",
       "    <tr>\n",
       "      <th>9003</th>\n",
       "      <td>9003</td>\n",
       "      <td>bob</td>\n",
       "      <td>1</td>\n",
       "    </tr>\n",
       "  </tbody>\n",
       "</table>\n",
       "<p>9004 rows × 3 columns</p>\n",
       "</div>"
      ],
      "text/plain": [
       "         i       index   count\n",
       "0        0  contractor  220521\n",
       "1        1         mfg   68901\n",
       "2        2     general   66912\n",
       "3        3   equipment   63266\n",
       "4        4  automobile   62983\n",
       "...    ...         ...     ...\n",
       "8999  8999      theory       1\n",
       "9000  9000   leveraged       1\n",
       "9001  9001      indigo       1\n",
       "9002  9002   challenge       1\n",
       "9003  9003         bob       1\n",
       "\n",
       "[9004 rows x 3 columns]"
      ]
     },
     "execution_count": 4,
     "metadata": {},
     "output_type": "execute_result"
    }
   ],
   "source": [
    "all_keywords = [x for xs in queries_df.keywords.values for x in xs]\n",
    "count = pd.DataFrame(pd.Series(all_keywords).value_counts()).reset_index().reset_index().rename(columns={'level_0': 'i'})\n",
    "count"
   ]
  },
  {
   "cell_type": "code",
   "execution_count": 5,
   "id": "5e01e7d6-344b-4c25-aec5-fbd0d49d0f3c",
   "metadata": {},
   "outputs": [
    {
     "name": "stderr",
     "output_type": "stream",
     "text": [
      "/Users/udeshuk/Library/miniconda3/envs/fast/lib/python3.11/site-packages/seaborn/_oldcore.py:1498: FutureWarning: is_categorical_dtype is deprecated and will be removed in a future version. Use isinstance(dtype, CategoricalDtype) instead\n",
      "  if pd.api.types.is_categorical_dtype(vector):\n",
      "/Users/udeshuk/Library/miniconda3/envs/fast/lib/python3.11/site-packages/seaborn/_oldcore.py:1498: FutureWarning: is_categorical_dtype is deprecated and will be removed in a future version. Use isinstance(dtype, CategoricalDtype) instead\n",
      "  if pd.api.types.is_categorical_dtype(vector):\n",
      "/Users/udeshuk/Library/miniconda3/envs/fast/lib/python3.11/site-packages/seaborn/_oldcore.py:1119: FutureWarning: use_inf_as_na option is deprecated and will be removed in a future version. Convert inf values to NaN before operating instead.\n",
      "  with pd.option_context('mode.use_inf_as_na', True):\n",
      "/Users/udeshuk/Library/miniconda3/envs/fast/lib/python3.11/site-packages/seaborn/_oldcore.py:1119: FutureWarning: use_inf_as_na option is deprecated and will be removed in a future version. Convert inf values to NaN before operating instead.\n",
      "  with pd.option_context('mode.use_inf_as_na', True):\n"
     ]
    },
    {
     "data": {
      "image/png": "[encoded data removed]",
      "text/plain": [
       "<Figure size 640x480 with 1 Axes>"
      ]
     },
     "metadata": {},
     "output_type": "display_data"
    }
   ],
   "source": [
    "sns.lineplot(x='i', y='count', data=count)\n",
    "plt.xscale('log')\n",
    "plt.yscale('log')"
   ]
  },
  {
   "cell_type": "code",
   "execution_count": 6,
   "id": "7b55ab9d-5cde-4807-811a-6f7055c7329d",
   "metadata": {},
   "outputs": [
    {
     "data": {
      "text/html": [
       "<div>\n",
       "<style scoped>\n",
       "    .dataframe tbody tr th:only-of-type {\n",
       "        vertical-align: middle;\n",
       "    }\n",
       "\n",
       "    .dataframe tbody tr th {\n",
       "        vertical-align: top;\n",
       "    }\n",
       "\n",
       "    .dataframe thead th {\n",
       "        text-align: right;\n",
       "    }\n",
       "</style>\n",
       "<table border=\"1\" class=\"dataframe\">\n",
       "  <thead>\n",
       "    <tr style=\"text-align: right;\">\n",
       "      <th></th>\n",
       "      <th>index</th>\n",
       "      <th>name</th>\n",
       "      <th>ar</th>\n",
       "      <th>des_count</th>\n",
       "      <th>level</th>\n",
       "      <th>stage</th>\n",
       "      <th>time</th>\n",
       "    </tr>\n",
       "  </thead>\n",
       "  <tbody>\n",
       "    <tr>\n",
       "      <th>0</th>\n",
       "      <td>0</td>\n",
       "      <td>fast</td>\n",
       "      <td>2.646341</td>\n",
       "      <td>0</td>\n",
       "      <td>9</td>\n",
       "      <td>obj_search</td>\n",
       "      <td>8.181625</td>\n",
       "    </tr>\n",
       "    <tr>\n",
       "      <th>1</th>\n",
       "      <td>1</td>\n",
       "      <td>fast</td>\n",
       "      <td>17.806978</td>\n",
       "      <td>0</td>\n",
       "      <td>9</td>\n",
       "      <td>obj_search</td>\n",
       "      <td>7.622545</td>\n",
       "    </tr>\n",
       "    <tr>\n",
       "      <th>2</th>\n",
       "      <td>2</td>\n",
       "      <td>fast</td>\n",
       "      <td>113.705647</td>\n",
       "      <td>0</td>\n",
       "      <td>9</td>\n",
       "      <td>obj_search</td>\n",
       "      <td>0.206345</td>\n",
       "    </tr>\n",
       "    <tr>\n",
       "      <th>3</th>\n",
       "      <td>3</td>\n",
       "      <td>fast</td>\n",
       "      <td>9.208080</td>\n",
       "      <td>0</td>\n",
       "      <td>9</td>\n",
       "      <td>obj_search</td>\n",
       "      <td>0.109322</td>\n",
       "    </tr>\n",
       "    <tr>\n",
       "      <th>4</th>\n",
       "      <td>4</td>\n",
       "      <td>fast</td>\n",
       "      <td>1.264358</td>\n",
       "      <td>0</td>\n",
       "      <td>9</td>\n",
       "      <td>obj_search</td>\n",
       "      <td>0.342787</td>\n",
       "    </tr>\n",
       "    <tr>\n",
       "      <th>...</th>\n",
       "      <td>...</td>\n",
       "      <td>...</td>\n",
       "      <td>...</td>\n",
       "      <td>...</td>\n",
       "      <td>...</td>\n",
       "      <td>...</td>\n",
       "      <td>...</td>\n",
       "    </tr>\n",
       "    <tr>\n",
       "      <th>4999995</th>\n",
       "      <td>2499995</td>\n",
       "      <td>fast</td>\n",
       "      <td>0.243780</td>\n",
       "      <td>0</td>\n",
       "      <td>9</td>\n",
       "      <td>insert</td>\n",
       "      <td>0.001155</td>\n",
       "    </tr>\n",
       "    <tr>\n",
       "      <th>4999996</th>\n",
       "      <td>2499996</td>\n",
       "      <td>fast</td>\n",
       "      <td>3.895217</td>\n",
       "      <td>0</td>\n",
       "      <td>9</td>\n",
       "      <td>insert</td>\n",
       "      <td>0.001094</td>\n",
       "    </tr>\n",
       "    <tr>\n",
       "      <th>4999997</th>\n",
       "      <td>2499997</td>\n",
       "      <td>fast</td>\n",
       "      <td>8.129695</td>\n",
       "      <td>0</td>\n",
       "      <td>9</td>\n",
       "      <td>insert</td>\n",
       "      <td>0.002577</td>\n",
       "    </tr>\n",
       "    <tr>\n",
       "      <th>4999998</th>\n",
       "      <td>2499998</td>\n",
       "      <td>fast</td>\n",
       "      <td>70.579975</td>\n",
       "      <td>0</td>\n",
       "      <td>9</td>\n",
       "      <td>insert</td>\n",
       "      <td>0.001430</td>\n",
       "    </tr>\n",
       "    <tr>\n",
       "      <th>4999999</th>\n",
       "      <td>2499999</td>\n",
       "      <td>fast</td>\n",
       "      <td>1.070561</td>\n",
       "      <td>0</td>\n",
       "      <td>9</td>\n",
       "      <td>insert</td>\n",
       "      <td>0.001068</td>\n",
       "    </tr>\n",
       "  </tbody>\n",
       "</table>\n",
       "<p>5000000 rows × 7 columns</p>\n",
       "</div>"
      ],
      "text/plain": [
       "           index  name          ar  des_count  level       stage      time\n",
       "0              0  fast    2.646341          0      9  obj_search  8.181625\n",
       "1              1  fast   17.806978          0      9  obj_search  7.622545\n",
       "2              2  fast  113.705647          0      9  obj_search  0.206345\n",
       "3              3  fast    9.208080          0      9  obj_search  0.109322\n",
       "4              4  fast    1.264358          0      9  obj_search  0.342787\n",
       "...          ...   ...         ...        ...    ...         ...       ...\n",
       "4999995  2499995  fast    0.243780          0      9      insert  0.001155\n",
       "4999996  2499996  fast    3.895217          0      9      insert  0.001094\n",
       "4999997  2499997  fast    8.129695          0      9      insert  0.002577\n",
       "4999998  2499998  fast   70.579975          0      9      insert  0.001430\n",
       "4999999  2499999  fast    1.070561          0      9      insert  0.001068\n",
       "\n",
       "[5000000 rows x 7 columns]"
      ]
     },
     "execution_count": 6,
     "metadata": {},
     "output_type": "execute_result"
    }
   ],
   "source": [
    "create_time = pd.read_csv(\"../results_03_15/FAST_KNN_NO_ObjIndex_L9_search_sub_timeline_2500000_100000.csv\", names=['obj_search', 'insert', 'ar', 'des_count', 'level']).reset_index()\n",
    "create_time['name'] = 'fast'\n",
    "create_time['obj_search'] = create_time['obj_search'] / 1000000\n",
    "create_time['insert'] = create_time['insert'] / 1000000\n",
    "create_melt_time = create_time.melt(id_vars=['index', 'name', 'ar', 'des_count', 'level'], var_name='stage', value_name='time')\n",
    "\n",
    "create_melt_time"
   ]
  },
  {
   "cell_type": "code",
   "execution_count": 7,
   "id": "234bc22d-454f-440f-a93e-4e16c1cccbdc",
   "metadata": {},
   "outputs": [],
   "source": [
    "stats = create_time.copy()\n",
    "stats = queries_df.join(stats.set_index('index'), on='index').dropna()"
   ]
  },
  {
   "cell_type": "code",
   "execution_count": 8,
   "id": "24a3d7c9-7e3f-4b2e-a984-9f9abb5313b1",
   "metadata": {},
   "outputs": [
    {
     "data": {
      "text/html": [
       "<div>\n",
       "<style scoped>\n",
       "    .dataframe tbody tr th:only-of-type {\n",
       "        vertical-align: middle;\n",
       "    }\n",
       "\n",
       "    .dataframe tbody tr th {\n",
       "        vertical-align: top;\n",
       "    }\n",
       "\n",
       "    .dataframe thead th {\n",
       "        text-align: right;\n",
       "    }\n",
       "</style>\n",
       "<table border=\"1\" class=\"dataframe\">\n",
       "  <thead>\n",
       "    <tr style=\"text-align: right;\">\n",
       "      <th></th>\n",
       "      <th>index</th>\n",
       "      <th>x</th>\n",
       "      <th>y</th>\n",
       "      <th>keywords</th>\n",
       "      <th>scaled</th>\n",
       "      <th>obj_search</th>\n",
       "      <th>insert</th>\n",
       "      <th>ar</th>\n",
       "      <th>des_count</th>\n",
       "      <th>level</th>\n",
       "      <th>name</th>\n",
       "    </tr>\n",
       "  </thead>\n",
       "  <tbody>\n",
       "    <tr>\n",
       "      <th>0</th>\n",
       "      <td>0</td>\n",
       "      <td>282.138698</td>\n",
       "      <td>151.113065</td>\n",
       "      <td>[physician, surgeon]</td>\n",
       "      <td>True</td>\n",
       "      <td>8.181625</td>\n",
       "      <td>3.089643</td>\n",
       "      <td>2.646341</td>\n",
       "      <td>0</td>\n",
       "      <td>9</td>\n",
       "      <td>fast</td>\n",
       "    </tr>\n",
       "    <tr>\n",
       "      <th>1</th>\n",
       "      <td>1</td>\n",
       "      <td>295.309161</td>\n",
       "      <td>141.425445</td>\n",
       "      <td>[roofing, consultant]</td>\n",
       "      <td>True</td>\n",
       "      <td>7.622545</td>\n",
       "      <td>0.033553</td>\n",
       "      <td>17.806978</td>\n",
       "      <td>0</td>\n",
       "      <td>9</td>\n",
       "      <td>fast</td>\n",
       "    </tr>\n",
       "    <tr>\n",
       "      <th>2</th>\n",
       "      <td>2</td>\n",
       "      <td>294.304889</td>\n",
       "      <td>141.179529</td>\n",
       "      <td>[appliance]</td>\n",
       "      <td>True</td>\n",
       "      <td>0.206345</td>\n",
       "      <td>0.018248</td>\n",
       "      <td>113.705647</td>\n",
       "      <td>0</td>\n",
       "      <td>9</td>\n",
       "      <td>fast</td>\n",
       "    </tr>\n",
       "    <tr>\n",
       "      <th>3</th>\n",
       "      <td>3</td>\n",
       "      <td>294.975799</td>\n",
       "      <td>140.572582</td>\n",
       "      <td>[electric, motor]</td>\n",
       "      <td>True</td>\n",
       "      <td>0.109322</td>\n",
       "      <td>0.016267</td>\n",
       "      <td>9.208080</td>\n",
       "      <td>0</td>\n",
       "      <td>9</td>\n",
       "      <td>fast</td>\n",
       "    </tr>\n",
       "    <tr>\n",
       "      <th>4</th>\n",
       "      <td>4</td>\n",
       "      <td>295.225233</td>\n",
       "      <td>140.466756</td>\n",
       "      <td>[plant, packing]</td>\n",
       "      <td>True</td>\n",
       "      <td>0.342787</td>\n",
       "      <td>0.017268</td>\n",
       "      <td>1.264358</td>\n",
       "      <td>0</td>\n",
       "      <td>9</td>\n",
       "      <td>fast</td>\n",
       "    </tr>\n",
       "    <tr>\n",
       "      <th>...</th>\n",
       "      <td>...</td>\n",
       "      <td>...</td>\n",
       "      <td>...</td>\n",
       "      <td>...</td>\n",
       "      <td>...</td>\n",
       "      <td>...</td>\n",
       "      <td>...</td>\n",
       "      <td>...</td>\n",
       "      <td>...</td>\n",
       "      <td>...</td>\n",
       "      <td>...</td>\n",
       "    </tr>\n",
       "    <tr>\n",
       "      <th>2499995</th>\n",
       "      <td>2499995</td>\n",
       "      <td>409.894898</td>\n",
       "      <td>103.097463</td>\n",
       "      <td>[telephone, cellular]</td>\n",
       "      <td>True</td>\n",
       "      <td>0.869409</td>\n",
       "      <td>0.001155</td>\n",
       "      <td>0.243780</td>\n",
       "      <td>0</td>\n",
       "      <td>9</td>\n",
       "      <td>fast</td>\n",
       "    </tr>\n",
       "    <tr>\n",
       "      <th>2499996</th>\n",
       "      <td>2499996</td>\n",
       "      <td>402.284307</td>\n",
       "      <td>107.998284</td>\n",
       "      <td>[contractor]</td>\n",
       "      <td>True</td>\n",
       "      <td>0.079392</td>\n",
       "      <td>0.001094</td>\n",
       "      <td>3.895217</td>\n",
       "      <td>0</td>\n",
       "      <td>9</td>\n",
       "      <td>fast</td>\n",
       "    </tr>\n",
       "    <tr>\n",
       "      <th>2499997</th>\n",
       "      <td>2499997</td>\n",
       "      <td>406.953882</td>\n",
       "      <td>110.040834</td>\n",
       "      <td>[church]</td>\n",
       "      <td>True</td>\n",
       "      <td>0.652619</td>\n",
       "      <td>0.002577</td>\n",
       "      <td>8.129695</td>\n",
       "      <td>0</td>\n",
       "      <td>9</td>\n",
       "      <td>fast</td>\n",
       "    </tr>\n",
       "    <tr>\n",
       "      <th>2499998</th>\n",
       "      <td>2499998</td>\n",
       "      <td>412.621720</td>\n",
       "      <td>107.253521</td>\n",
       "      <td>[lounge, drinking, eating, cocktail]</td>\n",
       "      <td>True</td>\n",
       "      <td>0.008221</td>\n",
       "      <td>0.001430</td>\n",
       "      <td>70.579975</td>\n",
       "      <td>0</td>\n",
       "      <td>9</td>\n",
       "      <td>fast</td>\n",
       "    </tr>\n",
       "    <tr>\n",
       "      <th>2499999</th>\n",
       "      <td>2499999</td>\n",
       "      <td>412.835319</td>\n",
       "      <td>107.262331</td>\n",
       "      <td>[coping, plastering, tiling, pool, swimming]</td>\n",
       "      <td>True</td>\n",
       "      <td>0.472276</td>\n",
       "      <td>0.001068</td>\n",
       "      <td>1.070561</td>\n",
       "      <td>0</td>\n",
       "      <td>9</td>\n",
       "      <td>fast</td>\n",
       "    </tr>\n",
       "  </tbody>\n",
       "</table>\n",
       "<p>2500000 rows × 11 columns</p>\n",
       "</div>"
      ],
      "text/plain": [
       "           index           x           y  \\\n",
       "0              0  282.138698  151.113065   \n",
       "1              1  295.309161  141.425445   \n",
       "2              2  294.304889  141.179529   \n",
       "3              3  294.975799  140.572582   \n",
       "4              4  295.225233  140.466756   \n",
       "...          ...         ...         ...   \n",
       "2499995  2499995  409.894898  103.097463   \n",
       "2499996  2499996  402.284307  107.998284   \n",
       "2499997  2499997  406.953882  110.040834   \n",
       "2499998  2499998  412.621720  107.253521   \n",
       "2499999  2499999  412.835319  107.262331   \n",
       "\n",
       "                                             keywords  scaled  obj_search  \\\n",
       "0                                [physician, surgeon]    True    8.181625   \n",
       "1                               [roofing, consultant]    True    7.622545   \n",
       "2                                         [appliance]    True    0.206345   \n",
       "3                                   [electric, motor]    True    0.109322   \n",
       "4                                    [plant, packing]    True    0.342787   \n",
       "...                                               ...     ...         ...   \n",
       "2499995                         [telephone, cellular]    True    0.869409   \n",
       "2499996                                  [contractor]    True    0.079392   \n",
       "2499997                                      [church]    True    0.652619   \n",
       "2499998          [lounge, drinking, eating, cocktail]    True    0.008221   \n",
       "2499999  [coping, plastering, tiling, pool, swimming]    True    0.472276   \n",
       "\n",
       "           insert          ar  des_count  level  name  \n",
       "0        3.089643    2.646341          0      9  fast  \n",
       "1        0.033553   17.806978          0      9  fast  \n",
       "2        0.018248  113.705647          0      9  fast  \n",
       "3        0.016267    9.208080          0      9  fast  \n",
       "4        0.017268    1.264358          0      9  fast  \n",
       "...           ...         ...        ...    ...   ...  \n",
       "2499995  0.001155    0.243780          0      9  fast  \n",
       "2499996  0.001094    3.895217          0      9  fast  \n",
       "2499997  0.002577    8.129695          0      9  fast  \n",
       "2499998  0.001430   70.579975          0      9  fast  \n",
       "2499999  0.001068    1.070561          0      9  fast  \n",
       "\n",
       "[2500000 rows x 11 columns]"
      ]
     },
     "execution_count": 8,
     "metadata": {},
     "output_type": "execute_result"
    }
   ],
   "source": [
    "stats"
   ]
  },
  {
   "cell_type": "code",
   "execution_count": 9,
   "id": "3a926d7d-8a43-403f-9c20-0edd277d360d",
   "metadata": {},
   "outputs": [],
   "source": [
    "exploded = stats.explode('keywords').reset_index(drop=True)"
   ]
  },
  {
   "cell_type": "code",
   "execution_count": 15,
   "id": "7ccaecca-6ec2-4446-997d-b4cf40b37cdd",
   "metadata": {},
   "outputs": [],
   "source": [
    "key_vs_time = exploded.loc[:, ['keywords', 'obj_search', 'insert']].groupby('keywords').mean().reset_index()"
   ]
  },
  {
   "cell_type": "code",
   "execution_count": 28,
   "id": "1b304c3e-abc7-4b6b-b1f5-dbfb6ee38f3c",
   "metadata": {},
   "outputs": [],
   "source": [
    "obj_key_time = key_vs_time.loc[:, ['keywords', 'obj_search']].sort_values('obj_search', ascending=False)\n",
    "obj_ins_time = key_vs_time.loc[:, ['keywords', 'insert']].sort_values('insert', ascending=False)"
   ]
  },
  {
   "cell_type": "code",
   "execution_count": 35,
   "id": "425bddd5-34d3-4c9a-82b0-cd53fd1f117f",
   "metadata": {},
   "outputs": [
    {
     "name": "stderr",
     "output_type": "stream",
     "text": [
      "/Users/udeshuk/Library/miniconda3/envs/fast/lib/python3.11/site-packages/seaborn/_oldcore.py:1498: FutureWarning: is_categorical_dtype is deprecated and will be removed in a future version. Use isinstance(dtype, CategoricalDtype) instead\n",
      "  if pd.api.types.is_categorical_dtype(vector):\n",
      "/Users/udeshuk/Library/miniconda3/envs/fast/lib/python3.11/site-packages/seaborn/_oldcore.py:1498: FutureWarning: is_categorical_dtype is deprecated and will be removed in a future version. Use isinstance(dtype, CategoricalDtype) instead\n",
      "  if pd.api.types.is_categorical_dtype(vector):\n"
     ]
    },
    {
     "data": {
      "text/plain": [
       "Text(0, 0.5, 'obj. index search time')"
      ]
     },
     "execution_count": 35,
     "metadata": {},
     "output_type": "execute_result"
    },
    {
     "data": {
      "image/png": "[encoded data removed]",
      "text/plain": [
       "<Figure size 640x480 with 1 Axes>"
      ]
     },
     "metadata": {},
     "output_type": "display_data"
    }
   ],
   "source": [
    "obj_out = obj_key_time.join(count.set_index('index'), on='keywords')\n",
    "\n",
    "sns.scatterplot(x='count', y='obj_search', data=obj_out)\n",
    "plt.ylabel('obj. index search time')"
   ]
  },
  {
   "cell_type": "code",
   "execution_count": 36,
   "id": "0943adc8-ae75-4090-906c-c38f84065037",
   "metadata": {},
   "outputs": [
    {
     "name": "stderr",
     "output_type": "stream",
     "text": [
      "/Users/udeshuk/Library/miniconda3/envs/fast/lib/python3.11/site-packages/seaborn/_oldcore.py:1498: FutureWarning: is_categorical_dtype is deprecated and will be removed in a future version. Use isinstance(dtype, CategoricalDtype) instead\n",
      "  if pd.api.types.is_categorical_dtype(vector):\n",
      "/Users/udeshuk/Library/miniconda3/envs/fast/lib/python3.11/site-packages/seaborn/_oldcore.py:1498: FutureWarning: is_categorical_dtype is deprecated and will be removed in a future version. Use isinstance(dtype, CategoricalDtype) instead\n",
      "  if pd.api.types.is_categorical_dtype(vector):\n"
     ]
    },
    {
     "data": {
      "text/plain": [
       "(0.0, 10.0)"
      ]
     },
     "execution_count": 36,
     "metadata": {},
     "output_type": "execute_result"
    },
    {
     "data": {
      "image/png": "[encoded data removed]",
      "text/plain": [
       "<Figure size 640x480 with 1 Axes>"
      ]
     },
     "metadata": {},
     "output_type": "display_data"
    }
   ],
   "source": [
    "sns.scatterplot(x='count', y='obj_search', data=obj_out)\n",
    "plt.ylabel('obj. index search time')\n",
    "plt.xlim(0, 10)"
   ]
  },
  {
   "cell_type": "code",
   "execution_count": 33,
   "id": "a441e308-cd4f-479a-8078-c2b19fce1488",
   "metadata": {},
   "outputs": [
    {
     "name": "stderr",
     "output_type": "stream",
     "text": [
      "/Users/udeshuk/Library/miniconda3/envs/fast/lib/python3.11/site-packages/seaborn/_oldcore.py:1498: FutureWarning: is_categorical_dtype is deprecated and will be removed in a future version. Use isinstance(dtype, CategoricalDtype) instead\n",
      "  if pd.api.types.is_categorical_dtype(vector):\n",
      "/Users/udeshuk/Library/miniconda3/envs/fast/lib/python3.11/site-packages/seaborn/_oldcore.py:1498: FutureWarning: is_categorical_dtype is deprecated and will be removed in a future version. Use isinstance(dtype, CategoricalDtype) instead\n",
      "  if pd.api.types.is_categorical_dtype(vector):\n"
     ]
    },
    {
     "data": {
      "text/plain": [
       "<Axes: xlabel='count', ylabel='insert'>"
      ]
     },
     "execution_count": 33,
     "metadata": {},
     "output_type": "execute_result"
    },
    {
     "data": {
      "image/png": "[encoded data removed]",
      "text/plain": [
       "<Figure size 640x480 with 1 Axes>"
      ]
     },
     "metadata": {},
     "output_type": "display_data"
    }
   ],
   "source": [
    "ins_out = obj_ins_time.join(count.set_index('index'), on='keywords')\n",
    "\n",
    "sns.scatterplot(x='count', y='insert', data=ins_out)"
   ]
  },
  {
   "cell_type": "code",
   "execution_count": 34,
   "id": "f73567b9-a5af-4caf-8be4-268bc4f9ddfe",
   "metadata": {},
   "outputs": [
    {
     "name": "stderr",
     "output_type": "stream",
     "text": [
      "/Users/udeshuk/Library/miniconda3/envs/fast/lib/python3.11/site-packages/seaborn/_oldcore.py:1498: FutureWarning: is_categorical_dtype is deprecated and will be removed in a future version. Use isinstance(dtype, CategoricalDtype) instead\n",
      "  if pd.api.types.is_categorical_dtype(vector):\n",
      "/Users/udeshuk/Library/miniconda3/envs/fast/lib/python3.11/site-packages/seaborn/_oldcore.py:1498: FutureWarning: is_categorical_dtype is deprecated and will be removed in a future version. Use isinstance(dtype, CategoricalDtype) instead\n",
      "  if pd.api.types.is_categorical_dtype(vector):\n"
     ]
    },
    {
     "data": {
      "text/plain": [
       "(0.0, 10.0)"
      ]
     },
     "execution_count": 34,
     "metadata": {},
     "output_type": "execute_result"
    },
    {
     "data": {
      "image/png": "[encoded data removed]",
      "text/plain": [
       "<Figure size 640x480 with 1 Axes>"
      ]
     },
     "metadata": {},
     "output_type": "display_data"
    }
   ],
   "source": [
    "sns.scatterplot(x='count', y='insert', data=ins_out)\n",
    "plt.xlim(0, 10)"
   ]
  },
  {
   "cell_type": "code",
   "execution_count": null,
   "id": "ef0ddc32-87d7-4b72-8a5c-a1de930a69db",
   "metadata": {},
   "outputs": [],
   "source": []
  }
 ],
 "metadata": {
  "kernelspec": {
   "display_name": "Python 3 (ipykernel)",
   "language": "python",
   "name": "python3"
  },
  "language_info": {
   "codemirror_mode": {
    "name": "ipython",
    "version": 3
   },
   "file_extension": ".py",
   "mimetype": "text/x-python",
   "name": "python",
   "nbconvert_exporter": "python",
   "pygments_lexer": "ipython3",
   "version": "3.11.5"
  }
 },
 "nbformat": 4,
 "nbformat_minor": 5
}
