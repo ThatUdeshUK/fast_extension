{
 "cells": [
  {
   "cell_type": "code",
   "execution_count": 41,
   "metadata": {
    "ExecuteTime": {
     "end_time": "2023-12-16T14:53:33.562846Z",
     "start_time": "2023-12-16T14:53:33.550911Z"
    }
   },
   "outputs": [],
   "source": [
    "import numpy as np\n",
    "import pandas as pd\n",
    "import seaborn as sns\n",
    "import matplotlib.pyplot as plt"
   ]
  },
  {
   "cell_type": "code",
   "execution_count": 42,
   "metadata": {
    "ExecuteTime": {
     "end_time": "2023-12-16T14:53:40.415538Z",
     "start_time": "2023-12-16T14:53:33.558203Z"
    }
   },
   "outputs": [
    {
     "data": {
      "text/html": [
       "<div>\n",
       "<style scoped>\n",
       "    .dataframe tbody tr th:only-of-type {\n",
       "        vertical-align: middle;\n",
       "    }\n",
       "\n",
       "    .dataframe tbody tr th {\n",
       "        vertical-align: top;\n",
       "    }\n",
       "\n",
       "    .dataframe thead th {\n",
       "        text-align: right;\n",
       "    }\n",
       "</style>\n",
       "<table border=\"1\" class=\"dataframe\">\n",
       "  <thead>\n",
       "    <tr style=\"text-align: right;\">\n",
       "      <th></th>\n",
       "      <th>id</th>\n",
       "      <th>ar</th>\n",
       "      <th>currentLevel</th>\n",
       "      <th>x</th>\n",
       "      <th>y</th>\n",
       "      <th>name</th>\n",
       "    </tr>\n",
       "  </thead>\n",
       "  <tbody>\n",
       "    <tr>\n",
       "      <th>0</th>\n",
       "      <td>879246</td>\n",
       "      <td>0.201128</td>\n",
       "      <td>8</td>\n",
       "      <td>135.112690</td>\n",
       "      <td>184.884263</td>\n",
       "      <td>New (w/ floor)</td>\n",
       "    </tr>\n",
       "    <tr>\n",
       "      <th>1</th>\n",
       "      <td>1316596</td>\n",
       "      <td>0.440350</td>\n",
       "      <td>8</td>\n",
       "      <td>241.776918</td>\n",
       "      <td>223.941533</td>\n",
       "      <td>New (w/ floor)</td>\n",
       "    </tr>\n",
       "    <tr>\n",
       "      <th>2</th>\n",
       "      <td>477029</td>\n",
       "      <td>2.577854</td>\n",
       "      <td>8</td>\n",
       "      <td>147.259401</td>\n",
       "      <td>148.797046</td>\n",
       "      <td>New (w/ floor)</td>\n",
       "    </tr>\n",
       "    <tr>\n",
       "      <th>3</th>\n",
       "      <td>1638491</td>\n",
       "      <td>27.752293</td>\n",
       "      <td>8</td>\n",
       "      <td>274.612763</td>\n",
       "      <td>194.181054</td>\n",
       "      <td>New (w/ floor)</td>\n",
       "    </tr>\n",
       "    <tr>\n",
       "      <th>4</th>\n",
       "      <td>361768</td>\n",
       "      <td>3.189804</td>\n",
       "      <td>7</td>\n",
       "      <td>262.402502</td>\n",
       "      <td>99.232595</td>\n",
       "      <td>New (w/ floor)</td>\n",
       "    </tr>\n",
       "    <tr>\n",
       "      <th>...</th>\n",
       "      <td>...</td>\n",
       "      <td>...</td>\n",
       "      <td>...</td>\n",
       "      <td>...</td>\n",
       "      <td>...</td>\n",
       "      <td>...</td>\n",
       "    </tr>\n",
       "    <tr>\n",
       "      <th>2245825</th>\n",
       "      <td>1941286</td>\n",
       "      <td>5.773728</td>\n",
       "      <td>8</td>\n",
       "      <td>262.371018</td>\n",
       "      <td>99.445252</td>\n",
       "      <td>New (w/ ceil)</td>\n",
       "    </tr>\n",
       "    <tr>\n",
       "      <th>2245826</th>\n",
       "      <td>2312716</td>\n",
       "      <td>1.678466</td>\n",
       "      <td>8</td>\n",
       "      <td>287.232273</td>\n",
       "      <td>218.067802</td>\n",
       "      <td>New (w/ ceil)</td>\n",
       "    </tr>\n",
       "    <tr>\n",
       "      <th>2245827</th>\n",
       "      <td>2094521</td>\n",
       "      <td>0.438078</td>\n",
       "      <td>8</td>\n",
       "      <td>244.428619</td>\n",
       "      <td>141.759426</td>\n",
       "      <td>New (w/ ceil)</td>\n",
       "    </tr>\n",
       "    <tr>\n",
       "      <th>2245828</th>\n",
       "      <td>492176</td>\n",
       "      <td>10.306239</td>\n",
       "      <td>8</td>\n",
       "      <td>148.954180</td>\n",
       "      <td>143.916998</td>\n",
       "      <td>New (w/ ceil)</td>\n",
       "    </tr>\n",
       "    <tr>\n",
       "      <th>2245829</th>\n",
       "      <td>2457307</td>\n",
       "      <td>2.273951</td>\n",
       "      <td>8</td>\n",
       "      <td>250.259294</td>\n",
       "      <td>131.089688</td>\n",
       "      <td>New (w/ ceil)</td>\n",
       "    </tr>\n",
       "  </tbody>\n",
       "</table>\n",
       "<p>6692441 rows × 6 columns</p>\n",
       "</div>"
      ],
      "text/plain": [
       "              id         ar  currentLevel           x           y  \\\n",
       "0         879246   0.201128             8  135.112690  184.884263   \n",
       "1        1316596   0.440350             8  241.776918  223.941533   \n",
       "2         477029   2.577854             8  147.259401  148.797046   \n",
       "3        1638491  27.752293             8  274.612763  194.181054   \n",
       "4         361768   3.189804             7  262.402502   99.232595   \n",
       "...          ...        ...           ...         ...         ...   \n",
       "2245825  1941286   5.773728             8  262.371018   99.445252   \n",
       "2245826  2312716   1.678466             8  287.232273  218.067802   \n",
       "2245827  2094521   0.438078             8  244.428619  141.759426   \n",
       "2245828   492176  10.306239             8  148.954180  143.916998   \n",
       "2245829  2457307   2.273951             8  250.259294  131.089688   \n",
       "\n",
       "                   name  \n",
       "0        New (w/ floor)  \n",
       "1        New (w/ floor)  \n",
       "2        New (w/ floor)  \n",
       "3        New (w/ floor)  \n",
       "4        New (w/ floor)  \n",
       "...                 ...  \n",
       "2245825   New (w/ ceil)  \n",
       "2245826   New (w/ ceil)  \n",
       "2245827   New (w/ ceil)  \n",
       "2245828   New (w/ ceil)  \n",
       "2245829   New (w/ ceil)  \n",
       "\n",
       "[6692441 rows x 6 columns]"
      ]
     },
     "execution_count": 42,
     "metadata": {},
     "output_type": "execute_result"
    }
   ],
   "source": [
    "# knn_100000 = pd.read_csv(\"../results/all_knn_static_v4_NO_100000.txt\")\n",
    "# knn_100000['num_queries'] = \"100000\"\n",
    "# \n",
    "# knnd_100000 = pd.read_csv(\"../results/all_knn_dynamic_v5_NO_100000.txt\")\n",
    "# knnd_100000['num_queries'] = \"100000d\"\n",
    "# \n",
    "# knn_100000 = pd.read_csv(\"../results/all_knn_static_v4_NO_100000.txt\")\n",
    "# knn_100000['num_queries'] = \"100000\"\n",
    "# \n",
    "# knn_500000 = pd.read_csv(\"../results/all_knn_static_v4_NO_500000.txt\")\n",
    "# knn_500000['num_queries'] = \"500000\"\n",
    "# \n",
    "# diff_ceil_250000 = pd.read_csv(\"../results/diff_formula_v4_NO_KNN_EXPIRE_2500000.txt\")\n",
    "# diff_ceil_250000['num_queries'] = \"250000\"\n",
    "# diff_ceil_250000['name'] = \"New (w/ ceil)\"\n",
    "\n",
    "diff_floor_250000 = pd.read_csv(\"../results/diff_floor_NO_KNN_EXPIRE_2500000.txt\")\n",
    "# diff_floor_250000['num_queries'] = \"250000\"\n",
    "diff_floor_250000['name'] = \"New (w/ floor)\"\n",
    "\n",
    "# diff_floor_1_250000 = pd.read_csv(\"../results/diff_floor_1_NO_KNN_EXPIRE_2500000.txt\")\n",
    "# diff_floor_1_250000['num_queries'] = \"250000\"\n",
    "# diff_floor_1_250000['name'] = \"New (w/ floor + 1)\"\n",
    "\n",
    "old_250000 = pd.read_csv(\"../results/old_NO_KNN_EXPIRE_2500000.txt\")\n",
    "# old_250000['num_queries'] = \"250000\"\n",
    "old_250000['name'] = \"Old\"\n",
    "\n",
    "diff_ceil_250000 = pd.read_csv(\"../results/diff_ceil_NO_KNN_EXPIRE_2500000.txt\")\n",
    "# diff_ceil_250000['num_queries'] = \"250000\"\n",
    "diff_ceil_250000['name'] = \"New (w/ ceil)\"\n",
    "\n",
    "res = pd.concat([\n",
    "    # knn_100000,\n",
    "    # diff_ceil_250000,\n",
    "    diff_floor_250000,\n",
    "    old_250000,\n",
    "    diff_ceil_250000,\n",
    "    # knn_500000,\n",
    "    # knn_1000000\n",
    "])\n",
    "res['ar'] = res['ar'].apply(lambda x: x if x <= 512 else 512)\n",
    "\n",
    "# res['name'] = res['num_queries'].apply(lambda x: \"Descending (Continous)\" if (x == \"100000d\") else \"Descending (Once)\")\n",
    "\n",
    "res"
   ]
  },
  {
   "cell_type": "markdown",
   "metadata": {},
   "source": [
    "## Location Distribution"
   ]
  },
  {
   "cell_type": "code",
   "execution_count": 43,
   "metadata": {
    "ExecuteTime": {
     "end_time": "2023-12-16T14:53:40.415824Z",
     "start_time": "2023-12-16T14:53:40.406976Z"
    }
   },
   "outputs": [],
   "source": [
    "# sns.scatterplot(x='x', y='y', data=res, hue='name', style=True, markers=['x'])"
   ]
  },
  {
   "cell_type": "markdown",
   "metadata": {},
   "source": [
    "## Level Distribution"
   ]
  },
  {
   "cell_type": "code",
   "execution_count": 44,
   "metadata": {
    "ExecuteTime": {
     "end_time": "2023-12-16T14:53:41.549431Z",
     "start_time": "2023-12-16T14:53:40.477936Z"
    }
   },
   "outputs": [
    {
     "name": "stderr",
     "output_type": "stream",
     "text": [
      "/Users/udeshuk/Library/miniconda3/envs/fast/lib/python3.11/site-packages/seaborn/_oldcore.py:1498: FutureWarning: is_categorical_dtype is deprecated and will be removed in a future version. Use isinstance(dtype, CategoricalDtype) instead\n",
      "  if pd.api.types.is_categorical_dtype(vector):\n",
      "/Users/udeshuk/Library/miniconda3/envs/fast/lib/python3.11/site-packages/seaborn/_oldcore.py:1498: FutureWarning: is_categorical_dtype is deprecated and will be removed in a future version. Use isinstance(dtype, CategoricalDtype) instead\n",
      "  if pd.api.types.is_categorical_dtype(vector):\n",
      "/Users/udeshuk/Library/miniconda3/envs/fast/lib/python3.11/site-packages/seaborn/_oldcore.py:1498: FutureWarning: is_categorical_dtype is deprecated and will be removed in a future version. Use isinstance(dtype, CategoricalDtype) instead\n",
      "  if pd.api.types.is_categorical_dtype(vector):\n",
      "/Users/udeshuk/Library/miniconda3/envs/fast/lib/python3.11/site-packages/seaborn/_oldcore.py:1498: FutureWarning: is_categorical_dtype is deprecated and will be removed in a future version. Use isinstance(dtype, CategoricalDtype) instead\n",
      "  if pd.api.types.is_categorical_dtype(vector):\n"
     ]
    },
    {
     "data": {
      "text/plain": [
       "<Axes: xlabel='currentLevel', ylabel='count'>"
      ]
     },
     "execution_count": 44,
     "metadata": {},
     "output_type": "execute_result"
    },
    {
     "data": {
      "image/png": "[encoded data removed]",
      "text/plain": [
       "<Figure size 640x480 with 1 Axes>"
      ]
     },
     "metadata": {},
     "output_type": "display_data"
    }
   ],
   "source": [
    "hist = res.value_counts(['name', 'currentLevel']).reset_index(name='count')\n",
    "sns.barplot(x=\"currentLevel\", y='count', hue='name', data=hist)"
   ]
  },
  {
   "cell_type": "markdown",
   "metadata": {},
   "source": [
    "## Answer Region Distribution"
   ]
  },
  {
   "cell_type": "code",
   "execution_count": 45,
   "metadata": {
    "ExecuteTime": {
     "end_time": "2023-12-16T14:53:41.627411Z",
     "start_time": "2023-12-16T14:53:41.544112Z"
    }
   },
   "outputs": [
    {
     "ename": "ValueError",
     "evalue": "Could not interpret value `num_queries` for parameter `hue`",
     "output_type": "error",
     "traceback": [
      "\u001b[0;31m---------------------------------------------------------------------------\u001b[0m",
      "\u001b[0;31mValueError\u001b[0m                                Traceback (most recent call last)",
      "Cell \u001b[0;32mIn[45], line 1\u001b[0m\n\u001b[0;32m----> 1\u001b[0m sns\u001b[38;5;241m.\u001b[39mhistplot(x\u001b[38;5;241m=\u001b[39m\u001b[38;5;124m\"\u001b[39m\u001b[38;5;124mar\u001b[39m\u001b[38;5;124m\"\u001b[39m, hue\u001b[38;5;241m=\u001b[39m\u001b[38;5;124m'\u001b[39m\u001b[38;5;124mnum_queries\u001b[39m\u001b[38;5;124m'\u001b[39m, data\u001b[38;5;241m=\u001b[39mres)\n",
      "File \u001b[0;32m~/Library/miniconda3/envs/fast/lib/python3.11/site-packages/seaborn/distributions.py:1395\u001b[0m, in \u001b[0;36mhistplot\u001b[0;34m(data, x, y, hue, weights, stat, bins, binwidth, binrange, discrete, cumulative, common_bins, common_norm, multiple, element, fill, shrink, kde, kde_kws, line_kws, thresh, pthresh, pmax, cbar, cbar_ax, cbar_kws, palette, hue_order, hue_norm, color, log_scale, legend, ax, **kwargs)\u001b[0m\n\u001b[1;32m   1374\u001b[0m \u001b[38;5;28;01mdef\u001b[39;00m \u001b[38;5;21mhistplot\u001b[39m(\n\u001b[1;32m   1375\u001b[0m     data\u001b[38;5;241m=\u001b[39m\u001b[38;5;28;01mNone\u001b[39;00m, \u001b[38;5;241m*\u001b[39m,\n\u001b[1;32m   1376\u001b[0m     \u001b[38;5;66;03m# Vector variables\u001b[39;00m\n\u001b[0;32m   (...)\u001b[0m\n\u001b[1;32m   1392\u001b[0m     \u001b[38;5;241m*\u001b[39m\u001b[38;5;241m*\u001b[39mkwargs,\n\u001b[1;32m   1393\u001b[0m ):\n\u001b[0;32m-> 1395\u001b[0m     p \u001b[38;5;241m=\u001b[39m _DistributionPlotter(\n\u001b[1;32m   1396\u001b[0m         data\u001b[38;5;241m=\u001b[39mdata,\n\u001b[1;32m   1397\u001b[0m         variables\u001b[38;5;241m=\u001b[39m_DistributionPlotter\u001b[38;5;241m.\u001b[39mget_semantics(\u001b[38;5;28mlocals\u001b[39m())\n\u001b[1;32m   1398\u001b[0m     )\n\u001b[1;32m   1400\u001b[0m     p\u001b[38;5;241m.\u001b[39mmap_hue(palette\u001b[38;5;241m=\u001b[39mpalette, order\u001b[38;5;241m=\u001b[39mhue_order, norm\u001b[38;5;241m=\u001b[39mhue_norm)\n\u001b[1;32m   1402\u001b[0m     \u001b[38;5;28;01mif\u001b[39;00m ax \u001b[38;5;129;01mis\u001b[39;00m \u001b[38;5;28;01mNone\u001b[39;00m:\n",
      "File \u001b[0;32m~/Library/miniconda3/envs/fast/lib/python3.11/site-packages/seaborn/distributions.py:113\u001b[0m, in \u001b[0;36m_DistributionPlotter.__init__\u001b[0;34m(self, data, variables)\u001b[0m\n\u001b[1;32m    107\u001b[0m \u001b[38;5;28;01mdef\u001b[39;00m \u001b[38;5;21m__init__\u001b[39m(\n\u001b[1;32m    108\u001b[0m     \u001b[38;5;28mself\u001b[39m,\n\u001b[1;32m    109\u001b[0m     data\u001b[38;5;241m=\u001b[39m\u001b[38;5;28;01mNone\u001b[39;00m,\n\u001b[1;32m    110\u001b[0m     variables\u001b[38;5;241m=\u001b[39m{},\n\u001b[1;32m    111\u001b[0m ):\n\u001b[0;32m--> 113\u001b[0m     \u001b[38;5;28msuper\u001b[39m()\u001b[38;5;241m.\u001b[39m\u001b[38;5;21m__init__\u001b[39m(data\u001b[38;5;241m=\u001b[39mdata, variables\u001b[38;5;241m=\u001b[39mvariables)\n",
      "File \u001b[0;32m~/Library/miniconda3/envs/fast/lib/python3.11/site-packages/seaborn/_oldcore.py:640\u001b[0m, in \u001b[0;36mVectorPlotter.__init__\u001b[0;34m(self, data, variables)\u001b[0m\n\u001b[1;32m    635\u001b[0m \u001b[38;5;66;03m# var_ordered is relevant only for categorical axis variables, and may\u001b[39;00m\n\u001b[1;32m    636\u001b[0m \u001b[38;5;66;03m# be better handled by an internal axis information object that tracks\u001b[39;00m\n\u001b[1;32m    637\u001b[0m \u001b[38;5;66;03m# such information and is set up by the scale_* methods. The analogous\u001b[39;00m\n\u001b[1;32m    638\u001b[0m \u001b[38;5;66;03m# information for numeric axes would be information about log scales.\u001b[39;00m\n\u001b[1;32m    639\u001b[0m \u001b[38;5;28mself\u001b[39m\u001b[38;5;241m.\u001b[39m_var_ordered \u001b[38;5;241m=\u001b[39m {\u001b[38;5;124m\"\u001b[39m\u001b[38;5;124mx\u001b[39m\u001b[38;5;124m\"\u001b[39m: \u001b[38;5;28;01mFalse\u001b[39;00m, \u001b[38;5;124m\"\u001b[39m\u001b[38;5;124my\u001b[39m\u001b[38;5;124m\"\u001b[39m: \u001b[38;5;28;01mFalse\u001b[39;00m}  \u001b[38;5;66;03m# alt., used DefaultDict\u001b[39;00m\n\u001b[0;32m--> 640\u001b[0m \u001b[38;5;28mself\u001b[39m\u001b[38;5;241m.\u001b[39massign_variables(data, variables)\n\u001b[1;32m    642\u001b[0m \u001b[38;5;28;01mfor\u001b[39;00m var, \u001b[38;5;28mcls\u001b[39m \u001b[38;5;129;01min\u001b[39;00m \u001b[38;5;28mself\u001b[39m\u001b[38;5;241m.\u001b[39m_semantic_mappings\u001b[38;5;241m.\u001b[39mitems():\n\u001b[1;32m    643\u001b[0m \n\u001b[1;32m    644\u001b[0m     \u001b[38;5;66;03m# Create the mapping function\u001b[39;00m\n\u001b[1;32m    645\u001b[0m     map_func \u001b[38;5;241m=\u001b[39m partial(\u001b[38;5;28mcls\u001b[39m\u001b[38;5;241m.\u001b[39mmap, plotter\u001b[38;5;241m=\u001b[39m\u001b[38;5;28mself\u001b[39m)\n",
      "File \u001b[0;32m~/Library/miniconda3/envs/fast/lib/python3.11/site-packages/seaborn/_oldcore.py:701\u001b[0m, in \u001b[0;36mVectorPlotter.assign_variables\u001b[0;34m(self, data, variables)\u001b[0m\n\u001b[1;32m    699\u001b[0m \u001b[38;5;28;01melse\u001b[39;00m:\n\u001b[1;32m    700\u001b[0m     \u001b[38;5;28mself\u001b[39m\u001b[38;5;241m.\u001b[39minput_format \u001b[38;5;241m=\u001b[39m \u001b[38;5;124m\"\u001b[39m\u001b[38;5;124mlong\u001b[39m\u001b[38;5;124m\"\u001b[39m\n\u001b[0;32m--> 701\u001b[0m     plot_data, variables \u001b[38;5;241m=\u001b[39m \u001b[38;5;28mself\u001b[39m\u001b[38;5;241m.\u001b[39m_assign_variables_longform(\n\u001b[1;32m    702\u001b[0m         data, \u001b[38;5;241m*\u001b[39m\u001b[38;5;241m*\u001b[39mvariables,\n\u001b[1;32m    703\u001b[0m     )\n\u001b[1;32m    705\u001b[0m \u001b[38;5;28mself\u001b[39m\u001b[38;5;241m.\u001b[39mplot_data \u001b[38;5;241m=\u001b[39m plot_data\n\u001b[1;32m    706\u001b[0m \u001b[38;5;28mself\u001b[39m\u001b[38;5;241m.\u001b[39mvariables \u001b[38;5;241m=\u001b[39m variables\n",
      "File \u001b[0;32m~/Library/miniconda3/envs/fast/lib/python3.11/site-packages/seaborn/_oldcore.py:938\u001b[0m, in \u001b[0;36mVectorPlotter._assign_variables_longform\u001b[0;34m(self, data, **kwargs)\u001b[0m\n\u001b[1;32m    933\u001b[0m \u001b[38;5;28;01melif\u001b[39;00m \u001b[38;5;28misinstance\u001b[39m(val, (\u001b[38;5;28mstr\u001b[39m, \u001b[38;5;28mbytes\u001b[39m)):\n\u001b[1;32m    934\u001b[0m \n\u001b[1;32m    935\u001b[0m     \u001b[38;5;66;03m# This looks like a column name but we don't know what it means!\u001b[39;00m\n\u001b[1;32m    937\u001b[0m     err \u001b[38;5;241m=\u001b[39m \u001b[38;5;124mf\u001b[39m\u001b[38;5;124m\"\u001b[39m\u001b[38;5;124mCould not interpret value `\u001b[39m\u001b[38;5;132;01m{\u001b[39;00mval\u001b[38;5;132;01m}\u001b[39;00m\u001b[38;5;124m` for parameter `\u001b[39m\u001b[38;5;132;01m{\u001b[39;00mkey\u001b[38;5;132;01m}\u001b[39;00m\u001b[38;5;124m`\u001b[39m\u001b[38;5;124m\"\u001b[39m\n\u001b[0;32m--> 938\u001b[0m     \u001b[38;5;28;01mraise\u001b[39;00m \u001b[38;5;167;01mValueError\u001b[39;00m(err)\n\u001b[1;32m    940\u001b[0m \u001b[38;5;28;01melse\u001b[39;00m:\n\u001b[1;32m    941\u001b[0m \n\u001b[1;32m    942\u001b[0m     \u001b[38;5;66;03m# Otherwise, assume the value is itself data\u001b[39;00m\n\u001b[1;32m    943\u001b[0m \n\u001b[1;32m    944\u001b[0m     \u001b[38;5;66;03m# Raise when data object is present and a vector can't matched\u001b[39;00m\n\u001b[1;32m    945\u001b[0m     \u001b[38;5;28;01mif\u001b[39;00m \u001b[38;5;28misinstance\u001b[39m(data, pd\u001b[38;5;241m.\u001b[39mDataFrame) \u001b[38;5;129;01mand\u001b[39;00m \u001b[38;5;129;01mnot\u001b[39;00m \u001b[38;5;28misinstance\u001b[39m(val, pd\u001b[38;5;241m.\u001b[39mSeries):\n",
      "\u001b[0;31mValueError\u001b[0m: Could not interpret value `num_queries` for parameter `hue`"
     ]
    }
   ],
   "source": [
    "sns.histplot(x=\"ar\", hue='num_queries', data=res)"
   ]
  },
  {
   "cell_type": "code",
   "execution_count": null,
   "metadata": {
    "ExecuteTime": {
     "end_time": "2023-12-16T14:53:41.635950Z",
     "start_time": "2023-12-16T14:53:41.632201Z"
    }
   },
   "outputs": [],
   "source": [
    "plt.figure(figsize=(24, 8))\n",
    "sns.histplot(x=\"ar\", hue='num_queries', data=res)\n",
    "plt.ylim((0,500))\n"
   ]
  },
  {
   "cell_type": "code",
   "execution_count": null,
   "metadata": {
    "ExecuteTime": {
     "start_time": "2023-12-16T14:53:41.635075Z"
    }
   },
   "outputs": [],
   "source": []
  }
 ],
 "metadata": {
  "kernelspec": {
   "display_name": "Python 3 (ipykernel)",
   "language": "python",
   "name": "python3"
  },
  "language_info": {
   "codemirror_mode": {
    "name": "ipython",
    "version": 3
   },
   "file_extension": ".py",
   "mimetype": "text/x-python",
   "name": "python",
   "nbconvert_exporter": "python",
   "pygments_lexer": "ipython3",
   "version": "3.11.5"
  }
 },
 "nbformat": 4,
 "nbformat_minor": 4
}
