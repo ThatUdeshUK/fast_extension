{
 "cells": [
  {
   "cell_type": "markdown",
   "source": [
    "# Comparing KNN vs MBR Spatial Range"
   ],
   "metadata": {
    "collapsed": false
   },
   "id": "c31444b28d71303d"
  },
  {
   "cell_type": "code",
   "execution_count": 34,
   "outputs": [],
   "source": [
    "import pandas as pd\n",
    "import seaborn as sns\n",
    "import matplotlib.pyplot as plt"
   ],
   "metadata": {
    "collapsed": false,
    "ExecuteTime": {
     "end_time": "2024-01-30T17:42:43.033634Z",
     "start_time": "2024-01-30T17:42:43.023127Z"
    }
   },
   "id": "9e0387ff468dc6a6"
  },
  {
   "cell_type": "markdown",
   "source": [
    "## Import data"
   ],
   "metadata": {
    "collapsed": false
   },
   "id": "bb3835d84bcf0f25"
  },
  {
   "cell_type": "code",
   "execution_count": 35,
   "outputs": [
    {
     "data": {
      "text/plain": "      id     ar  currentLevel           x           y  timestamp\n0  86606  512.0             9  226.712869   37.229967          0\n1   7286  512.0             9   98.514606  349.405563          0\n2  16303  512.0             9   57.795946  430.426245          0\n3  49392  512.0             9  249.404802   16.503283          0\n4  49998  512.0             9  241.357787    3.398597          0",
      "text/html": "<div>\n<style scoped>\n    .dataframe tbody tr th:only-of-type {\n        vertical-align: middle;\n    }\n\n    .dataframe tbody tr th {\n        vertical-align: top;\n    }\n\n    .dataframe thead th {\n        text-align: right;\n    }\n</style>\n<table border=\"1\" class=\"dataframe\">\n  <thead>\n    <tr style=\"text-align: right;\">\n      <th></th>\n      <th>id</th>\n      <th>ar</th>\n      <th>currentLevel</th>\n      <th>x</th>\n      <th>y</th>\n      <th>timestamp</th>\n    </tr>\n  </thead>\n  <tbody>\n    <tr>\n      <th>0</th>\n      <td>86606</td>\n      <td>512.0</td>\n      <td>9</td>\n      <td>226.712869</td>\n      <td>37.229967</td>\n      <td>0</td>\n    </tr>\n    <tr>\n      <th>1</th>\n      <td>7286</td>\n      <td>512.0</td>\n      <td>9</td>\n      <td>98.514606</td>\n      <td>349.405563</td>\n      <td>0</td>\n    </tr>\n    <tr>\n      <th>2</th>\n      <td>16303</td>\n      <td>512.0</td>\n      <td>9</td>\n      <td>57.795946</td>\n      <td>430.426245</td>\n      <td>0</td>\n    </tr>\n    <tr>\n      <th>3</th>\n      <td>49392</td>\n      <td>512.0</td>\n      <td>9</td>\n      <td>249.404802</td>\n      <td>16.503283</td>\n      <td>0</td>\n    </tr>\n    <tr>\n      <th>4</th>\n      <td>49998</td>\n      <td>512.0</td>\n      <td>9</td>\n      <td>241.357787</td>\n      <td>3.398597</td>\n      <td>0</td>\n    </tr>\n  </tbody>\n</table>\n</div>"
     },
     "execution_count": 35,
     "metadata": {},
     "output_type": "execute_result"
    }
   ],
   "source": [
    "snaps = []\n",
    "for i in range(5):\n",
    "    snap = pd.read_csv(f'../results/query_snapshot_{i}.csv')\n",
    "    snap['timestamp'] = i * 25000\n",
    "    snaps.append(snap)\n",
    "\n",
    "snaps = pd.concat(snaps)\n",
    "snaps['ar'] = snaps['ar'].apply(lambda x: 512 if x > 512 else x)\n",
    "snaps.head()"
   ],
   "metadata": {
    "collapsed": false,
    "ExecuteTime": {
     "end_time": "2024-01-30T17:42:43.610128Z",
     "start_time": "2024-01-30T17:42:43.027977Z"
    }
   },
   "id": "ff1ccbe243c8e434"
  },
  {
   "cell_type": "markdown",
   "source": [
    "## Plot"
   ],
   "metadata": {
    "collapsed": false
   },
   "id": "759d6e9e9e6f7cb1"
  },
  {
   "cell_type": "code",
   "execution_count": 45,
   "outputs": [
    {
     "name": "stderr",
     "output_type": "stream",
     "text": [
      "/Users/udeshuk/Library/miniconda3/envs/fast/lib/python3.11/site-packages/seaborn/_oldcore.py:1498: FutureWarning: is_categorical_dtype is deprecated and will be removed in a future version. Use isinstance(dtype, CategoricalDtype) instead\n",
      "  if pd.api.types.is_categorical_dtype(vector):\n",
      "/Users/udeshuk/Library/miniconda3/envs/fast/lib/python3.11/site-packages/seaborn/_oldcore.py:1498: FutureWarning: is_categorical_dtype is deprecated and will be removed in a future version. Use isinstance(dtype, CategoricalDtype) instead\n",
      "  if pd.api.types.is_categorical_dtype(vector):\n",
      "/Users/udeshuk/Library/miniconda3/envs/fast/lib/python3.11/site-packages/seaborn/_oldcore.py:1498: FutureWarning: is_categorical_dtype is deprecated and will be removed in a future version. Use isinstance(dtype, CategoricalDtype) instead\n",
      "  if pd.api.types.is_categorical_dtype(vector):\n",
      "/var/folders/dv/1pwqrs8j4kjghlrb3gc0b0_m0000gp/T/ipykernel_60607/1228432838.py:2: UserWarning: The palette list has more values (10) than needed (5), which may not be intended.\n",
      "  sns.histplot(x='ar', hue='timestamp', bins=100, data=snaps, alpha=1, multiple='dodge', palette=sns.color_palette(\"tab10\"), legend=False)\n",
      "/Users/udeshuk/Library/miniconda3/envs/fast/lib/python3.11/site-packages/seaborn/_oldcore.py:1119: FutureWarning: use_inf_as_na option is deprecated and will be removed in a future version. Convert inf values to NaN before operating instead.\n",
      "  with pd.option_context('mode.use_inf_as_na', True):\n"
     ]
    },
    {
     "data": {
      "text/plain": "<matplotlib.lines.Line2D at 0x11fbaac10>"
     },
     "execution_count": 45,
     "metadata": {},
     "output_type": "execute_result"
    },
    {
     "data": {
      "text/plain": "<Figure size 1200x100 with 1 Axes>",
      "image/png": "[encoded data removed]"
     },
     "metadata": {},
     "output_type": "display_data"
    }
   ],
   "source": [
    "plt.figure(figsize=(12, 1))\n",
    "sns.histplot(x='ar', hue='timestamp', bins=100, data=snaps, alpha=1, multiple='dodge', palette=sns.color_palette(\"tab10\"), legend=False)\n",
    "plt.axvline(x=(512 * 0.05)/2, color='black')\n",
    "# plt.ylim(0, 5000)"
   ],
   "metadata": {
    "collapsed": false,
    "ExecuteTime": {
     "end_time": "2024-01-30T17:47:02.899258Z",
     "start_time": "2024-01-30T17:47:01.320140Z"
    }
   },
   "id": "1f66063aaa8f863c"
  },
  {
   "cell_type": "code",
   "execution_count": 36,
   "outputs": [],
   "source": [],
   "metadata": {
    "collapsed": false,
    "ExecuteTime": {
     "end_time": "2024-01-30T17:42:45.419087Z",
     "start_time": "2024-01-30T17:42:45.411796Z"
    }
   },
   "id": "7dacb399b5c1461e"
  }
 ],
 "metadata": {
  "kernelspec": {
   "display_name": "Python 3",
   "language": "python",
   "name": "python3"
  },
  "language_info": {
   "codemirror_mode": {
    "name": "ipython",
    "version": 2
   },
   "file_extension": ".py",
   "mimetype": "text/x-python",
   "name": "python",
   "nbconvert_exporter": "python",
   "pygments_lexer": "ipython2",
   "version": "2.7.6"
  }
 },
 "nbformat": 4,
 "nbformat_minor": 5
}
