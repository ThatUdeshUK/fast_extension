{
 "cells": [
  {
   "cell_type": "code",
   "execution_count": 1,
   "metadata": {
    "ExecuteTime": {
     "end_time": "2024-02-10T04:42:05.476463Z",
     "start_time": "2024-02-10T04:42:05.467982Z"
    }
   },
   "outputs": [],
   "source": [
    "import pandas as pd\n",
    "import numpy as np\n",
    "import seaborn as sns\n",
    "import matplotlib.pyplot as plt\n",
    "import matplotlib\n",
    "\n",
    "import warnings\n",
    "warnings.filterwarnings(\"ignore\", \"is_categorical_dtype\")\n",
    "warnings.filterwarnings(\"ignore\", \"use_inf_as_na\")\n",
    "\n",
    "font = {'size'   : 12}\n",
    "\n",
    "matplotlib.rc('font', **font)"
   ]
  },
  {
   "cell_type": "code",
   "execution_count": 2,
   "metadata": {
    "ExecuteTime": {
     "end_time": "2024-02-10T04:42:05.521527Z",
     "start_time": "2024-02-10T04:42:05.478642Z"
    },
    "collapsed": false,
    "jupyter": {
     "outputs_hidden": false
    }
   },
   "outputs": [
    {
     "data": {
      "text/html": [
       "<div>\n",
       "<style scoped>\n",
       "    .dataframe tbody tr th:only-of-type {\n",
       "        vertical-align: middle;\n",
       "    }\n",
       "\n",
       "    .dataframe tbody tr th {\n",
       "        vertical-align: top;\n",
       "    }\n",
       "\n",
       "    .dataframe thead th {\n",
       "        text-align: right;\n",
       "    }\n",
       "</style>\n",
       "<table border=\"1\" class=\"dataframe\">\n",
       "  <thead>\n",
       "    <tr style=\"text-align: right;\">\n",
       "      <th></th>\n",
       "      <th>index</th>\n",
       "      <th>name</th>\n",
       "      <th>stage</th>\n",
       "      <th>time</th>\n",
       "    </tr>\n",
       "  </thead>\n",
       "  <tbody>\n",
       "  </tbody>\n",
       "</table>\n",
       "</div>"
      ],
      "text/plain": [
       "Empty DataFrame\n",
       "Columns: [index, name, stage, time]\n",
       "Index: []"
      ]
     },
     "execution_count": 2,
     "metadata": {},
     "output_type": "execute_result"
    }
   ],
   "source": [
    "create_time = pd.read_csv(\"../results_03_01/FAST_KNN_NO_ObjIndex_lessLevels6fix_search_sub_timeline_2500000_100000.csv\", names=['obj_search', 'insert']).reset_index()\n",
    "create_time['name'] = 'fast'\n",
    "create_time['obj_search'] = create_time['obj_search'] / 1000000\n",
    "create_time['insert'] = create_time['insert'] / 1000000\n",
    "create_time = create_time.melt(id_vars=['index', 'name'], var_name='stage', value_name='time')\n",
    "\n",
    "create_time"
   ]
  },
  {
   "cell_type": "markdown",
   "metadata": {},
   "source": [
    "## Creation time"
   ]
  },
  {
   "cell_type": "code",
   "execution_count": 3,
   "metadata": {},
   "outputs": [
    {
     "data": {
      "text/plain": [
       "(0.0, 10.0)"
      ]
     },
     "execution_count": 3,
     "metadata": {},
     "output_type": "execute_result"
    },
    {
     "data": {
      "image/png": "[encoded data removed]",
      "text/plain": [
       "<Figure size 1600x300 with 1 Axes>"
      ]
     },
     "metadata": {},
     "output_type": "display_data"
    }
   ],
   "source": [
    "plt.figure(figsize=(16,3))\n",
    "sns.histplot(x='time', bins=500, hue='stage', multiple='layer', data=create_time)\n",
    "plt.xlabel('time (milis)')\n",
    "plt.ylim(0, 10)"
   ]
  },
  {
   "cell_type": "markdown",
   "metadata": {},
   "source": [
    "**Miserable queries**\n",
    "\n",
    "Queries that takes too much time (>100 milis). "
   ]
  },
  {
   "cell_type": "code",
   "execution_count": 4,
   "metadata": {},
   "outputs": [
    {
     "data": {
      "text/html": [
       "<div>\n",
       "<style scoped>\n",
       "    .dataframe tbody tr th:only-of-type {\n",
       "        vertical-align: middle;\n",
       "    }\n",
       "\n",
       "    .dataframe tbody tr th {\n",
       "        vertical-align: top;\n",
       "    }\n",
       "\n",
       "    .dataframe thead th {\n",
       "        text-align: right;\n",
       "    }\n",
       "</style>\n",
       "<table border=\"1\" class=\"dataframe\">\n",
       "  <thead>\n",
       "    <tr style=\"text-align: right;\">\n",
       "      <th></th>\n",
       "      <th>index</th>\n",
       "      <th>name</th>\n",
       "      <th>stage</th>\n",
       "      <th>time</th>\n",
       "    </tr>\n",
       "  </thead>\n",
       "  <tbody>\n",
       "  </tbody>\n",
       "</table>\n",
       "</div>"
      ],
      "text/plain": [
       "Empty DataFrame\n",
       "Columns: [index, name, stage, time]\n",
       "Index: []"
      ]
     },
     "execution_count": 4,
     "metadata": {},
     "output_type": "execute_result"
    }
   ],
   "source": [
    "miserable_queries = create_time[create_time['time'] > 50].sort_values('time', ascending=False)\n",
    "miserable_queries"
   ]
  },
  {
   "cell_type": "code",
   "execution_count": 5,
   "metadata": {},
   "outputs": [
    {
     "data": {
      "text/plain": [
       "Text(0, 0.5, 'time (milis)')"
      ]
     },
     "execution_count": 5,
     "metadata": {},
     "output_type": "execute_result"
    },
    {
     "data": {
      "image/png": "[encoded data removed]",
      "text/plain": [
       "<Figure size 1600x300 with 1 Axes>"
      ]
     },
     "metadata": {},
     "output_type": "display_data"
    }
   ],
   "source": [
    "# step = 500000\n",
    "# for i in range(0, 2500000, step):\n",
    "plt.figure(figsize=(16,3))\n",
    "sns.lineplot(x='index', y='time', hue='stage', style='stage', data=create_time)\n",
    "plt.xlabel('timestamp')\n",
    "plt.ylabel('time (milis)')"
   ]
  },
  {
   "cell_type": "markdown",
   "metadata": {},
   "source": [
    "Relative time (FAST vs CkQST)"
   ]
  },
  {
   "cell_type": "code",
   "execution_count": 6,
   "metadata": {},
   "outputs": [],
   "source": [
    "# relative_create = create_time[create_time['stage'] == 'insert']['time'].reset_index() - create_time[create_time['stage'] == 'obj_search']['time'].reset_index()\n",
    "# relative_create\n",
    "# plt.figure(figsize=(16,8))\n",
    "# sns.lineplot(data=relative_create)\n",
    "# plt.xlabel('timestamp')\n",
    "# plt.ylabel('time (milis)')"
   ]
  },
  {
   "cell_type": "markdown",
   "metadata": {
    "ExecuteTime": {
     "end_time": "2024-02-10T04:42:06.554282Z",
     "start_time": "2024-02-10T04:42:06.538652Z"
    },
    "collapsed": false,
    "jupyter": {
     "outputs_hidden": false
    }
   },
   "source": [
    "## Load Queries"
   ]
  },
  {
   "cell_type": "code",
   "execution_count": 7,
   "metadata": {},
   "outputs": [
    {
     "data": {
      "text/html": [
       "<div>\n",
       "<style scoped>\n",
       "    .dataframe tbody tr th:only-of-type {\n",
       "        vertical-align: middle;\n",
       "    }\n",
       "\n",
       "    .dataframe tbody tr th {\n",
       "        vertical-align: top;\n",
       "    }\n",
       "\n",
       "    .dataframe thead th {\n",
       "        text-align: right;\n",
       "    }\n",
       "</style>\n",
       "<table border=\"1\" class=\"dataframe\">\n",
       "  <thead>\n",
       "    <tr style=\"text-align: right;\">\n",
       "      <th></th>\n",
       "      <th>id</th>\n",
       "      <th>x</th>\n",
       "      <th>y</th>\n",
       "      <th>keywords</th>\n",
       "      <th>k</th>\n",
       "      <th>ar</th>\n",
       "      <th>current_level</th>\n",
       "      <th>st</th>\n",
       "      <th>et</th>\n",
       "    </tr>\n",
       "  </thead>\n",
       "  <tbody>\n",
       "    <tr>\n",
       "      <th>2499995</th>\n",
       "      <td>2499995</td>\n",
       "      <td>260.643938</td>\n",
       "      <td>110.297883</td>\n",
       "      <td>contractor</td>\n",
       "      <td>5</td>\n",
       "      <td>0.195442</td>\n",
       "      <td>9</td>\n",
       "      <td>2499995</td>\n",
       "      <td>2800001</td>\n",
       "    </tr>\n",
       "    <tr>\n",
       "      <th>2499996</th>\n",
       "      <td>2499996</td>\n",
       "      <td>278.661373</td>\n",
       "      <td>197.628919</td>\n",
       "      <td>used</td>\n",
       "      <td>5</td>\n",
       "      <td>3.854567</td>\n",
       "      <td>9</td>\n",
       "      <td>2499996</td>\n",
       "      <td>2800001</td>\n",
       "    </tr>\n",
       "    <tr>\n",
       "      <th>2499997</th>\n",
       "      <td>2499997</td>\n",
       "      <td>260.217315</td>\n",
       "      <td>69.398765</td>\n",
       "      <td>carpet|cleaners|rug</td>\n",
       "      <td>5</td>\n",
       "      <td>4.791082</td>\n",
       "      <td>9</td>\n",
       "      <td>2499997</td>\n",
       "      <td>2800001</td>\n",
       "    </tr>\n",
       "    <tr>\n",
       "      <th>2499998</th>\n",
       "      <td>2499998</td>\n",
       "      <td>167.413845</td>\n",
       "      <td>140.794951</td>\n",
       "      <td>regional</td>\n",
       "      <td>5</td>\n",
       "      <td>53.612263</td>\n",
       "      <td>9</td>\n",
       "      <td>2499998</td>\n",
       "      <td>2800001</td>\n",
       "    </tr>\n",
       "    <tr>\n",
       "      <th>2499999</th>\n",
       "      <td>2499999</td>\n",
       "      <td>256.967070</td>\n",
       "      <td>86.626912</td>\n",
       "      <td>church</td>\n",
       "      <td>5</td>\n",
       "      <td>0.874051</td>\n",
       "      <td>9</td>\n",
       "      <td>2499999</td>\n",
       "      <td>2800001</td>\n",
       "    </tr>\n",
       "  </tbody>\n",
       "</table>\n",
       "</div>"
      ],
      "text/plain": [
       "              id           x           y             keywords  k         ar  \\\n",
       "2499995  2499995  260.643938  110.297883           contractor  5   0.195442   \n",
       "2499996  2499996  278.661373  197.628919                 used  5   3.854567   \n",
       "2499997  2499997  260.217315   69.398765  carpet|cleaners|rug  5   4.791082   \n",
       "2499998  2499998  167.413845  140.794951             regional  5  53.612263   \n",
       "2499999  2499999  256.967070   86.626912               church  5   0.874051   \n",
       "\n",
       "         current_level       st       et  \n",
       "2499995              9  2499995  2800001  \n",
       "2499996              9  2499996  2800001  \n",
       "2499997              9  2499997  2800001  \n",
       "2499998              9  2499998  2800001  \n",
       "2499999              9  2499999  2800001  "
      ]
     },
     "execution_count": 7,
     "metadata": {},
     "output_type": "execute_result"
    }
   ],
   "source": [
    "queries_df = pd.read_csv('../data/Places_Queries_2500000.csv');\n",
    "\n",
    "queries_df.tail()"
   ]
  },
  {
   "cell_type": "markdown",
   "metadata": {},
   "source": [
    "### Properties of miserable queries"
   ]
  },
  {
   "cell_type": "code",
   "execution_count": 8,
   "metadata": {},
   "outputs": [
    {
     "data": {
      "text/plain": [
       "(2500000, 9)"
      ]
     },
     "execution_count": 8,
     "metadata": {},
     "output_type": "execute_result"
    }
   ],
   "source": [
    "queries_df.shape"
   ]
  },
  {
   "cell_type": "code",
   "execution_count": 9,
   "metadata": {},
   "outputs": [],
   "source": [
    "details = queries_df.join(miserable_queries.set_index('index'), on='id').dropna().sort_values('time', ascending=False)\n",
    "# details = details[details['name'] == 'fast']\n",
    "details['ar'] = details['ar'].apply(lambda x: np.inf if x > 512 else x)\n",
    "all = details.drop(columns=['current_level', 'id', 'k', 'st', 'et']).rename(columns={'time': 'insertion time (milis)'})"
   ]
  },
  {
   "cell_type": "code",
   "execution_count": 10,
   "metadata": {},
   "outputs": [
    {
     "data": {
      "text/html": [
       "<div>\n",
       "<style scoped>\n",
       "    .dataframe tbody tr th:only-of-type {\n",
       "        vertical-align: middle;\n",
       "    }\n",
       "\n",
       "    .dataframe tbody tr th {\n",
       "        vertical-align: top;\n",
       "    }\n",
       "\n",
       "    .dataframe thead th {\n",
       "        text-align: right;\n",
       "    }\n",
       "</style>\n",
       "<table border=\"1\" class=\"dataframe\">\n",
       "  <thead>\n",
       "    <tr style=\"text-align: right;\">\n",
       "      <th></th>\n",
       "      <th>x</th>\n",
       "      <th>y</th>\n",
       "      <th>keywords</th>\n",
       "      <th>ar</th>\n",
       "      <th>name</th>\n",
       "      <th>stage</th>\n",
       "      <th>insertion time (milis)</th>\n",
       "    </tr>\n",
       "  </thead>\n",
       "  <tbody>\n",
       "  </tbody>\n",
       "</table>\n",
       "</div>"
      ],
      "text/plain": [
       "Empty DataFrame\n",
       "Columns: [x, y, keywords, ar, name, stage, insertion time (milis)]\n",
       "Index: []"
      ]
     },
     "execution_count": 10,
     "metadata": {},
     "output_type": "execute_result"
    }
   ],
   "source": [
    "obj_search = all[all['stage'] == 'obj_search']\n",
    "insert = all[all['stage'] == 'insert']\n",
    "\n",
    "insert#.join(ckqsts, rsuffix='_')\n",
    "obj_search.head(25)"
   ]
  },
  {
   "cell_type": "code",
   "execution_count": null,
   "metadata": {},
   "outputs": [],
   "source": []
  }
 ],
 "metadata": {
  "kernelspec": {
   "display_name": "Python 3 (ipykernel)",
   "language": "python",
   "name": "python3"
  },
  "language_info": {
   "codemirror_mode": {
    "name": "ipython",
    "version": 3
   },
   "file_extension": ".py",
   "mimetype": "text/x-python",
   "name": "python",
   "nbconvert_exporter": "python",
   "pygments_lexer": "ipython3",
   "version": "3.11.5"
  }
 },
 "nbformat": 4,
 "nbformat_minor": 4
}
