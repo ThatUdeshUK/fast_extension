{
 "cells": [
  {
   "cell_type": "code",
   "execution_count": 1,
   "metadata": {},
   "outputs": [],
   "source": [
    "import numpy as np\n",
    "import pandas as pd\n",
    "import seaborn as sns"
   ]
  },
  {
   "cell_type": "code",
   "execution_count": 2,
   "metadata": {},
   "outputs": [
    {
     "data": {
      "text/html": [
       "<div>\n",
       "<style scoped>\n",
       "    .dataframe tbody tr th:only-of-type {\n",
       "        vertical-align: middle;\n",
       "    }\n",
       "\n",
       "    .dataframe tbody tr th {\n",
       "        vertical-align: top;\n",
       "    }\n",
       "\n",
       "    .dataframe thead th {\n",
       "        text-align: right;\n",
       "    }\n",
       "</style>\n",
       "<table border=\"1\" class=\"dataframe\">\n",
       "  <thead>\n",
       "    <tr style=\"text-align: right;\">\n",
       "      <th></th>\n",
       "      <th>After creation</th>\n",
       "      <th>After search</th>\n",
       "      <th>num_queries</th>\n",
       "      <th>name</th>\n",
       "    </tr>\n",
       "  </thead>\n",
       "  <tbody>\n",
       "    <tr>\n",
       "      <th>0</th>\n",
       "      <td>33569352</td>\n",
       "      <td>83688024</td>\n",
       "      <td>100000</td>\n",
       "      <td>SEA-CNN</td>\n",
       "    </tr>\n",
       "    <tr>\n",
       "      <th>1</th>\n",
       "      <td>165361728</td>\n",
       "      <td>289253432</td>\n",
       "      <td>500000</td>\n",
       "      <td>SEA-CNN</td>\n",
       "    </tr>\n",
       "    <tr>\n",
       "      <th>2</th>\n",
       "      <td>329159760</td>\n",
       "      <td>539753224</td>\n",
       "      <td>1000000</td>\n",
       "      <td>SEA-CNN</td>\n",
       "    </tr>\n",
       "    <tr>\n",
       "      <th>3</th>\n",
       "      <td>819246880</td>\n",
       "      <td>1281436312</td>\n",
       "      <td>2500000</td>\n",
       "      <td>SEA-CNN</td>\n",
       "    </tr>\n",
       "    <tr>\n",
       "      <th>4</th>\n",
       "      <td>1631577736</td>\n",
       "      <td>2485308688</td>\n",
       "      <td>5000000</td>\n",
       "      <td>SEA-CNN</td>\n",
       "    </tr>\n",
       "    <tr>\n",
       "      <th>5</th>\n",
       "      <td>33569352</td>\n",
       "      <td>83688024</td>\n",
       "      <td>100000</td>\n",
       "      <td>SEA-CNN</td>\n",
       "    </tr>\n",
       "    <tr>\n",
       "      <th>6</th>\n",
       "      <td>165361728</td>\n",
       "      <td>289253432</td>\n",
       "      <td>500000</td>\n",
       "      <td>SEA-CNN</td>\n",
       "    </tr>\n",
       "    <tr>\n",
       "      <th>7</th>\n",
       "      <td>329159760</td>\n",
       "      <td>539753224</td>\n",
       "      <td>1000000</td>\n",
       "      <td>SEA-CNN</td>\n",
       "    </tr>\n",
       "    <tr>\n",
       "      <th>8</th>\n",
       "      <td>819246880</td>\n",
       "      <td>1281436312</td>\n",
       "      <td>2500000</td>\n",
       "      <td>SEA-CNN</td>\n",
       "    </tr>\n",
       "    <tr>\n",
       "      <th>9</th>\n",
       "      <td>1631577736</td>\n",
       "      <td>2485308688</td>\n",
       "      <td>5000000</td>\n",
       "      <td>SEA-CNN</td>\n",
       "    </tr>\n",
       "    <tr>\n",
       "      <th>10</th>\n",
       "      <td>33569352</td>\n",
       "      <td>83688024</td>\n",
       "      <td>100000</td>\n",
       "      <td>SEA-CNN</td>\n",
       "    </tr>\n",
       "    <tr>\n",
       "      <th>11</th>\n",
       "      <td>165361728</td>\n",
       "      <td>289253432</td>\n",
       "      <td>500000</td>\n",
       "      <td>SEA-CNN</td>\n",
       "    </tr>\n",
       "    <tr>\n",
       "      <th>12</th>\n",
       "      <td>329159760</td>\n",
       "      <td>539753224</td>\n",
       "      <td>1000000</td>\n",
       "      <td>SEA-CNN</td>\n",
       "    </tr>\n",
       "    <tr>\n",
       "      <th>13</th>\n",
       "      <td>819246880</td>\n",
       "      <td>1281436312</td>\n",
       "      <td>2500000</td>\n",
       "      <td>SEA-CNN</td>\n",
       "    </tr>\n",
       "    <tr>\n",
       "      <th>14</th>\n",
       "      <td>1631577736</td>\n",
       "      <td>2485308688</td>\n",
       "      <td>5000000</td>\n",
       "      <td>SEA-CNN</td>\n",
       "    </tr>\n",
       "  </tbody>\n",
       "</table>\n",
       "</div>"
      ],
      "text/plain": [
       "    After creation  After search  num_queries     name\n",
       "0         33569352      83688024       100000  SEA-CNN\n",
       "1        165361728     289253432       500000  SEA-CNN\n",
       "2        329159760     539753224      1000000  SEA-CNN\n",
       "3        819246880    1281436312      2500000  SEA-CNN\n",
       "4       1631577736    2485308688      5000000  SEA-CNN\n",
       "5         33569352      83688024       100000  SEA-CNN\n",
       "6        165361728     289253432       500000  SEA-CNN\n",
       "7        329159760     539753224      1000000  SEA-CNN\n",
       "8        819246880    1281436312      2500000  SEA-CNN\n",
       "9       1631577736    2485308688      5000000  SEA-CNN\n",
       "10        33569352      83688024       100000  SEA-CNN\n",
       "11       165361728     289253432       500000  SEA-CNN\n",
       "12       329159760     539753224      1000000  SEA-CNN\n",
       "13       819246880    1281436312      2500000  SEA-CNN\n",
       "14      1631577736    2485308688      5000000  SEA-CNN"
      ]
     },
     "execution_count": 2,
     "metadata": {},
     "output_type": "execute_result"
    }
   ],
   "source": [
    "seacnn = pd.read_csv(\"../results/output_places_US_knn_seacnn_mem.csv\")\n",
    "seacnn['name'] = \"SEA-CNN\"\n",
    "\n",
    "res = pd.concat([\n",
    "    seacnn.loc[:, ['create_mem', 'search_mem', 'num_queries', 'name']],\n",
    "]).rename(columns={'create_mem': \"After creation\", 'search_mem': \"After search\"})\n",
    "\n",
    "res"
   ]
  },
  {
   "cell_type": "code",
   "execution_count": 3,
   "metadata": {},
   "outputs": [
    {
     "data": {
      "text/plain": [
       "<AxesSubplot:xlabel='No. of queries', ylabel='Index size (MB)'>"
      ]
     },
     "execution_count": 3,
     "metadata": {},
     "output_type": "execute_result"
    },
    {
     "data": {
      "image/png": "[encoded data removed]",
      "text/plain": [
       "<Figure size 640x480 with 1 Axes>"
      ]
     },
     "metadata": {},
     "output_type": "display_data"
    }
   ],
   "source": [
    "out = res.melt(id_vars=[\"name\", 'num_queries'], var_name=\"State\")\n",
    "out['value'] = out['value'] / 1048576\n",
    "out = out.rename(columns={\"num_queries\": \"No. of queries\", 'value': \"Index size (MB)\"})\n",
    "\n",
    "sns.lineplot(x=\"No. of queries\", y='Index size (MB)', style='State', data=out, errorbar=None, markers=True)"
   ]
  },
  {
   "cell_type": "code",
   "execution_count": null,
   "metadata": {},
   "outputs": [],
   "source": []
  }
 ],
 "metadata": {
  "kernelspec": {
   "display_name": "Python 3 (ipykernel)",
   "language": "python",
   "name": "python3"
  },
  "language_info": {
   "codemirror_mode": {
    "name": "ipython",
    "version": 3
   },
   "file_extension": ".py",
   "mimetype": "text/x-python",
   "name": "python",
   "nbconvert_exporter": "python",
   "pygments_lexer": "ipython3",
   "version": "3.11.5"
  }
 },
 "nbformat": 4,
 "nbformat_minor": 4
}
