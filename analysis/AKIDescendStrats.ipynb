{
 "cells": [
  {
   "cell_type": "markdown",
   "id": "1fb03cc8-abb6-4c44-9f4e-1938b5c2761b",
   "metadata": {},
   "source": [
    "# AKI Descending Stratergies"
   ]
  },
  {
   "cell_type": "code",
   "execution_count": 1,
   "id": "1cba38e4-b2f0-4845-afb7-95a5ff1274f8",
   "metadata": {},
   "outputs": [],
   "source": [
    "import numpy as np\n",
    "import pandas as pd\n",
    "import math\n",
    "\n",
    "from pprint import pprint"
   ]
  },
  {
   "cell_type": "code",
   "execution_count": 2,
   "id": "e8c87b82-686a-4005-924e-84e299341a25",
   "metadata": {},
   "outputs": [],
   "source": [
    "levels = 10\n",
    "size = 4\n",
    "\n",
    "\n",
    "def add_strat_1(aki, x, count):\n",
    "    next_level_items = [x]\n",
    "    for level in aki:\n",
    "        # print(next_level_items)\n",
    "        while (len(next_level_items) > 0):\n",
    "            insert = next_level_items[0]\n",
    "            if len(level['items']) < level['size']:\n",
    "                next_level_items.remove(insert)\n",
    "                level['items'].append(insert)\n",
    "                if (len(next_level_items) == 0):\n",
    "                    return aki, count\n",
    "            else:\n",
    "                next_level_items = level['items'][int((level['size'] + 1)/2):] + next_level_items\n",
    "                for y in next_level_items:\n",
    "                    if y in level['items']:\n",
    "                        level['items'].remove(y)\n",
    "                count += 1\n",
    "                # print(\"Descend:\", next_level_items)\n",
    "                break\n",
    "            # print(next_level_items)\n",
    "            # next_level_items.remove(x)\n",
    "        \n",
    "    return aki, count"
   ]
  },
  {
   "cell_type": "code",
   "execution_count": 3,
   "id": "5df78fc9-fe53-47ef-9d94-489c30ba1830",
   "metadata": {},
   "outputs": [],
   "source": [
    "def add_strat_2(aki, x, count):\n",
    "    next_level_items = [x]\n",
    "    for level in aki:\n",
    "        # print(next_level_items)\n",
    "        while (len(next_level_items) > 0):\n",
    "            insert = next_level_items[0]\n",
    "            if len(level['items']) < level['size']:\n",
    "                next_level_items.remove(insert)\n",
    "                level['items'].append(insert)\n",
    "                if (len(next_level_items) == 0):\n",
    "                    return aki, count\n",
    "            else:\n",
    "                next_level_items = level['items'][int((level['size'] + 1)/2):] + next_level_items\n",
    "                for y in next_level_items:\n",
    "                    if y in level['items']:\n",
    "                        level['items'].remove(y)\n",
    "                count += 1\n",
    "                level['size'] *= 2\n",
    "                # print(\"Descend:\", next_level_items)\n",
    "                break\n",
    "            # print(next_level_items)\n",
    "            # next_level_items.remove(x)\n",
    "        \n",
    "    return aki, count"
   ]
  },
  {
   "cell_type": "markdown",
   "id": "dd27b212-f273-4796-99e3-312994342e65",
   "metadata": {},
   "source": [
    "## Work"
   ]
  },
  {
   "cell_type": "markdown",
   "id": "b0341338-207e-4cfd-9f85-0a20100374c4",
   "metadata": {},
   "source": [
    "## Adaptive FAST descending"
   ]
  },
  {
   "cell_type": "markdown",
   "id": "f8bdbf93-9294-4967-9a94-3e06484d1f4f",
   "metadata": {},
   "source": [
    "Start with a lower threshold. Increase the threshold everytime a descend happen to minimize future descend operations."
   ]
  },
  {
   "cell_type": "code",
   "execution_count": 29,
   "id": "e635e855-f745-4d0a-86d5-6c85c3b5c03a",
   "metadata": {},
   "outputs": [
    {
     "name": "stdout",
     "output_type": "stream",
     "text": [
      "[{'items': [1, 4], 'level': 20, 'size': 8},\n",
      " {'items': [2], 'level': 19, 'size': 4},\n",
      " {'items': [3], 'level': 18, 'size': 4},\n",
      " {'items': [5], 'level': 17, 'size': 4},\n",
      " {'items': [6, 7], 'level': 16, 'size': 2},\n",
      " {'items': [], 'level': 15, 'size': 2},\n",
      " {'items': [], 'level': 14, 'size': 2},\n",
      " {'items': [], 'level': 13, 'size': 2},\n",
      " {'items': [], 'level': 12, 'size': 2},\n",
      " {'items': [], 'level': 11, 'size': 2},\n",
      " {'items': [], 'level': 10, 'size': 2},\n",
      " {'items': [], 'level': 9, 'size': 2},\n",
      " {'items': [], 'level': 8, 'size': 2},\n",
      " {'items': [], 'level': 7, 'size': 2},\n",
      " {'items': [], 'level': 6, 'size': 2},\n",
      " {'items': [], 'level': 5, 'size': 2},\n",
      " {'items': [], 'level': 4, 'size': 2},\n",
      " {'items': [], 'level': 3, 'size': 2},\n",
      " {'items': [], 'level': 2, 'size': 2},\n",
      " {'items': [], 'level': 1, 'size': 2}]\n",
      "5\n"
     ]
    }
   ],
   "source": [
    "levels = 20\n",
    "size = 2\n",
    "aki = [{'level': levels - i, 'size': size, 'items': []} for i in range(levels)]\n",
    "\n",
    "count = 0\n",
    "for i in range(1, 8):\n",
    "    aki, c = add_strat_2(aki, i, count)\n",
    "    count = c\n",
    "\n",
    "pprint(aki)\n",
    "print(count)"
   ]
  },
  {
   "cell_type": "code",
   "execution_count": 31,
   "id": "0eeacdf1-0ba1-43d3-9e2f-02534eb9d9b7",
   "metadata": {},
   "outputs": [
    {
     "name": "stdout",
     "output_type": "stream",
     "text": [
      "[{'items': [1, 4, 8, 9, 10, 11, 12, 13], 'level': 20, 'size': 8.0},\n",
      " {'items': [2, 3], 'level': 19, 'size': 8.0},\n",
      " {'items': [5, 6, 7], 'level': 18, 'size': 8.0},\n",
      " {'items': [], 'level': 17, 'size': 16.0},\n",
      " {'items': [], 'level': 16, 'size': 32.0},\n",
      " {'items': [], 'level': 15, 'size': 64.0},\n",
      " {'items': [], 'level': 14, 'size': 128.0},\n",
      " {'items': [], 'level': 13, 'size': 256.0},\n",
      " {'items': [], 'level': 12, 'size': 512.0},\n",
      " {'items': [], 'level': 11, 'size': 1024.0},\n",
      " {'items': [], 'level': 10, 'size': 2048.0},\n",
      " {'items': [], 'level': 9, 'size': 4096.0},\n",
      " {'items': [], 'level': 8, 'size': 8192.0},\n",
      " {'items': [], 'level': 7, 'size': 16384.0},\n",
      " {'items': [], 'level': 6, 'size': 32768.0},\n",
      " {'items': [], 'level': 5, 'size': 65536.0},\n",
      " {'items': [], 'level': 4, 'size': 131072.0},\n",
      " {'items': [], 'level': 3, 'size': 262144.0},\n",
      " {'items': [], 'level': 2, 'size': 524288.0},\n",
      " {'items': [], 'level': 1, 'size': 1048576.0}]\n",
      "3\n"
     ]
    }
   ],
   "source": [
    "levels = 20\n",
    "size = 2\n",
    "aki = [{'level': levels - i, 'size': math.pow(size, (i + 1)), 'items': []} for i in range(levels)]\n",
    "\n",
    "count = 0\n",
    "for i in range(1, 14):\n",
    "    aki, c = add_strat_2(aki, i, count)\n",
    "    count = c\n",
    "\n",
    "pprint(aki)\n",
    "print(count)"
   ]
  },
  {
   "cell_type": "markdown",
   "id": "af852721-b3aa-4c52-ad19-88342aef6381",
   "metadata": {},
   "source": [
    "## Vanilla FAST descending"
   ]
  },
  {
   "cell_type": "code",
   "execution_count": 48,
   "id": "8786ad7f-23bd-4af6-a045-eeb67db0245f",
   "metadata": {},
   "outputs": [
    {
     "name": "stdout",
     "output_type": "stream",
     "text": [
      "[{'items': [1, 2, 3, 4], 'level': 20, 'size': 8},\n",
      " {'items': [5, 6, 7, 8], 'level': 19, 'size': 8},\n",
      " {'items': [9, 10, 11, 12, 13, 14], 'level': 18, 'size': 8},\n",
      " {'items': [], 'level': 17, 'size': 8},\n",
      " {'items': [], 'level': 16, 'size': 8},\n",
      " {'items': [], 'level': 15, 'size': 8},\n",
      " {'items': [], 'level': 14, 'size': 8},\n",
      " {'items': [], 'level': 13, 'size': 8},\n",
      " {'items': [], 'level': 12, 'size': 8},\n",
      " {'items': [], 'level': 11, 'size': 8},\n",
      " {'items': [], 'level': 10, 'size': 8},\n",
      " {'items': [], 'level': 9, 'size': 8},\n",
      " {'items': [], 'level': 8, 'size': 8},\n",
      " {'items': [], 'level': 7, 'size': 8},\n",
      " {'items': [], 'level': 6, 'size': 8},\n",
      " {'items': [], 'level': 5, 'size': 8},\n",
      " {'items': [], 'level': 4, 'size': 8},\n",
      " {'items': [], 'level': 3, 'size': 8},\n",
      " {'items': [], 'level': 2, 'size': 8},\n",
      " {'items': [], 'level': 1, 'size': 8}]\n",
      "No. descends:  3\n"
     ]
    }
   ],
   "source": [
    "levels = 20\n",
    "size = 8\n",
    "aki = [{'level': levels - i, 'size': size, 'items': []} for i in range(levels)]\n",
    "\n",
    "count = 0\n",
    "for i in range(1, 15):\n",
    "    aki, c = add_strat_1(aki, i, count)\n",
    "    count = c\n",
    "\n",
    "pprint(aki)\n",
    "print(\"No. descends: \", count)"
   ]
  },
  {
   "cell_type": "code",
   "execution_count": 49,
   "id": "66cc7549-a9d5-4b3e-81d7-508772abca15",
   "metadata": {},
   "outputs": [
    {
     "name": "stdout",
     "output_type": "stream",
     "text": [
      "[{'items': [1, 2, 3, 4, 10, 11, 12], 'level': 20, 'size': 8},\n",
      " {'items': [5, 6, 7, 8, 9], 'level': 19, 'size': 10},\n",
      " {'items': [], 'level': 18, 'size': 12},\n",
      " {'items': [], 'level': 17, 'size': 14},\n",
      " {'items': [], 'level': 16, 'size': 16},\n",
      " {'items': [], 'level': 15, 'size': 18},\n",
      " {'items': [], 'level': 14, 'size': 20},\n",
      " {'items': [], 'level': 13, 'size': 22},\n",
      " {'items': [], 'level': 12, 'size': 24},\n",
      " {'items': [], 'level': 11, 'size': 26},\n",
      " {'items': [], 'level': 10, 'size': 28},\n",
      " {'items': [], 'level': 9, 'size': 30},\n",
      " {'items': [], 'level': 8, 'size': 32},\n",
      " {'items': [], 'level': 7, 'size': 34},\n",
      " {'items': [], 'level': 6, 'size': 36},\n",
      " {'items': [], 'level': 5, 'size': 38},\n",
      " {'items': [], 'level': 4, 'size': 40},\n",
      " {'items': [], 'level': 3, 'size': 42},\n",
      " {'items': [], 'level': 2, 'size': 44},\n",
      " {'items': [], 'level': 1, 'size': 46}]\n",
      "No. descends:  1\n"
     ]
    }
   ],
   "source": [
    "levels = 20\n",
    "size = 8\n",
    "# aki = [{'level': levels - i, 'size': math.pow(size, (i + 1)), 'items': []} for i in range(levels)]\n",
    "aki = [{'level': levels - i, 'size': size + (i) * 2, 'items': []} for i in range(levels)]\n",
    "\n",
    "count = 0\n",
    "for i in range(1, 13):\n",
    "    aki, c = add_strat_1(aki, i, count)\n",
    "    count = c\n",
    "\n",
    "pprint(aki)\n",
    "print(\"No. descends: \", count)\n"
   ]
  },
  {
   "cell_type": "code",
   "execution_count": null,
   "id": "93881e27-570a-44de-a9d3-9fc736a1e34a",
   "metadata": {},
   "outputs": [],
   "source": []
  }
 ],
 "metadata": {
  "kernelspec": {
   "display_name": "Python 3 (ipykernel)",
   "language": "python",
   "name": "python3"
  },
  "language_info": {
   "codemirror_mode": {
    "name": "ipython",
    "version": 3
   },
   "file_extension": ".py",
   "mimetype": "text/x-python",
   "name": "python",
   "nbconvert_exporter": "python",
   "pygments_lexer": "ipython3",
   "version": "3.11.5"
  }
 },
 "nbformat": 4,
 "nbformat_minor": 5
}
