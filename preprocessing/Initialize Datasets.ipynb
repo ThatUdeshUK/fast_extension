{
 "cells": [
  {
   "cell_type": "markdown",
   "id": "8dbc52aa-c1d6-4d5e-b772-589f8cd88ac6",
   "metadata": {},
   "source": [
    "# Initialize Datasets\n",
    "## Places"
   ]
  },
  {
   "cell_type": "code",
   "execution_count": 4,
   "id": "661b3428-d011-4cdb-bd65-116d475ea9b2",
   "metadata": {},
   "outputs": [],
   "source": [
    "import pandas as pd\n",
    "import numpy as np\n",
    "import seaborn as sns\n",
    "\n",
    "import json\n",
    "from tqdm import tqdm"
   ]
  },
  {
   "cell_type": "markdown",
   "id": "f32bf000-5a12-4b36-ad46-d5209deb8984",
   "metadata": {},
   "source": [
    "### Dataset Parameters"
   ]
  },
  {
   "cell_type": "code",
   "execution_count": 5,
   "id": "576ef979-0f44-4ecb-a049-fa916b1d8f4a",
   "metadata": {},
   "outputs": [],
   "source": [
    "ds_path = \"../../data/places_dump_US.geojson\"\n",
    "output_dir = \"../../data/exported/\"\n",
    "\n",
    "num_objects = 100000 * 2\n",
    "num_queries = 5000000\n",
    "\n",
    "should_scale = True\n",
    "grid_range = 512\n",
    "spatial_uni = False\n",
    "fixed_max_keywords = True\n",
    "min_keywords = 1\n",
    "max_keywords = 7\n",
    "\n",
    "seed = 7"
   ]
  },
  {
   "cell_type": "markdown",
   "id": "d9ddd54a-8924-4928-9204-dfef29e9c894",
   "metadata": {},
   "source": [
    "### Load Data"
   ]
  },
  {
   "cell_type": "code",
   "execution_count": 6,
   "id": "aad2d2a5-b38b-4489-96a2-574e2de17e55",
   "metadata": {},
   "outputs": [
    {
     "ename": "FileNotFoundError",
     "evalue": "[Errno 2] No such file or directory: '../../data/places_dump_US.geojson'",
     "output_type": "error",
     "traceback": [
      "\u001b[0;31m---------------------------------------------------------------------------\u001b[0m",
      "\u001b[0;31mFileNotFoundError\u001b[0m                         Traceback (most recent call last)",
      "Cell \u001b[0;32mIn[6], line 3\u001b[0m\n\u001b[1;32m      1\u001b[0m content \u001b[38;5;241m=\u001b[39m []\n\u001b[0;32m----> 3\u001b[0m \u001b[38;5;28;01mwith\u001b[39;00m \u001b[38;5;28;43mopen\u001b[39;49m\u001b[43m(\u001b[49m\u001b[43mds_path\u001b[49m\u001b[43m,\u001b[49m\u001b[43m \u001b[49m\u001b[38;5;124;43m\"\u001b[39;49m\u001b[38;5;124;43mr\u001b[39;49m\u001b[38;5;124;43m\"\u001b[39;49m\u001b[43m)\u001b[49m \u001b[38;5;28;01mas\u001b[39;00m f:\n\u001b[1;32m      4\u001b[0m     place_id \u001b[38;5;241m=\u001b[39m \u001b[38;5;241m0\u001b[39m\n\u001b[1;32m      5\u001b[0m     \u001b[38;5;28;01mfor\u001b[39;00m i, line \u001b[38;5;129;01min\u001b[39;00m tqdm(\u001b[38;5;28menumerate\u001b[39m(f)):\n",
      "File \u001b[0;32m~/scratch/miniconda3/envs/fast/lib/python3.12/site-packages/IPython/core/interactiveshell.py:324\u001b[0m, in \u001b[0;36m_modified_open\u001b[0;34m(file, *args, **kwargs)\u001b[0m\n\u001b[1;32m    317\u001b[0m \u001b[38;5;28;01mif\u001b[39;00m file \u001b[38;5;129;01min\u001b[39;00m {\u001b[38;5;241m0\u001b[39m, \u001b[38;5;241m1\u001b[39m, \u001b[38;5;241m2\u001b[39m}:\n\u001b[1;32m    318\u001b[0m     \u001b[38;5;28;01mraise\u001b[39;00m \u001b[38;5;167;01mValueError\u001b[39;00m(\n\u001b[1;32m    319\u001b[0m         \u001b[38;5;124mf\u001b[39m\u001b[38;5;124m\"\u001b[39m\u001b[38;5;124mIPython won\u001b[39m\u001b[38;5;124m'\u001b[39m\u001b[38;5;124mt let you open fd=\u001b[39m\u001b[38;5;132;01m{\u001b[39;00mfile\u001b[38;5;132;01m}\u001b[39;00m\u001b[38;5;124m by default \u001b[39m\u001b[38;5;124m\"\u001b[39m\n\u001b[1;32m    320\u001b[0m         \u001b[38;5;124m\"\u001b[39m\u001b[38;5;124mas it is likely to crash IPython. If you know what you are doing, \u001b[39m\u001b[38;5;124m\"\u001b[39m\n\u001b[1;32m    321\u001b[0m         \u001b[38;5;124m\"\u001b[39m\u001b[38;5;124myou can use builtins\u001b[39m\u001b[38;5;124m'\u001b[39m\u001b[38;5;124m open.\u001b[39m\u001b[38;5;124m\"\u001b[39m\n\u001b[1;32m    322\u001b[0m     )\n\u001b[0;32m--> 324\u001b[0m \u001b[38;5;28;01mreturn\u001b[39;00m \u001b[43mio_open\u001b[49m\u001b[43m(\u001b[49m\u001b[43mfile\u001b[49m\u001b[43m,\u001b[49m\u001b[43m \u001b[49m\u001b[38;5;241;43m*\u001b[39;49m\u001b[43margs\u001b[49m\u001b[43m,\u001b[49m\u001b[43m \u001b[49m\u001b[38;5;241;43m*\u001b[39;49m\u001b[38;5;241;43m*\u001b[39;49m\u001b[43mkwargs\u001b[49m\u001b[43m)\u001b[49m\n",
      "\u001b[0;31mFileNotFoundError\u001b[0m: [Errno 2] No such file or directory: '../../data/places_dump_US.geojson'"
     ]
    },
    {
     "ename": "",
     "evalue": "",
     "output_type": "error",
     "traceback": [
      "\u001b[1;31mThe Kernel crashed while executing code in the current cell or a previous cell. \n",
      "\u001b[1;31mPlease review the code in the cell(s) to identify a possible cause of the failure. \n",
      "\u001b[1;31mClick <a href='https://aka.ms/vscodeJupyterKernelCrash'>here</a> for more info. \n",
      "\u001b[1;31mView Jupyter <a href='command:jupyter.viewOutput'>log</a> for further details."
     ]
    }
   ],
   "source": [
    "content = []\n",
    "\n",
    "with open(ds_path, \"r\") as f:\n",
    "    place_id = 0\n",
    "    for i, line in tqdm(enumerate(f)):\n",
    "        if (len(content) >= num_objects + num_queries):\n",
    "            break\n",
    "\n",
    "        place = json.loads(line)\n",
    "        if ('id' in place and 'properties' in place and 'tags' in place['properties']):\n",
    "            if (len(place['properties']['tags']) < min_keywords):\n",
    "                continue\n",
    "            \n",
    "            content.append({\n",
    "                \"id\": place_id,\n",
    "                \"x\": place['geometry']['coordinates'][0],\n",
    "                \"y\": place['geometry']['coordinates'][1],\n",
    "                \"keywords\": place['properties']['tags'],\n",
    "                \"scaled\": False\n",
    "            })\n",
    "            place_id += 1;\n",
    "\n",
    "\n",
    "df = pd.DataFrame(content)\n",
    "df.head()"
   ]
  },
  {
   "cell_type": "markdown",
   "id": "d186e3c8-347b-4546-8c8f-c1a636ec051e",
   "metadata": {},
   "source": [
    "### Pre-process"
   ]
  },
  {
   "cell_type": "code",
   "execution_count": null,
   "id": "76c70550-2e5a-4d17-8a4b-21ae067a4986",
   "metadata": {},
   "outputs": [],
   "source": [
    "def scale(c, minc, maxc):\n",
    "    return (c - minc) * grid_range / (maxc - minc)\n",
    "\n",
    "\n",
    "if should_scale and not spatial_uni:\n",
    "    minx = df['x'].min()\n",
    "    miny = df['y'].min()\n",
    "    maxx = df['x'].max()\n",
    "    maxy = df['y'].max()\n",
    "    \n",
    "    df['x'] = df['x'].apply(lambda x: scale(x, minx, maxx))\n",
    "    df['y'] = df['y'].apply(lambda y: scale(y, miny, maxy))\n",
    "    df['scaled'] = True\n",
    "\n",
    "df.head()"
   ]
  },
  {
   "cell_type": "markdown",
   "id": "84cb2523-41da-45ec-8100-cb12ea0cda0c",
   "metadata": {},
   "source": [
    "### Uniform Sample"
   ]
  },
  {
   "cell_type": "code",
   "execution_count": null,
   "id": "0d29fef8-6578-488a-9c9e-a010bef67d41",
   "metadata": {},
   "outputs": [],
   "source": [
    "if spatial_uni:\n",
    "    sample = pd.DataFrame(np.random.uniform(0, 512, (num_objects + num_queries, 2)), columns=['x', 'y'])\n",
    "    \n",
    "    df['x'] = sample['x']\n",
    "    df['y'] = sample['y']\n",
    "\n",
    "df.head()"
   ]
  },
  {
   "cell_type": "code",
   "execution_count": null,
   "id": "6416c8ff",
   "metadata": {},
   "outputs": [],
   "source": [
    "if fixed_max_keywords:\n",
    "    import random\n",
    "\n",
    "    def clamp_keywords(keywords):\n",
    "        if (len(keywords) < max_keywords):\n",
    "            return keywords\n",
    "        return sorted(random.sample(keywords, max_keywords))\n",
    "    df['keywords'] = df['keywords'].apply(clamp_keywords)\n",
    "\n",
    "df.head()"
   ]
  },
  {
   "cell_type": "markdown",
   "id": "22fa69ad-38ef-47f2-a615-ee12b9075d47",
   "metadata": {},
   "source": [
    "### Visualize"
   ]
  },
  {
   "cell_type": "code",
   "execution_count": null,
   "id": "0e5f0db7-72be-4298-8cf7-5373a1d4b015",
   "metadata": {},
   "outputs": [],
   "source": [
    "sns.scatterplot(x=\"x\", y=\"y\", data=df.loc[:, [\"x\", \"y\"]])"
   ]
  },
  {
   "cell_type": "markdown",
   "id": "be519eb3-2397-4a60-ab65-f5bcf70b984c",
   "metadata": {},
   "source": [
    "### Export"
   ]
  },
  {
   "cell_type": "code",
   "execution_count": null,
   "id": "14a9535c",
   "metadata": {},
   "outputs": [],
   "source": [
    "fail"
   ]
  },
  {
   "cell_type": "code",
   "execution_count": null,
   "id": "c1d95aa8-4c73-4e98-87f6-c8ce896180f6",
   "metadata": {},
   "outputs": [],
   "source": [
    "output_name = f'{output_dir}places_o{num_objects}_q{num_queries}'\n",
    "\n",
    "if (should_scale and not spatial_uni):\n",
    "    output_name += f'_scaled'\n",
    "\n",
    "if (spatial_uni):\n",
    "    output_name += f'_spatialuni'\n",
    "\n",
    "if (min_keywords != 0):\n",
    "    output_name += f'_minkeys' + str(min_keywords)\n",
    "\n",
    "df.to_json(f'{output_name}.json', orient='records', lines=True)\n",
    "print(f'{output_name}.json')"
   ]
  },
  {
   "cell_type": "code",
   "execution_count": null,
   "id": "7920ab3b-64cc-44f4-89e4-11c1746c288b",
   "metadata": {},
   "outputs": [],
   "source": [
    "df.shape"
   ]
  },
  {
   "cell_type": "code",
   "execution_count": null,
   "id": "58bc68a2-eeac-46bd-9490-9372f801cb80",
   "metadata": {},
   "outputs": [],
   "source": []
  }
 ],
 "metadata": {
  "kernelspec": {
   "display_name": "Python 3",
   "language": "python",
   "name": "python3"
  },
  "language_info": {
   "codemirror_mode": {
    "name": "ipython",
    "version": 3
   },
   "file_extension": ".py",
   "mimetype": "text/x-python",
   "name": "python",
   "nbconvert_exporter": "python",
   "pygments_lexer": "ipython3",
   "version": "undefined.undefined.undefined"
  }
 },
 "nbformat": 4,
 "nbformat_minor": 5
}
