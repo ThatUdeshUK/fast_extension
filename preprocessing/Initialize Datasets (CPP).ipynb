{
 "cells": [
  {
   "cell_type": "markdown",
   "id": "8dbc52aa-c1d6-4d5e-b772-589f8cd88ac6",
   "metadata": {},
   "source": [
    "# Initialize Datasets\n",
    "## Places"
   ]
  },
  {
   "cell_type": "code",
   "execution_count": 1,
   "id": "661b3428-d011-4cdb-bd65-116d475ea9b2",
   "metadata": {},
   "outputs": [],
   "source": [
    "import pandas as pd\n",
    "import numpy as np\n",
    "import seaborn as sns\n",
    "\n",
    "import json\n",
    "from tqdm import tqdm"
   ]
  },
  {
   "cell_type": "markdown",
   "id": "f32bf000-5a12-4b36-ad46-d5209deb8984",
   "metadata": {},
   "source": [
    "### Dataset Parameters"
   ]
  },
  {
   "cell_type": "code",
   "execution_count": 2,
   "id": "576ef979-0f44-4ecb-a049-fa916b1d8f4a",
   "metadata": {},
   "outputs": [],
   "source": [
    "# ds_path = \"../../data/places_dump_US.geojson\"\n",
    "ds_path = \"/scratch1/ukumaras/datasets/places_o200000_q5000000_scaled.json\"\n",
    "output_dir = \"/scratch1/ukumaras/datasets/exported/\"\n",
    "\n",
    "num_objects = 1000000\n",
    "num_queries = 1000000\n",
    "\n",
    "shuffle = True\n",
    "should_scale = True\n",
    "grid_range = 512\n",
    "query_span = 0.10\n",
    "spatial_uni = False\n",
    "fixed_max_keywords = True\n",
    "min_keywords = 1\n",
    "max_keywords = 7\n",
    "random_limited_query_span = True\n",
    "\n",
    "seed = 7"
   ]
  },
  {
   "cell_type": "markdown",
   "id": "d9ddd54a-8924-4928-9204-dfef29e9c894",
   "metadata": {},
   "source": [
    "### Load Data"
   ]
  },
  {
   "cell_type": "code",
   "execution_count": 3,
   "id": "aad2d2a5-b38b-4489-96a2-574e2de17e55",
   "metadata": {},
   "outputs": [
    {
     "name": "stderr",
     "output_type": "stream",
     "text": [
      "2000000it [00:12, 162906.22it/s]\n"
     ]
    },
    {
     "data": {
      "text/html": [
       "<div>\n",
       "<style scoped>\n",
       "    .dataframe tbody tr th:only-of-type {\n",
       "        vertical-align: middle;\n",
       "    }\n",
       "\n",
       "    .dataframe tbody tr th {\n",
       "        vertical-align: top;\n",
       "    }\n",
       "\n",
       "    .dataframe thead th {\n",
       "        text-align: right;\n",
       "    }\n",
       "</style>\n",
       "<table border=\"1\" class=\"dataframe\">\n",
       "  <thead>\n",
       "    <tr style=\"text-align: right;\">\n",
       "      <th></th>\n",
       "      <th>id</th>\n",
       "      <th>x</th>\n",
       "      <th>y</th>\n",
       "      <th>keywords</th>\n",
       "      <th>scaled</th>\n",
       "    </tr>\n",
       "  </thead>\n",
       "  <tbody>\n",
       "    <tr>\n",
       "      <th>0</th>\n",
       "      <td>0</td>\n",
       "      <td>229.214331</td>\n",
       "      <td>178.869172</td>\n",
       "      <td>[counselor, marriage, family]</td>\n",
       "      <td>True</td>\n",
       "    </tr>\n",
       "    <tr>\n",
       "      <th>1</th>\n",
       "      <td>1</td>\n",
       "      <td>315.092996</td>\n",
       "      <td>205.295414</td>\n",
       "      <td>[alteration]</td>\n",
       "      <td>True</td>\n",
       "    </tr>\n",
       "    <tr>\n",
       "      <th>2</th>\n",
       "      <td>2</td>\n",
       "      <td>423.050493</td>\n",
       "      <td>145.959489</td>\n",
       "      <td>[design]</td>\n",
       "      <td>True</td>\n",
       "    </tr>\n",
       "    <tr>\n",
       "      <th>3</th>\n",
       "      <td>3</td>\n",
       "      <td>229.587163</td>\n",
       "      <td>171.313404</td>\n",
       "      <td>[laboratory]</td>\n",
       "      <td>True</td>\n",
       "    </tr>\n",
       "    <tr>\n",
       "      <th>4</th>\n",
       "      <td>4</td>\n",
       "      <td>255.643006</td>\n",
       "      <td>148.981055</td>\n",
       "      <td>[painter]</td>\n",
       "      <td>True</td>\n",
       "    </tr>\n",
       "  </tbody>\n",
       "</table>\n",
       "</div>"
      ],
      "text/plain": [
       "   id           x           y                       keywords  scaled\n",
       "0   0  229.214331  178.869172  [counselor, marriage, family]    True\n",
       "1   1  315.092996  205.295414                   [alteration]    True\n",
       "2   2  423.050493  145.959489                       [design]    True\n",
       "3   3  229.587163  171.313404                   [laboratory]    True\n",
       "4   4  255.643006  148.981055                      [painter]    True"
      ]
     },
     "execution_count": 3,
     "metadata": {},
     "output_type": "execute_result"
    }
   ],
   "source": [
    "content = []\n",
    "\n",
    "with open(ds_path, \"r\") as f:\n",
    "    for i, line in tqdm(enumerate(f)):\n",
    "        if (len(content) >= num_objects + num_queries):\n",
    "            break\n",
    "\n",
    "        place = json.loads(line)            \n",
    "        content.append(place)\n",
    "\n",
    "df = pd.DataFrame(content)\n",
    "if shuffle:\n",
    "    df = df.sample(frac=1).drop(columns=['id']).reset_index(drop=True).reset_index().rename(columns={'index': 'id'})\n",
    "df.head()"
   ]
  },
  {
   "cell_type": "markdown",
   "id": "d186e3c8-347b-4546-8c8f-c1a636ec051e",
   "metadata": {},
   "source": [
    "### Pre-process"
   ]
  },
  {
   "cell_type": "code",
   "execution_count": 4,
   "id": "76c70550-2e5a-4d17-8a4b-21ae067a4986",
   "metadata": {},
   "outputs": [
    {
     "data": {
      "text/html": [
       "<div>\n",
       "<style scoped>\n",
       "    .dataframe tbody tr th:only-of-type {\n",
       "        vertical-align: middle;\n",
       "    }\n",
       "\n",
       "    .dataframe tbody tr th {\n",
       "        vertical-align: top;\n",
       "    }\n",
       "\n",
       "    .dataframe thead th {\n",
       "        text-align: right;\n",
       "    }\n",
       "</style>\n",
       "<table border=\"1\" class=\"dataframe\">\n",
       "  <thead>\n",
       "    <tr style=\"text-align: right;\">\n",
       "      <th></th>\n",
       "      <th>id</th>\n",
       "      <th>x</th>\n",
       "      <th>y</th>\n",
       "      <th>keywords</th>\n",
       "      <th>scaled</th>\n",
       "    </tr>\n",
       "  </thead>\n",
       "  <tbody>\n",
       "    <tr>\n",
       "      <th>0</th>\n",
       "      <td>0</td>\n",
       "      <td>240.853890</td>\n",
       "      <td>139.756528</td>\n",
       "      <td>[counselor, marriage, family]</td>\n",
       "      <td>True</td>\n",
       "    </tr>\n",
       "    <tr>\n",
       "      <th>1</th>\n",
       "      <td>1</td>\n",
       "      <td>331.093495</td>\n",
       "      <td>169.285455</td>\n",
       "      <td>[alteration]</td>\n",
       "      <td>True</td>\n",
       "    </tr>\n",
       "    <tr>\n",
       "      <th>2</th>\n",
       "      <td>2</td>\n",
       "      <td>444.533100</td>\n",
       "      <td>102.982944</td>\n",
       "      <td>[design]</td>\n",
       "      <td>True</td>\n",
       "    </tr>\n",
       "    <tr>\n",
       "      <th>3</th>\n",
       "      <td>3</td>\n",
       "      <td>241.245655</td>\n",
       "      <td>131.313644</td>\n",
       "      <td>[laboratory]</td>\n",
       "      <td>True</td>\n",
       "    </tr>\n",
       "    <tr>\n",
       "      <th>4</th>\n",
       "      <td>4</td>\n",
       "      <td>268.624620</td>\n",
       "      <td>106.359270</td>\n",
       "      <td>[painter]</td>\n",
       "      <td>True</td>\n",
       "    </tr>\n",
       "  </tbody>\n",
       "</table>\n",
       "</div>"
      ],
      "text/plain": [
       "   id           x           y                       keywords  scaled\n",
       "0   0  240.853890  139.756528  [counselor, marriage, family]    True\n",
       "1   1  331.093495  169.285455                   [alteration]    True\n",
       "2   2  444.533100  102.982944                       [design]    True\n",
       "3   3  241.245655  131.313644                   [laboratory]    True\n",
       "4   4  268.624620  106.359270                      [painter]    True"
      ]
     },
     "execution_count": 4,
     "metadata": {},
     "output_type": "execute_result"
    }
   ],
   "source": [
    "def scale(c, minc, maxc):\n",
    "    return (c - minc) * grid_range / (maxc - minc)\n",
    "\n",
    "\n",
    "if should_scale and not spatial_uni:\n",
    "    minx = df['x'].min()\n",
    "    miny = df['y'].min()\n",
    "    maxx = df['x'].max()\n",
    "    maxy = df['y'].max()\n",
    "    \n",
    "    df['x'] = df['x'].apply(lambda x: scale(x, minx, maxx))\n",
    "    df['y'] = df['y'].apply(lambda y: scale(y, miny, maxy))\n",
    "    df['scaled'] = True\n",
    "\n",
    "df.head()"
   ]
  },
  {
   "cell_type": "markdown",
   "id": "84cb2523-41da-45ec-8100-cb12ea0cda0c",
   "metadata": {},
   "source": [
    "### Uniform Sample"
   ]
  },
  {
   "cell_type": "code",
   "execution_count": 5,
   "id": "0d29fef8-6578-488a-9c9e-a010bef67d41",
   "metadata": {},
   "outputs": [
    {
     "data": {
      "text/html": [
       "<div>\n",
       "<style scoped>\n",
       "    .dataframe tbody tr th:only-of-type {\n",
       "        vertical-align: middle;\n",
       "    }\n",
       "\n",
       "    .dataframe tbody tr th {\n",
       "        vertical-align: top;\n",
       "    }\n",
       "\n",
       "    .dataframe thead th {\n",
       "        text-align: right;\n",
       "    }\n",
       "</style>\n",
       "<table border=\"1\" class=\"dataframe\">\n",
       "  <thead>\n",
       "    <tr style=\"text-align: right;\">\n",
       "      <th></th>\n",
       "      <th>id</th>\n",
       "      <th>x</th>\n",
       "      <th>y</th>\n",
       "      <th>keywords</th>\n",
       "      <th>scaled</th>\n",
       "    </tr>\n",
       "  </thead>\n",
       "  <tbody>\n",
       "    <tr>\n",
       "      <th>0</th>\n",
       "      <td>0</td>\n",
       "      <td>240.853890</td>\n",
       "      <td>139.756528</td>\n",
       "      <td>[counselor, marriage, family]</td>\n",
       "      <td>True</td>\n",
       "    </tr>\n",
       "    <tr>\n",
       "      <th>1</th>\n",
       "      <td>1</td>\n",
       "      <td>331.093495</td>\n",
       "      <td>169.285455</td>\n",
       "      <td>[alteration]</td>\n",
       "      <td>True</td>\n",
       "    </tr>\n",
       "    <tr>\n",
       "      <th>2</th>\n",
       "      <td>2</td>\n",
       "      <td>444.533100</td>\n",
       "      <td>102.982944</td>\n",
       "      <td>[design]</td>\n",
       "      <td>True</td>\n",
       "    </tr>\n",
       "    <tr>\n",
       "      <th>3</th>\n",
       "      <td>3</td>\n",
       "      <td>241.245655</td>\n",
       "      <td>131.313644</td>\n",
       "      <td>[laboratory]</td>\n",
       "      <td>True</td>\n",
       "    </tr>\n",
       "    <tr>\n",
       "      <th>4</th>\n",
       "      <td>4</td>\n",
       "      <td>268.624620</td>\n",
       "      <td>106.359270</td>\n",
       "      <td>[painter]</td>\n",
       "      <td>True</td>\n",
       "    </tr>\n",
       "  </tbody>\n",
       "</table>\n",
       "</div>"
      ],
      "text/plain": [
       "   id           x           y                       keywords  scaled\n",
       "0   0  240.853890  139.756528  [counselor, marriage, family]    True\n",
       "1   1  331.093495  169.285455                   [alteration]    True\n",
       "2   2  444.533100  102.982944                       [design]    True\n",
       "3   3  241.245655  131.313644                   [laboratory]    True\n",
       "4   4  268.624620  106.359270                      [painter]    True"
      ]
     },
     "execution_count": 5,
     "metadata": {},
     "output_type": "execute_result"
    }
   ],
   "source": [
    "if spatial_uni:\n",
    "    sample = pd.DataFrame(np.random.uniform(0, 512, (num_objects + num_queries, 2)), columns=['x', 'y'])\n",
    "    \n",
    "    df['x'] = sample['x']\n",
    "    df['y'] = sample['y']\n",
    "\n",
    "df.head()"
   ]
  },
  {
   "cell_type": "code",
   "execution_count": 6,
   "id": "6416c8ff",
   "metadata": {},
   "outputs": [
    {
     "data": {
      "text/html": [
       "<div>\n",
       "<style scoped>\n",
       "    .dataframe tbody tr th:only-of-type {\n",
       "        vertical-align: middle;\n",
       "    }\n",
       "\n",
       "    .dataframe tbody tr th {\n",
       "        vertical-align: top;\n",
       "    }\n",
       "\n",
       "    .dataframe thead th {\n",
       "        text-align: right;\n",
       "    }\n",
       "</style>\n",
       "<table border=\"1\" class=\"dataframe\">\n",
       "  <thead>\n",
       "    <tr style=\"text-align: right;\">\n",
       "      <th></th>\n",
       "      <th>id</th>\n",
       "      <th>x</th>\n",
       "      <th>y</th>\n",
       "      <th>keywords</th>\n",
       "      <th>scaled</th>\n",
       "    </tr>\n",
       "  </thead>\n",
       "  <tbody>\n",
       "    <tr>\n",
       "      <th>0</th>\n",
       "      <td>0</td>\n",
       "      <td>240.853890</td>\n",
       "      <td>139.756528</td>\n",
       "      <td>[counselor, marriage, family]</td>\n",
       "      <td>True</td>\n",
       "    </tr>\n",
       "    <tr>\n",
       "      <th>1</th>\n",
       "      <td>1</td>\n",
       "      <td>331.093495</td>\n",
       "      <td>169.285455</td>\n",
       "      <td>[alteration]</td>\n",
       "      <td>True</td>\n",
       "    </tr>\n",
       "    <tr>\n",
       "      <th>2</th>\n",
       "      <td>2</td>\n",
       "      <td>444.533100</td>\n",
       "      <td>102.982944</td>\n",
       "      <td>[design]</td>\n",
       "      <td>True</td>\n",
       "    </tr>\n",
       "    <tr>\n",
       "      <th>3</th>\n",
       "      <td>3</td>\n",
       "      <td>241.245655</td>\n",
       "      <td>131.313644</td>\n",
       "      <td>[laboratory]</td>\n",
       "      <td>True</td>\n",
       "    </tr>\n",
       "    <tr>\n",
       "      <th>4</th>\n",
       "      <td>4</td>\n",
       "      <td>268.624620</td>\n",
       "      <td>106.359270</td>\n",
       "      <td>[painter]</td>\n",
       "      <td>True</td>\n",
       "    </tr>\n",
       "  </tbody>\n",
       "</table>\n",
       "</div>"
      ],
      "text/plain": [
       "   id           x           y                       keywords  scaled\n",
       "0   0  240.853890  139.756528  [counselor, marriage, family]    True\n",
       "1   1  331.093495  169.285455                   [alteration]    True\n",
       "2   2  444.533100  102.982944                       [design]    True\n",
       "3   3  241.245655  131.313644                   [laboratory]    True\n",
       "4   4  268.624620  106.359270                      [painter]    True"
      ]
     },
     "execution_count": 6,
     "metadata": {},
     "output_type": "execute_result"
    }
   ],
   "source": [
    "if fixed_max_keywords:\n",
    "    import random\n",
    "\n",
    "    def clamp_keywords(keywords):\n",
    "        if (len(keywords) < max_keywords):\n",
    "            return keywords\n",
    "        return sorted(random.sample(keywords, max_keywords))\n",
    "    df['keywords'] = df['keywords'].apply(clamp_keywords)\n",
    "\n",
    "df.head()"
   ]
  },
  {
   "cell_type": "code",
   "execution_count": 7,
   "id": "337674a1-d172-43bb-b553-3631d49f1a82",
   "metadata": {},
   "outputs": [
    {
     "data": {
      "text/html": [
       "<div>\n",
       "<style scoped>\n",
       "    .dataframe tbody tr th:only-of-type {\n",
       "        vertical-align: middle;\n",
       "    }\n",
       "\n",
       "    .dataframe tbody tr th {\n",
       "        vertical-align: top;\n",
       "    }\n",
       "\n",
       "    .dataframe thead th {\n",
       "        text-align: right;\n",
       "    }\n",
       "</style>\n",
       "<table border=\"1\" class=\"dataframe\">\n",
       "  <thead>\n",
       "    <tr style=\"text-align: right;\">\n",
       "      <th></th>\n",
       "      <th>id</th>\n",
       "      <th>x</th>\n",
       "      <th>y</th>\n",
       "      <th>keywords</th>\n",
       "      <th>scaled</th>\n",
       "    </tr>\n",
       "  </thead>\n",
       "  <tbody>\n",
       "    <tr>\n",
       "      <th>0</th>\n",
       "      <td>0</td>\n",
       "      <td>240.853890</td>\n",
       "      <td>139.756528</td>\n",
       "      <td>[counselor, family, marriage]</td>\n",
       "      <td>True</td>\n",
       "    </tr>\n",
       "    <tr>\n",
       "      <th>1</th>\n",
       "      <td>1</td>\n",
       "      <td>331.093495</td>\n",
       "      <td>169.285455</td>\n",
       "      <td>[alteration]</td>\n",
       "      <td>True</td>\n",
       "    </tr>\n",
       "    <tr>\n",
       "      <th>2</th>\n",
       "      <td>2</td>\n",
       "      <td>444.533100</td>\n",
       "      <td>102.982944</td>\n",
       "      <td>[design]</td>\n",
       "      <td>True</td>\n",
       "    </tr>\n",
       "    <tr>\n",
       "      <th>3</th>\n",
       "      <td>3</td>\n",
       "      <td>241.245655</td>\n",
       "      <td>131.313644</td>\n",
       "      <td>[laboratory]</td>\n",
       "      <td>True</td>\n",
       "    </tr>\n",
       "    <tr>\n",
       "      <th>4</th>\n",
       "      <td>4</td>\n",
       "      <td>268.624620</td>\n",
       "      <td>106.359270</td>\n",
       "      <td>[painter]</td>\n",
       "      <td>True</td>\n",
       "    </tr>\n",
       "  </tbody>\n",
       "</table>\n",
       "</div>"
      ],
      "text/plain": [
       "   id           x           y                       keywords  scaled\n",
       "0   0  240.853890  139.756528  [counselor, family, marriage]    True\n",
       "1   1  331.093495  169.285455                   [alteration]    True\n",
       "2   2  444.533100  102.982944                       [design]    True\n",
       "3   3  241.245655  131.313644                   [laboratory]    True\n",
       "4   4  268.624620  106.359270                      [painter]    True"
      ]
     },
     "execution_count": 7,
     "metadata": {},
     "output_type": "execute_result"
    }
   ],
   "source": [
    "df['keywords'] = df['keywords'].apply(sorted)\n",
    "df.head()"
   ]
  },
  {
   "cell_type": "markdown",
   "id": "22fa69ad-38ef-47f2-a615-ee12b9075d47",
   "metadata": {},
   "source": [
    "### Visualize"
   ]
  },
  {
   "cell_type": "code",
   "execution_count": 8,
   "id": "0e5f0db7-72be-4298-8cf7-5373a1d4b015",
   "metadata": {},
   "outputs": [
    {
     "data": {
      "text/plain": [
       "<Axes: xlabel='x', ylabel='y'>"
      ]
     },
     "execution_count": 8,
     "metadata": {},
     "output_type": "execute_result"
    },
    {
     "data": {
      "image/png": "[encoded data removed]",
      "text/plain": [
       "<Figure size 640x480 with 1 Axes>"
      ]
     },
     "metadata": {},
     "output_type": "display_data"
    }
   ],
   "source": [
    "sns.scatterplot(x=\"x\", y=\"y\", data=df.loc[:, [\"x\", \"y\"]])"
   ]
  },
  {
   "cell_type": "markdown",
   "id": "be519eb3-2397-4a60-ab65-f5bcf70b984c",
   "metadata": {},
   "source": [
    "### Export"
   ]
  },
  {
   "cell_type": "code",
   "execution_count": 9,
   "id": "14a9535c",
   "metadata": {},
   "outputs": [],
   "source": [
    "# fail"
   ]
  },
  {
   "cell_type": "code",
   "execution_count": 10,
   "id": "fd5599a2-9f7d-45a2-ad2e-88167acb6d6d",
   "metadata": {},
   "outputs": [],
   "source": [
    "output_name = f'{output_dir}places_o{num_objects}_q{num_queries}'\n",
    "\n",
    "if (should_scale and not spatial_uni):\n",
    "    output_name += f'_scaled'\n",
    "\n",
    "if (spatial_uni):\n",
    "    output_name += f'_spatialuni'\n",
    "\n",
    "if (min_keywords != 0):\n",
    "    output_name += f'_minkeys' + str(min_keywords)\n",
    "\n",
    "if fixed_max_keywords:\n",
    "    output_name += f'_maxkeys' + str(max_keywords)\n",
    "\n",
    "if random_limited_query_span:\n",
    "    output_name += f'_varspan'\n",
    "\n",
    "if shuffle:\n",
    "    output_name += f'_shuffled'"
   ]
  },
  {
   "cell_type": "code",
   "execution_count": 11,
   "id": "e5caa611-b0fc-4fc6-819b-e8ca9aeee6c3",
   "metadata": {},
   "outputs": [
    {
     "data": {
      "text/html": [
       "<div>\n",
       "<style scoped>\n",
       "    .dataframe tbody tr th:only-of-type {\n",
       "        vertical-align: middle;\n",
       "    }\n",
       "\n",
       "    .dataframe tbody tr th {\n",
       "        vertical-align: top;\n",
       "    }\n",
       "\n",
       "    .dataframe thead th {\n",
       "        text-align: right;\n",
       "    }\n",
       "</style>\n",
       "<table border=\"1\" class=\"dataframe\">\n",
       "  <thead>\n",
       "    <tr style=\"text-align: right;\">\n",
       "      <th></th>\n",
       "      <th>id</th>\n",
       "      <th>x</th>\n",
       "      <th>y</th>\n",
       "      <th>keywords</th>\n",
       "      <th>scaled</th>\n",
       "      <th>step</th>\n",
       "      <th>min_x</th>\n",
       "      <th>min_y</th>\n",
       "      <th>max_x</th>\n",
       "      <th>max_y</th>\n",
       "      <th>et</th>\n",
       "    </tr>\n",
       "  </thead>\n",
       "  <tbody>\n",
       "    <tr>\n",
       "      <th>0</th>\n",
       "      <td>0</td>\n",
       "      <td>240.853890</td>\n",
       "      <td>139.756528</td>\n",
       "      <td>[counselor, family, marriage]</td>\n",
       "      <td>True</td>\n",
       "      <td>10.453174</td>\n",
       "      <td>230.400716</td>\n",
       "      <td>129.303354</td>\n",
       "      <td>251.307065</td>\n",
       "      <td>150.209703</td>\n",
       "      <td>2000000</td>\n",
       "    </tr>\n",
       "    <tr>\n",
       "      <th>1</th>\n",
       "      <td>1</td>\n",
       "      <td>331.093495</td>\n",
       "      <td>169.285455</td>\n",
       "      <td>[alteration]</td>\n",
       "      <td>True</td>\n",
       "      <td>39.853749</td>\n",
       "      <td>291.239746</td>\n",
       "      <td>129.431706</td>\n",
       "      <td>370.947244</td>\n",
       "      <td>209.139204</td>\n",
       "      <td>2000000</td>\n",
       "    </tr>\n",
       "    <tr>\n",
       "      <th>2</th>\n",
       "      <td>2</td>\n",
       "      <td>444.533100</td>\n",
       "      <td>102.982944</td>\n",
       "      <td>[design]</td>\n",
       "      <td>True</td>\n",
       "      <td>24.126728</td>\n",
       "      <td>420.406372</td>\n",
       "      <td>78.856216</td>\n",
       "      <td>468.659829</td>\n",
       "      <td>127.109673</td>\n",
       "      <td>2000000</td>\n",
       "    </tr>\n",
       "    <tr>\n",
       "      <th>3</th>\n",
       "      <td>3</td>\n",
       "      <td>241.245655</td>\n",
       "      <td>131.313644</td>\n",
       "      <td>[laboratory]</td>\n",
       "      <td>True</td>\n",
       "      <td>47.190638</td>\n",
       "      <td>194.055017</td>\n",
       "      <td>84.123006</td>\n",
       "      <td>288.436293</td>\n",
       "      <td>178.504282</td>\n",
       "      <td>2000000</td>\n",
       "    </tr>\n",
       "    <tr>\n",
       "      <th>4</th>\n",
       "      <td>4</td>\n",
       "      <td>268.624620</td>\n",
       "      <td>106.359270</td>\n",
       "      <td>[painter]</td>\n",
       "      <td>True</td>\n",
       "      <td>12.805196</td>\n",
       "      <td>255.819424</td>\n",
       "      <td>93.554074</td>\n",
       "      <td>281.429816</td>\n",
       "      <td>119.164466</td>\n",
       "      <td>2000000</td>\n",
       "    </tr>\n",
       "  </tbody>\n",
       "</table>\n",
       "</div>"
      ],
      "text/plain": [
       "   id           x           y                       keywords  scaled  \\\n",
       "0   0  240.853890  139.756528  [counselor, family, marriage]    True   \n",
       "1   1  331.093495  169.285455                   [alteration]    True   \n",
       "2   2  444.533100  102.982944                       [design]    True   \n",
       "3   3  241.245655  131.313644                   [laboratory]    True   \n",
       "4   4  268.624620  106.359270                      [painter]    True   \n",
       "\n",
       "        step       min_x       min_y       max_x       max_y       et  \n",
       "0  10.453174  230.400716  129.303354  251.307065  150.209703  2000000  \n",
       "1  39.853749  291.239746  129.431706  370.947244  209.139204  2000000  \n",
       "2  24.126728  420.406372   78.856216  468.659829  127.109673  2000000  \n",
       "3  47.190638  194.055017   84.123006  288.436293  178.504282  2000000  \n",
       "4  12.805196  255.819424   93.554074  281.429816  119.164466  2000000  "
      ]
     },
     "execution_count": 11,
     "metadata": {},
     "output_type": "execute_result"
    }
   ],
   "source": [
    "rng = np.random.default_rng()\n",
    "\n",
    "step = grid_range * query_span\n",
    "q_df = df.iloc[:num_objects, :].copy()\n",
    "\n",
    "if random_limited_query_span:\n",
    "    q_df['step'] = [step * rng.random() for _ in range(q_df.shape[0])]\n",
    "else:\n",
    "    q_df['step'] = [step for _ in range(q_df.shape[0])]\n",
    "\n",
    "q_df['min_x'] = (q_df['x'] - q_df['step']).clip(0, 512)\n",
    "q_df['min_y'] = (q_df['y'] - q_df['step']).clip(0, 512)\n",
    "q_df['max_x'] = (q_df['x'] + q_df['step']).clip(0, 512)\n",
    "q_df['max_y'] = (q_df['y'] + q_df['step']).clip(0, 512)\n",
    "\n",
    "q_df['et'] = num_queries + num_objects\n",
    "\n",
    "q_df.head()"
   ]
  },
  {
   "cell_type": "code",
   "execution_count": 12,
   "id": "781a1f82",
   "metadata": {},
   "outputs": [
    {
     "name": "stdout",
     "output_type": "stream",
     "text": [
      "/scratch1/ukumaras/datasets/exported/places_o1000000_q1000000_scaled_minkeys1_maxkeys7_varspan_shuffled_queries.jsonl\n"
     ]
    }
   ],
   "source": [
    "q_df.to_json(f'{output_name}_queries.jsonl', orient='records', lines=True)\n",
    "print(f'{output_name}_queries.jsonl')"
   ]
  },
  {
   "cell_type": "code",
   "execution_count": 13,
   "id": "bafd072c-febe-4eea-ad40-684cbcdd9977",
   "metadata": {},
   "outputs": [
    {
     "name": "stdout",
     "output_type": "stream",
     "text": [
      "/scratch1/ukumaras/datasets/exported/places_o1000000_q1000000_scaled_minkeys1_maxkeys7_varspan_shuffled_objects.jsonl\n"
     ]
    }
   ],
   "source": [
    "df.iloc[num_objects:num_objects+num_queries, :].to_json(f'{output_name}_objects.jsonl', orient='records', lines=True)\n",
    "print(f'{output_name}_objects.jsonl')"
   ]
  },
  {
   "cell_type": "code",
   "execution_count": 14,
   "id": "7920ab3b-64cc-44f4-89e4-11c1746c288b",
   "metadata": {},
   "outputs": [
    {
     "data": {
      "text/plain": [
       "(2000000, 5)"
      ]
     },
     "execution_count": 14,
     "metadata": {},
     "output_type": "execute_result"
    }
   ],
   "source": [
    "df.shape"
   ]
  },
  {
   "cell_type": "code",
   "execution_count": null,
   "id": "58bc68a2-eeac-46bd-9490-9372f801cb80",
   "metadata": {},
   "outputs": [],
   "source": []
  },
  {
   "cell_type": "code",
   "execution_count": null,
   "id": "5f916981-e678-4305-9675-f789def601b6",
   "metadata": {},
   "outputs": [],
   "source": []
  }
 ],
 "metadata": {
  "kernelspec": {
   "display_name": "fast",
   "language": "python",
   "name": "python3"
  },
  "language_info": {
   "codemirror_mode": {
    "name": "ipython",
    "version": 3
   },
   "file_extension": ".py",
   "mimetype": "text/x-python",
   "name": "python",
   "nbconvert_exporter": "python",
   "pygments_lexer": "ipython3",
   "version": "3.12.4"
  }
 },
 "nbformat": 4,
 "nbformat_minor": 5
}
