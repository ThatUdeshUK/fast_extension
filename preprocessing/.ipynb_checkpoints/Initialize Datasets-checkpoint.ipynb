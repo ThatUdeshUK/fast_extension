{
 "cells": [
  {
   "cell_type": "markdown",
   "id": "8dbc52aa-c1d6-4d5e-b772-589f8cd88ac6",
   "metadata": {},
   "source": [
    "# Initialize Datasets\n",
    "## Places"
   ]
  },
  {
   "cell_type": "code",
   "execution_count": 1,
   "id": "661b3428-d011-4cdb-bd65-116d475ea9b2",
   "metadata": {},
   "outputs": [],
   "source": [
    "import pandas as pd\n",
    "import numpy as np\n",
    "import seaborn as sns\n",
    "\n",
    "import json\n",
    "from tqdm import tqdm"
   ]
  },
  {
   "cell_type": "markdown",
   "id": "f32bf000-5a12-4b36-ad46-d5209deb8984",
   "metadata": {},
   "source": [
    "### Dataset Parameters"
   ]
  },
  {
   "cell_type": "code",
   "execution_count": 2,
   "id": "576ef979-0f44-4ecb-a049-fa916b1d8f4a",
   "metadata": {},
   "outputs": [],
   "source": [
    "ds_path = \"../../data/places_dump_US.geojson\"\n",
    "output_dir = \"../../data/exported/\"\n",
    "\n",
    "num_objects = 100000 * 2\n",
    "num_queries = 2500000\n",
    "\n",
    "should_scale = True\n",
    "grid_range = 512\n",
    "spatial_uni = True\n",
    "\n",
    "seed = 7"
   ]
  },
  {
   "cell_type": "markdown",
   "id": "d9ddd54a-8924-4928-9204-dfef29e9c894",
   "metadata": {},
   "source": [
    "### Load Data"
   ]
  },
  {
   "cell_type": "code",
   "execution_count": 3,
   "id": "aad2d2a5-b38b-4489-96a2-574e2de17e55",
   "metadata": {},
   "outputs": [
    {
     "name": "stderr",
     "output_type": "stream",
     "text": [
      "3688890it [00:33, 111396.13it/s]\n"
     ]
    },
    {
     "data": {
      "text/html": [
       "<div>\n",
       "<style scoped>\n",
       "    .dataframe tbody tr th:only-of-type {\n",
       "        vertical-align: middle;\n",
       "    }\n",
       "\n",
       "    .dataframe tbody tr th {\n",
       "        vertical-align: top;\n",
       "    }\n",
       "\n",
       "    .dataframe thead th {\n",
       "        text-align: right;\n",
       "    }\n",
       "</style>\n",
       "<table border=\"1\" class=\"dataframe\">\n",
       "  <thead>\n",
       "    <tr style=\"text-align: right;\">\n",
       "      <th></th>\n",
       "      <th>id</th>\n",
       "      <th>x</th>\n",
       "      <th>y</th>\n",
       "      <th>keywords</th>\n",
       "      <th>scaled</th>\n",
       "    </tr>\n",
       "  </thead>\n",
       "  <tbody>\n",
       "    <tr>\n",
       "      <th>0</th>\n",
       "      <td>0</td>\n",
       "      <td>-149.879187</td>\n",
       "      <td>61.215592</td>\n",
       "      <td>[mental]</td>\n",
       "      <td>False</td>\n",
       "    </tr>\n",
       "    <tr>\n",
       "      <th>1</th>\n",
       "      <td>1</td>\n",
       "      <td>-149.865410</td>\n",
       "      <td>61.207108</td>\n",
       "      <td>[vitamin]</td>\n",
       "      <td>False</td>\n",
       "    </tr>\n",
       "    <tr>\n",
       "      <th>2</th>\n",
       "      <td>2</td>\n",
       "      <td>-151.288153</td>\n",
       "      <td>60.661282</td>\n",
       "      <td>[repair]</td>\n",
       "      <td>False</td>\n",
       "    </tr>\n",
       "    <tr>\n",
       "      <th>3</th>\n",
       "      <td>3</td>\n",
       "      <td>-134.585427</td>\n",
       "      <td>58.375872</td>\n",
       "      <td>[tackle, parts, fishing]</td>\n",
       "      <td>False</td>\n",
       "    </tr>\n",
       "    <tr>\n",
       "      <th>4</th>\n",
       "      <td>4</td>\n",
       "      <td>-149.858773</td>\n",
       "      <td>61.105785</td>\n",
       "      <td>[food, covered, crop]</td>\n",
       "      <td>False</td>\n",
       "    </tr>\n",
       "  </tbody>\n",
       "</table>\n",
       "</div>"
      ],
      "text/plain": [
       "   id           x          y                  keywords  scaled\n",
       "0   0 -149.879187  61.215592                  [mental]   False\n",
       "1   1 -149.865410  61.207108                 [vitamin]   False\n",
       "2   2 -151.288153  60.661282                  [repair]   False\n",
       "3   3 -134.585427  58.375872  [tackle, parts, fishing]   False\n",
       "4   4 -149.858773  61.105785     [food, covered, crop]   False"
      ]
     },
     "execution_count": 3,
     "metadata": {},
     "output_type": "execute_result"
    }
   ],
   "source": [
    "content = []\n",
    "\n",
    "with open(ds_path, \"r\") as f:\n",
    "    place_id = 0\n",
    "    for i, line in tqdm(enumerate(f)):\n",
    "        if (len(content) >= num_objects + num_queries):\n",
    "            break\n",
    "\n",
    "        place = json.loads(line)\n",
    "        if ('id' in place and 'properties' in place and 'tags' in place['properties']):\n",
    "            \n",
    "            content.append({\n",
    "                \"id\": place_id,\n",
    "                \"x\": place['geometry']['coordinates'][0],\n",
    "                \"y\": place['geometry']['coordinates'][1],\n",
    "                \"keywords\": place['properties']['tags'],\n",
    "                \"scaled\": False\n",
    "            })\n",
    "            place_id += 1;\n",
    "\n",
    "\n",
    "df = pd.DataFrame(content)\n",
    "df.head()"
   ]
  },
  {
   "cell_type": "markdown",
   "id": "d186e3c8-347b-4546-8c8f-c1a636ec051e",
   "metadata": {},
   "source": [
    "### Pre-process"
   ]
  },
  {
   "cell_type": "code",
   "execution_count": 4,
   "id": "76c70550-2e5a-4d17-8a4b-21ae067a4986",
   "metadata": {},
   "outputs": [
    {
     "data": {
      "text/html": [
       "<div>\n",
       "<style scoped>\n",
       "    .dataframe tbody tr th:only-of-type {\n",
       "        vertical-align: middle;\n",
       "    }\n",
       "\n",
       "    .dataframe tbody tr th {\n",
       "        vertical-align: top;\n",
       "    }\n",
       "\n",
       "    .dataframe thead th {\n",
       "        text-align: right;\n",
       "    }\n",
       "</style>\n",
       "<table border=\"1\" class=\"dataframe\">\n",
       "  <thead>\n",
       "    <tr style=\"text-align: right;\">\n",
       "      <th></th>\n",
       "      <th>id</th>\n",
       "      <th>x</th>\n",
       "      <th>y</th>\n",
       "      <th>keywords</th>\n",
       "      <th>scaled</th>\n",
       "    </tr>\n",
       "  </thead>\n",
       "  <tbody>\n",
       "    <tr>\n",
       "      <th>0</th>\n",
       "      <td>0</td>\n",
       "      <td>90.094534</td>\n",
       "      <td>413.143133</td>\n",
       "      <td>[mental]</td>\n",
       "      <td>True</td>\n",
       "    </tr>\n",
       "    <tr>\n",
       "      <th>1</th>\n",
       "      <td>1</td>\n",
       "      <td>90.168974</td>\n",
       "      <td>413.059985</td>\n",
       "      <td>[vitamin]</td>\n",
       "      <td>True</td>\n",
       "    </tr>\n",
       "    <tr>\n",
       "      <th>2</th>\n",
       "      <td>2</td>\n",
       "      <td>82.481609</td>\n",
       "      <td>407.710595</td>\n",
       "      <td>[repair]</td>\n",
       "      <td>True</td>\n",
       "    </tr>\n",
       "    <tr>\n",
       "      <th>3</th>\n",
       "      <td>3</td>\n",
       "      <td>172.729778</td>\n",
       "      <td>385.312337</td>\n",
       "      <td>[tackle, parts, fishing]</td>\n",
       "      <td>True</td>\n",
       "    </tr>\n",
       "    <tr>\n",
       "      <th>4</th>\n",
       "      <td>4</td>\n",
       "      <td>90.204835</td>\n",
       "      <td>412.066965</td>\n",
       "      <td>[food, covered, crop]</td>\n",
       "      <td>True</td>\n",
       "    </tr>\n",
       "  </tbody>\n",
       "</table>\n",
       "</div>"
      ],
      "text/plain": [
       "   id           x           y                  keywords  scaled\n",
       "0   0   90.094534  413.143133                  [mental]    True\n",
       "1   1   90.168974  413.059985                 [vitamin]    True\n",
       "2   2   82.481609  407.710595                  [repair]    True\n",
       "3   3  172.729778  385.312337  [tackle, parts, fishing]    True\n",
       "4   4   90.204835  412.066965     [food, covered, crop]    True"
      ]
     },
     "execution_count": 4,
     "metadata": {},
     "output_type": "execute_result"
    }
   ],
   "source": [
    "def scale(c, minc, maxc):\n",
    "    return (c - minc) * grid_range / (maxc - minc)\n",
    "\n",
    "\n",
    "if should_scale and not spatial_uni:\n",
    "    minx = df['x'].min()\n",
    "    miny = df['y'].min()\n",
    "    maxx = df['x'].max()\n",
    "    maxy = df['y'].max()\n",
    "    \n",
    "    df['x'] = df['x'].apply(lambda x: scale(x, minx, maxx))\n",
    "    df['y'] = df['y'].apply(lambda y: scale(y, miny, maxy))\n",
    "    df['scaled'] = True\n",
    "\n",
    "df.head()"
   ]
  },
  {
   "cell_type": "markdown",
   "id": "84cb2523-41da-45ec-8100-cb12ea0cda0c",
   "metadata": {},
   "source": [
    "### Uniform Sample"
   ]
  },
  {
   "cell_type": "code",
   "execution_count": 18,
   "id": "0d29fef8-6578-488a-9c9e-a010bef67d41",
   "metadata": {},
   "outputs": [
    {
     "data": {
      "text/html": [
       "<div>\n",
       "<style scoped>\n",
       "    .dataframe tbody tr th:only-of-type {\n",
       "        vertical-align: middle;\n",
       "    }\n",
       "\n",
       "    .dataframe tbody tr th {\n",
       "        vertical-align: top;\n",
       "    }\n",
       "\n",
       "    .dataframe thead th {\n",
       "        text-align: right;\n",
       "    }\n",
       "</style>\n",
       "<table border=\"1\" class=\"dataframe\">\n",
       "  <thead>\n",
       "    <tr style=\"text-align: right;\">\n",
       "      <th></th>\n",
       "      <th>x</th>\n",
       "      <th>y</th>\n",
       "    </tr>\n",
       "  </thead>\n",
       "  <tbody>\n",
       "    <tr>\n",
       "      <th>0</th>\n",
       "      <td>441.550743</td>\n",
       "      <td>354.792299</td>\n",
       "    </tr>\n",
       "    <tr>\n",
       "      <th>1</th>\n",
       "      <td>244.669082</td>\n",
       "      <td>219.550610</td>\n",
       "    </tr>\n",
       "    <tr>\n",
       "      <th>2</th>\n",
       "      <td>59.438119</td>\n",
       "      <td>20.993815</td>\n",
       "    </tr>\n",
       "    <tr>\n",
       "      <th>3</th>\n",
       "      <td>309.403653</td>\n",
       "      <td>410.423565</td>\n",
       "    </tr>\n",
       "    <tr>\n",
       "      <th>4</th>\n",
       "      <td>188.949799</td>\n",
       "      <td>178.736735</td>\n",
       "    </tr>\n",
       "  </tbody>\n",
       "</table>\n",
       "</div>"
      ],
      "text/plain": [
       "            x           y\n",
       "0  441.550743  354.792299\n",
       "1  244.669082  219.550610\n",
       "2   59.438119   20.993815\n",
       "3  309.403653  410.423565\n",
       "4  188.949799  178.736735"
      ]
     },
     "execution_count": 18,
     "metadata": {},
     "output_type": "execute_result"
    }
   ],
   "source": [
    "if spatial_uni:\n",
    "    sample = pd.DataFrame(np.random.uniform(0, 512, (num_objects + num_queries, 2)), columns=['x', 'y'])\n",
    "    \n",
    "    df['x'] = sample['x']\n",
    "    df['y'] = sample['y']\n",
    "\n",
    "df.head()"
   ]
  },
  {
   "cell_type": "markdown",
   "id": "22fa69ad-38ef-47f2-a615-ee12b9075d47",
   "metadata": {},
   "source": [
    "### Visualize"
   ]
  },
  {
   "cell_type": "code",
   "execution_count": 5,
   "id": "0e5f0db7-72be-4298-8cf7-5373a1d4b015",
   "metadata": {},
   "outputs": [
    {
     "name": "stderr",
     "output_type": "stream",
     "text": [
      "/Users/udeshuk/Library/miniconda3/envs/fast/lib/python3.11/site-packages/seaborn/_oldcore.py:1498: FutureWarning: is_categorical_dtype is deprecated and will be removed in a future version. Use isinstance(dtype, CategoricalDtype) instead\n",
      "  if pd.api.types.is_categorical_dtype(vector):\n",
      "/Users/udeshuk/Library/miniconda3/envs/fast/lib/python3.11/site-packages/seaborn/_oldcore.py:1498: FutureWarning: is_categorical_dtype is deprecated and will be removed in a future version. Use isinstance(dtype, CategoricalDtype) instead\n",
      "  if pd.api.types.is_categorical_dtype(vector):\n"
     ]
    },
    {
     "data": {
      "text/plain": [
       "<Axes: xlabel='x', ylabel='y'>"
      ]
     },
     "execution_count": 5,
     "metadata": {},
     "output_type": "execute_result"
    },
    {
     "data": {
      "image/png": "[encoded data removed]",
      "text/plain": [
       "<Figure size 640x480 with 1 Axes>"
      ]
     },
     "metadata": {},
     "output_type": "display_data"
    }
   ],
   "source": [
    "sns.scatterplot(x=\"x\", y=\"y\", data=df.loc[:, [\"x\", \"y\"]])"
   ]
  },
  {
   "cell_type": "markdown",
   "id": "be519eb3-2397-4a60-ab65-f5bcf70b984c",
   "metadata": {},
   "source": [
    "### Export"
   ]
  },
  {
   "cell_type": "code",
   "execution_count": 9,
   "id": "c1d95aa8-4c73-4e98-87f6-c8ce896180f6",
   "metadata": {},
   "outputs": [
    {
     "name": "stdout",
     "output_type": "stream",
     "text": [
      "../../data/exported/places_o200000_q2500000_scaled.json\n"
     ]
    }
   ],
   "source": [
    "output_name = f'{output_dir}places_o{num_objects}_q{num_queries}'\n",
    "\n",
    "if (should_scale and not spatial_uni):\n",
    "    output_name += f'_scaled'\n",
    "\n",
    "if (spatial_uni):\n",
    "    output_name += f'_spatialuni'\n",
    "\n",
    "df.to_json(f'{output_name}.json', orient='records', lines=True)\n",
    "print(f'{output_name}.json')"
   ]
  },
  {
   "cell_type": "code",
   "execution_count": null,
   "id": "7920ab3b-64cc-44f4-89e4-11c1746c288b",
   "metadata": {},
   "outputs": [],
   "source": []
  }
 ],
 "metadata": {
  "kernelspec": {
   "display_name": "Python 3 (ipykernel)",
   "language": "python",
   "name": "python3"
  },
  "language_info": {
   "codemirror_mode": {
    "name": "ipython",
    "version": 3
   },
   "file_extension": ".py",
   "mimetype": "text/x-python",
   "name": "python",
   "nbconvert_exporter": "python",
   "pygments_lexer": "ipython3",
   "version": "3.11.5"
  }
 },
 "nbformat": 4,
 "nbformat_minor": 5
}
