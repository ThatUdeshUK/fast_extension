{
 "cells": [
  {
   "cell_type": "markdown",
   "id": "8dbc52aa-c1d6-4d5e-b772-589f8cd88ac6",
   "metadata": {},
   "source": [
    "# Initialize Datasets\n",
    "## Places"
   ]
  },
  {
   "cell_type": "code",
   "execution_count": 1,
   "id": "661b3428-d011-4cdb-bd65-116d475ea9b2",
   "metadata": {},
   "outputs": [],
   "source": [
    "import pandas as pd\n",
    "import numpy as np\n",
    "import seaborn as sns\n",
    "\n",
    "import json\n",
    "from tqdm import tqdm"
   ]
  },
  {
   "cell_type": "markdown",
   "id": "f32bf000-5a12-4b36-ad46-d5209deb8984",
   "metadata": {},
   "source": [
    "### Dataset Parameters"
   ]
  },
  {
   "cell_type": "code",
   "execution_count": 2,
   "id": "576ef979-0f44-4ecb-a049-fa916b1d8f4a",
   "metadata": {},
   "outputs": [],
   "source": [
    "ds_path = \"../../data/exported/places_o200000_q2500000_scaled.json\"\n",
    "inf_path = \"../../data/exported/places_o200000_q2500000_scaled.inf.csv\"\n",
    "output_dir = \"../../data/exported/\"\n",
    "\n",
    "num_objects = 100000 * 2"
   ]
  },
  {
   "cell_type": "markdown",
   "id": "d9ddd54a-8924-4928-9204-dfef29e9c894",
   "metadata": {},
   "source": [
    "### Load Data"
   ]
  },
  {
   "cell_type": "code",
   "execution_count": 15,
   "id": "a73deae0-bab9-4bc1-9899-88661d0f22fe",
   "metadata": {},
   "outputs": [
    {
     "data": {
      "text/html": [
       "<div>\n",
       "<style scoped>\n",
       "    .dataframe tbody tr th:only-of-type {\n",
       "        vertical-align: middle;\n",
       "    }\n",
       "\n",
       "    .dataframe tbody tr th {\n",
       "        vertical-align: top;\n",
       "    }\n",
       "\n",
       "    .dataframe thead th {\n",
       "        text-align: right;\n",
       "    }\n",
       "</style>\n",
       "<table border=\"1\" class=\"dataframe\">\n",
       "  <thead>\n",
       "    <tr style=\"text-align: right;\">\n",
       "      <th></th>\n",
       "      <th>index</th>\n",
       "      <th>x</th>\n",
       "      <th>y</th>\n",
       "      <th>keywords</th>\n",
       "      <th>scaled</th>\n",
       "    </tr>\n",
       "  </thead>\n",
       "  <tbody>\n",
       "    <tr>\n",
       "      <th>0</th>\n",
       "      <td>0</td>\n",
       "      <td>282.138698</td>\n",
       "      <td>151.113065</td>\n",
       "      <td>[physician, surgeon]</td>\n",
       "      <td>True</td>\n",
       "    </tr>\n",
       "    <tr>\n",
       "      <th>1</th>\n",
       "      <td>1</td>\n",
       "      <td>295.309161</td>\n",
       "      <td>141.425445</td>\n",
       "      <td>[roofing, consultant]</td>\n",
       "      <td>True</td>\n",
       "    </tr>\n",
       "    <tr>\n",
       "      <th>2</th>\n",
       "      <td>2</td>\n",
       "      <td>294.304889</td>\n",
       "      <td>141.179529</td>\n",
       "      <td>[appliance]</td>\n",
       "      <td>True</td>\n",
       "    </tr>\n",
       "    <tr>\n",
       "      <th>3</th>\n",
       "      <td>3</td>\n",
       "      <td>294.975799</td>\n",
       "      <td>140.572582</td>\n",
       "      <td>[electric, motor]</td>\n",
       "      <td>True</td>\n",
       "    </tr>\n",
       "    <tr>\n",
       "      <th>4</th>\n",
       "      <td>4</td>\n",
       "      <td>295.225233</td>\n",
       "      <td>140.466756</td>\n",
       "      <td>[plant, packing]</td>\n",
       "      <td>True</td>\n",
       "    </tr>\n",
       "  </tbody>\n",
       "</table>\n",
       "</div>"
      ],
      "text/plain": [
       "   index           x           y               keywords  scaled\n",
       "0      0  282.138698  151.113065   [physician, surgeon]    True\n",
       "1      1  295.309161  141.425445  [roofing, consultant]    True\n",
       "2      2  294.304889  141.179529            [appliance]    True\n",
       "3      3  294.975799  140.572582      [electric, motor]    True\n",
       "4      4  295.225233  140.466756       [plant, packing]    True"
      ]
     },
     "execution_count": 15,
     "metadata": {},
     "output_type": "execute_result"
    }
   ],
   "source": [
    "df = pd.read_json(ds_path, lines=True).iloc[200000:, :].reset_index(drop=True).drop(columns=['id']).reset_index()\n",
    "df.head()"
   ]
  },
  {
   "cell_type": "code",
   "execution_count": 17,
   "id": "915899c6-f854-4f74-a23e-a0f62310fbf1",
   "metadata": {},
   "outputs": [
    {
     "name": "stdout",
     "output_type": "stream",
     "text": [
      "(69, 2)\n"
     ]
    },
    {
     "data": {
      "text/html": [
       "<div>\n",
       "<style scoped>\n",
       "    .dataframe tbody tr th:only-of-type {\n",
       "        vertical-align: middle;\n",
       "    }\n",
       "\n",
       "    .dataframe tbody tr th {\n",
       "        vertical-align: top;\n",
       "    }\n",
       "\n",
       "    .dataframe thead th {\n",
       "        text-align: right;\n",
       "    }\n",
       "</style>\n",
       "<table border=\"1\" class=\"dataframe\">\n",
       "  <thead>\n",
       "    <tr style=\"text-align: right;\">\n",
       "      <th></th>\n",
       "      <th>Unnamed: 0</th>\n",
       "      <th>index</th>\n",
       "    </tr>\n",
       "  </thead>\n",
       "  <tbody>\n",
       "    <tr>\n",
       "      <th>0</th>\n",
       "      <td>15152</td>\n",
       "      <td>15152</td>\n",
       "    </tr>\n",
       "    <tr>\n",
       "      <th>1</th>\n",
       "      <td>40653</td>\n",
       "      <td>40653</td>\n",
       "    </tr>\n",
       "    <tr>\n",
       "      <th>2</th>\n",
       "      <td>2447523</td>\n",
       "      <td>2447523</td>\n",
       "    </tr>\n",
       "    <tr>\n",
       "      <th>3</th>\n",
       "      <td>979719</td>\n",
       "      <td>979719</td>\n",
       "    </tr>\n",
       "    <tr>\n",
       "      <th>4</th>\n",
       "      <td>2147397</td>\n",
       "      <td>2147397</td>\n",
       "    </tr>\n",
       "  </tbody>\n",
       "</table>\n",
       "</div>"
      ],
      "text/plain": [
       "   Unnamed: 0    index\n",
       "0       15152    15152\n",
       "1       40653    40653\n",
       "2     2447523  2447523\n",
       "3      979719   979719\n",
       "4     2147397  2147397"
      ]
     },
     "execution_count": 17,
     "metadata": {},
     "output_type": "execute_result"
    }
   ],
   "source": [
    "inf = pd.read_csv(inf_path)\n",
    "\n",
    "print(inf.shape)\n",
    "inf.head()"
   ]
  },
  {
   "cell_type": "markdown",
   "id": "d186e3c8-347b-4546-8c8f-c1a636ec051e",
   "metadata": {},
   "source": [
    "### Remove inf queries"
   ]
  },
  {
   "cell_type": "code",
   "execution_count": 11,
   "id": "76c70550-2e5a-4d17-8a4b-21ae067a4986",
   "metadata": {},
   "outputs": [
    {
     "data": {
      "text/plain": [
       "(2499931, 5)"
      ]
     },
     "execution_count": 11,
     "metadata": {},
     "output_type": "execute_result"
    }
   ],
   "source": [
    "df = df[~df['index'].isin(inf['index'].values)]\n",
    "\n",
    "df.shape"
   ]
  },
  {
   "cell_type": "markdown",
   "id": "be519eb3-2397-4a60-ab65-f5bcf70b984c",
   "metadata": {},
   "source": [
    "### Export"
   ]
  },
  {
   "cell_type": "code",
   "execution_count": 13,
   "id": "c1d95aa8-4c73-4e98-87f6-c8ce896180f6",
   "metadata": {},
   "outputs": [
    {
     "name": "stdout",
     "output_type": "stream",
     "text": [
      "../../data/exported/places_o200000_q2500000_scaled.no_inf.json\n"
     ]
    }
   ],
   "source": [
    "output_name = ds_path[:-5] + \".no_inf\"\n",
    "\n",
    "df.to_json(f'{output_name}.json', orient='records', lines=True)\n",
    "print(f'{output_name}.json')"
   ]
  },
  {
   "cell_type": "code",
   "execution_count": null,
   "id": "7920ab3b-64cc-44f4-89e4-11c1746c288b",
   "metadata": {},
   "outputs": [],
   "source": []
  }
 ],
 "metadata": {
  "kernelspec": {
   "display_name": "Python 3 (ipykernel)",
   "language": "python",
   "name": "python3"
  },
  "language_info": {
   "codemirror_mode": {
    "name": "ipython",
    "version": 3
   },
   "file_extension": ".py",
   "mimetype": "text/x-python",
   "name": "python",
   "nbconvert_exporter": "python",
   "pygments_lexer": "ipython3",
   "version": "3.11.5"
  }
 },
 "nbformat": 4,
 "nbformat_minor": 5
}
